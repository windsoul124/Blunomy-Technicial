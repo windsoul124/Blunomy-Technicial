{
 "cells": [
  {
   "cell_type": "markdown",
   "source": [
    "# Data Aggregation\n",
    "In this notebook, I will aggregate the PERSON, VEHICLE, ACCIDENT_EVENT with ACCIDENT_NO. Try to find the meaningful aggregated features to fit in the model"
   ],
   "metadata": {
    "collapsed": false
   },
   "id": "6aa50e36cf1f872e"
  },
  {
   "cell_type": "code",
   "execution_count": 19,
   "outputs": [],
   "source": [
    "import pandas as pd\n",
    "import numpy as np\n",
    "\n",
    "# Load the all the dataset from Dataset folder\n",
    "def load_dataset(file_name):\n",
    "    return pd.read_csv(f'Dataset/{file_name}', low_memory=False)\n",
    "\n",
    "file_list = [\n",
    "    'ACCIDENT.csv',\n",
    "    'ACCIDENT_CHAINAGE.csv',\n",
    "    'ACCIDENT_EVENT.csv',\n",
    "    'ACCIDENT_LOCATION.csv',\n",
    "    'ATMOSPHERIC_COND.csv',\n",
    "    'NODE.csv',\n",
    "    'NODE_ID_COMPLEX_INT_ID.csv',\n",
    "    'PERSON.csv',\n",
    "    'ROAD_SURFACE_COND.csv',\n",
    "    'SUBDCA.csv',\n",
    "    'VEHICLE.csv'\n",
    "]\n",
    "# Load all datasets into a dictionary\n",
    "datasets = {file_name.split('.')[0]: load_dataset(file_name) for file_name in file_list}\n",
    "# Save the datasets to a dictionary for further processing\n",
    "datasets = {\n",
    "    'ACCIDENT': load_dataset('ACCIDENT.csv'),\n",
    "    'ACCIDENT_CHAINAGE': load_dataset('ACCIDENT_CHAINAGE.csv'),\n",
    "    'ACCIDENT_EVENT': load_dataset('ACCIDENT_EVENT.csv'),\n",
    "    'ACCIDENT_LOCATION': load_dataset('ACCIDENT_LOCATION.csv'),\n",
    "    'ATMOSPHERIC_COND': load_dataset('ATMOSPHERIC_COND.csv'),\n",
    "    'NODE': load_dataset('NODE.csv'),\n",
    "    'NODE_ID_COMPLEX_INT_ID': load_dataset('NODE_ID_COMPLEX_INT_ID.csv'),\n",
    "    'PERSON': load_dataset('PERSON.csv'),\n",
    "    'ROAD_SURFACE_COND': load_dataset('ROAD_SURFACE_COND.csv'),\n",
    "    'SUBDCA': load_dataset('SUBDCA.csv'),\n",
    "    'VEHICLE': load_dataset('VEHICLE.csv')\n",
    "}"
   ],
   "metadata": {
    "collapsed": false,
    "ExecuteTime": {
     "end_time": "2025-08-12T06:48:18.519012700Z",
     "start_time": "2025-08-12T06:48:08.403633400Z"
    }
   },
   "id": "initial_id"
  },
  {
   "cell_type": "markdown",
   "source": [
    "# Aggregation on Person dataset"
   ],
   "metadata": {
    "collapsed": false
   },
   "id": "43eb84689badd213"
  },
  {
   "cell_type": "code",
   "execution_count": 9,
   "outputs": [],
   "source": [
    "person = datasets['PERSON'].copy()\n",
    "# Keep the column with numeric values\n",
    "person[\"AGE\"] = pd.to_numeric(person[\"AGE\"], errors=\"coerce\")\n",
    "rut_num = pd.to_numeric(person.get(\"ROAD_USER_TYPE\"), errors=\"coerce\")\n",
    "# Masks\n",
    "is_male   = person.get(\"SEX\", pd.Series(index=person.index)).eq(\"M\")\n",
    "is_female = person.get(\"SEX\", pd.Series(index=person.index)).eq(\"F\")\n",
    "\n",
    "# ROAD_USER_TYPE: 1 Pedestrian, 2 Driver, 3 Passenger, 4 Motorcyclist, 5 Pillion,\n",
    "# 6 Bicyclist, 7 Other driver, 8 Other passenger, 9 Not known\n",
    "m_ped, m_driver, m_passenger      = rut_num.eq(1), rut_num.eq(2), rut_num.eq(3)\n",
    "m_motorcyclist, m_pillion         = rut_num.eq(4), rut_num.eq(5)\n",
    "m_bicyclist, m_other_driver       = rut_num.eq(6), rut_num.eq(7)\n",
    "m_other_passenger, m_user_unknown = rut_num.eq(8), rut_num.eq(9)\n",
    "m_operator = rut_num.isin([2, 4, 6, 7])\n",
    "\n",
    "tmp = person.copy()\n",
    "tmp[\"MALE_COUNT\"]            = is_male.astype(int)\n",
    "tmp[\"FEMALE_COUNT\"]          = is_female.astype(int)\n",
    "tmp[\"N_DRIVERS\"]             = m_driver.astype(int)\n",
    "tmp[\"N_PASSENGERS\"]          = m_passenger.astype(int)\n",
    "tmp[\"N_PEDESTRIANS\"]         = m_ped.astype(int)\n",
    "tmp[\"N_MOTORCYCLISTS\"]       = m_motorcyclist.astype(int)\n",
    "tmp[\"N_PILLION\"]             = m_pillion.astype(int)\n",
    "tmp[\"N_BICYCLISTS\"]          = m_bicyclist.astype(int)\n",
    "tmp[\"N_OTHER_DRIVERS\"]       = m_other_driver.astype(int)\n",
    "tmp[\"N_OTHER_PASSENGERS\"]    = m_other_passenger.astype(int)\n",
    "tmp[\"N_USER_UNKNOWN\"]        = m_user_unknown.astype(int)\n",
    "# Only consider the operator's age\n",
    "tmp[\"OPERATOR_AGE\"] = np.where(m_operator, person[\"AGE\"], np.nan)\n",
    "\n",
    "# Aggregate to accident no\n",
    "person_agg = (\n",
    "    tmp.groupby(\"ACCIDENT_NO\")\n",
    "    .agg(\n",
    "        PERSON_COUNT=(\"PERSON_ID\", \"count\"),\n",
    "        MALE_COUNT=(\"MALE_COUNT\", \"sum\"),\n",
    "        FEMALE_COUNT=(\"FEMALE_COUNT\", \"sum\"),\n",
    "        OPERATOR_MEAN_AGE=(\"OPERATOR_AGE\", \"mean\"),\n",
    "        OPERATOR_MEDIAN_AGE=(\"OPERATOR_AGE\", \"median\"),\n",
    "        N_DRIVERS=(\"N_DRIVERS\", \"sum\"),\n",
    "        N_PASSENGERS=(\"N_PASSENGERS\", \"sum\"),\n",
    "        N_PEDESTRIANS=(\"N_PEDESTRIANS\", \"sum\"),\n",
    "        N_MOTORCYCLISTS=(\"N_MOTORCYCLISTS\", \"sum\"),\n",
    "        N_PILLION=(\"N_PILLION\", \"sum\"),\n",
    "        N_BICYCLISTS=(\"N_BICYCLISTS\", \"sum\"),\n",
    "        N_OTHER_DRIVERS=(\"N_OTHER_DRIVERS\", \"sum\"),\n",
    "        N_OTHER_PASSENGERS=(\"N_OTHER_PASSENGERS\", \"sum\"),\n",
    "        N_USER_UNKNOWN=(\"N_USER_UNKNOWN\", \"sum\"),\n",
    "    )\n",
    "    .reset_index()\n",
    ")\n",
    "\n",
    "# Derived rates\n",
    "person_agg[\"PCT_MALE\"] = (person_agg[\"MALE_COUNT\"] / person_agg[\"PERSON_COUNT\"]).replace([np.inf, -np.inf], np.nan)\n",
    "person_agg[\"PCT_FEMALE\"] = (person_agg[\"FEMALE_COUNT\"] / person_agg[\"PERSON_COUNT\"]).replace([np.inf, -np.inf], np.nan)"
   ],
   "metadata": {
    "collapsed": false,
    "ExecuteTime": {
     "end_time": "2025-08-12T06:39:51.905816600Z",
     "start_time": "2025-08-12T06:39:51.103351300Z"
    }
   },
   "id": "875cc320f38fad6f"
  },
  {
   "cell_type": "code",
   "execution_count": 10,
   "outputs": [
    {
     "data": {
      "text/plain": "    ACCIDENT_NO  PERSON_COUNT  MALE_COUNT  FEMALE_COUNT  OPERATOR_MEAN_AGE  \\\n0  T20060000010             6           4             2          57.666667   \n1  T20060000018             4           2             2          25.000000   \n2  T20060000022             2           1             1          45.000000   \n3  T20060000023             2           2             0          42.500000   \n4  T20060000026             3           2             1          67.500000   \n\n   OPERATOR_MEDIAN_AGE  N_DRIVERS  N_PASSENGERS  N_PEDESTRIANS  \\\n0                 62.0          3             3              0   \n1                 25.0          2             2              0   \n2                 45.0          0             0              0   \n3                 42.5          2             0              0   \n4                 67.5          2             1              0   \n\n   N_MOTORCYCLISTS  N_PILLION  N_BICYCLISTS  N_OTHER_DRIVERS  \\\n0                0          0             0                0   \n1                0          0             0                0   \n2                1          1             0                0   \n3                0          0             0                0   \n4                0          0             0                0   \n\n   N_OTHER_PASSENGERS  N_USER_UNKNOWN  PCT_MALE  PCT_FEMALE  \n0                   0               0  0.666667    0.333333  \n1                   0               0  0.500000    0.500000  \n2                   0               0  0.500000    0.500000  \n3                   0               0  1.000000    0.000000  \n4                   0               0  0.666667    0.333333  ",
      "text/html": "<div>\n<style scoped>\n    .dataframe tbody tr th:only-of-type {\n        vertical-align: middle;\n    }\n\n    .dataframe tbody tr th {\n        vertical-align: top;\n    }\n\n    .dataframe thead th {\n        text-align: right;\n    }\n</style>\n<table border=\"1\" class=\"dataframe\">\n  <thead>\n    <tr style=\"text-align: right;\">\n      <th></th>\n      <th>ACCIDENT_NO</th>\n      <th>PERSON_COUNT</th>\n      <th>MALE_COUNT</th>\n      <th>FEMALE_COUNT</th>\n      <th>OPERATOR_MEAN_AGE</th>\n      <th>OPERATOR_MEDIAN_AGE</th>\n      <th>N_DRIVERS</th>\n      <th>N_PASSENGERS</th>\n      <th>N_PEDESTRIANS</th>\n      <th>N_MOTORCYCLISTS</th>\n      <th>N_PILLION</th>\n      <th>N_BICYCLISTS</th>\n      <th>N_OTHER_DRIVERS</th>\n      <th>N_OTHER_PASSENGERS</th>\n      <th>N_USER_UNKNOWN</th>\n      <th>PCT_MALE</th>\n      <th>PCT_FEMALE</th>\n    </tr>\n  </thead>\n  <tbody>\n    <tr>\n      <th>0</th>\n      <td>T20060000010</td>\n      <td>6</td>\n      <td>4</td>\n      <td>2</td>\n      <td>57.666667</td>\n      <td>62.0</td>\n      <td>3</td>\n      <td>3</td>\n      <td>0</td>\n      <td>0</td>\n      <td>0</td>\n      <td>0</td>\n      <td>0</td>\n      <td>0</td>\n      <td>0</td>\n      <td>0.666667</td>\n      <td>0.333333</td>\n    </tr>\n    <tr>\n      <th>1</th>\n      <td>T20060000018</td>\n      <td>4</td>\n      <td>2</td>\n      <td>2</td>\n      <td>25.000000</td>\n      <td>25.0</td>\n      <td>2</td>\n      <td>2</td>\n      <td>0</td>\n      <td>0</td>\n      <td>0</td>\n      <td>0</td>\n      <td>0</td>\n      <td>0</td>\n      <td>0</td>\n      <td>0.500000</td>\n      <td>0.500000</td>\n    </tr>\n    <tr>\n      <th>2</th>\n      <td>T20060000022</td>\n      <td>2</td>\n      <td>1</td>\n      <td>1</td>\n      <td>45.000000</td>\n      <td>45.0</td>\n      <td>0</td>\n      <td>0</td>\n      <td>0</td>\n      <td>1</td>\n      <td>1</td>\n      <td>0</td>\n      <td>0</td>\n      <td>0</td>\n      <td>0</td>\n      <td>0.500000</td>\n      <td>0.500000</td>\n    </tr>\n    <tr>\n      <th>3</th>\n      <td>T20060000023</td>\n      <td>2</td>\n      <td>2</td>\n      <td>0</td>\n      <td>42.500000</td>\n      <td>42.5</td>\n      <td>2</td>\n      <td>0</td>\n      <td>0</td>\n      <td>0</td>\n      <td>0</td>\n      <td>0</td>\n      <td>0</td>\n      <td>0</td>\n      <td>0</td>\n      <td>1.000000</td>\n      <td>0.000000</td>\n    </tr>\n    <tr>\n      <th>4</th>\n      <td>T20060000026</td>\n      <td>3</td>\n      <td>2</td>\n      <td>1</td>\n      <td>67.500000</td>\n      <td>67.5</td>\n      <td>2</td>\n      <td>1</td>\n      <td>0</td>\n      <td>0</td>\n      <td>0</td>\n      <td>0</td>\n      <td>0</td>\n      <td>0</td>\n      <td>0</td>\n      <td>0.666667</td>\n      <td>0.333333</td>\n    </tr>\n  </tbody>\n</table>\n</div>"
     },
     "execution_count": 10,
     "metadata": {},
     "output_type": "execute_result"
    }
   ],
   "source": [
    "person_agg.head()"
   ],
   "metadata": {
    "collapsed": false,
    "ExecuteTime": {
     "end_time": "2025-08-12T06:39:51.928764900Z",
     "start_time": "2025-08-12T06:39:51.905816600Z"
    }
   },
   "id": "9cd5945b7941d398"
  },
  {
   "cell_type": "code",
   "execution_count": 11,
   "outputs": [
    {
     "data": {
      "text/plain": "(203708, 17)"
     },
     "execution_count": 11,
     "metadata": {},
     "output_type": "execute_result"
    }
   ],
   "source": [
    "person_agg.shape"
   ],
   "metadata": {
    "collapsed": false,
    "ExecuteTime": {
     "end_time": "2025-08-12T06:39:51.928764900Z",
     "start_time": "2025-08-12T06:39:51.917489900Z"
    }
   },
   "id": "911e98f915538e32"
  },
  {
   "cell_type": "code",
   "execution_count": 7,
   "outputs": [],
   "source": [
    "# ---- SAVE THE RESULT ----- if you wanna save, uncommented this cell.\n",
    "# Only keep columns ACCIDENT_ID, OPERATOR_MEDIAN_AGE \n",
    "# person_agg = person_agg[[\"ACCIDENT_NO\", \"OPERATOR_MEDIAN_AGE\"]]\n",
    "# Save person_agg to a CSV file\n",
    "# person_agg.to_csv(\"Clean-data/PERSON_agg_by_ACCIDENT.csv\", index=False)"
   ],
   "metadata": {
    "collapsed": false,
    "ExecuteTime": {
     "end_time": "2025-08-12T02:12:38.941499Z",
     "start_time": "2025-08-12T02:12:38.754057300Z"
    }
   },
   "id": "59844281f3215949"
  },
  {
   "cell_type": "code",
   "execution_count": 12,
   "outputs": [
    {
     "data": {
      "text/plain": "ACCIDENT_NO               0\nPERSON_COUNT              0\nMALE_COUNT                0\nFEMALE_COUNT              0\nOPERATOR_MEAN_AGE      4533\nOPERATOR_MEDIAN_AGE    4533\nN_DRIVERS                 0\nN_PASSENGERS              0\nN_PEDESTRIANS             0\nN_MOTORCYCLISTS           0\nN_PILLION                 0\nN_BICYCLISTS              0\nN_OTHER_DRIVERS           0\nN_OTHER_PASSENGERS        0\nN_USER_UNKNOWN            0\nPCT_MALE                  0\nPCT_FEMALE                0\ndtype: int64"
     },
     "execution_count": 12,
     "metadata": {},
     "output_type": "execute_result"
    }
   ],
   "source": [
    "missing_values = person_agg.isnull().sum()\n",
    "missing_values"
   ],
   "metadata": {
    "collapsed": false,
    "ExecuteTime": {
     "end_time": "2025-08-12T06:40:14.444110100Z",
     "start_time": "2025-08-12T06:40:14.410874300Z"
    }
   },
   "id": "caea1d1e5e9b1e7c"
  },
  {
   "cell_type": "code",
   "execution_count": 13,
   "outputs": [
    {
     "name": "stdout",
     "output_type": "stream",
     "text": [
      "No operator at all: 1932\n",
      "Operator(s) present but all missing age: 2601\n"
     ]
    }
   ],
   "source": [
    "# Mask for operator presence\n",
    "has_operator = person_agg[\"N_DRIVERS\"] + person_agg[\"N_MOTORCYCLISTS\"] + \\\n",
    "               person_agg[\"N_BICYCLISTS\"] + person_agg[\"N_OTHER_DRIVERS\"] > 0\n",
    "\n",
    "no_operator = person_agg.loc[person_agg[\"OPERATOR_MEAN_AGE\"].isna() & (~has_operator)]\n",
    "operator_no_age = person_agg.loc[person_agg[\"OPERATOR_MEAN_AGE\"].isna() & has_operator]\n",
    "\n",
    "print(\"No operator at all:\", no_operator.shape[0])\n",
    "print(\"Operator(s) present but all missing age:\", operator_no_age.shape[0])"
   ],
   "metadata": {
    "collapsed": false,
    "ExecuteTime": {
     "end_time": "2025-08-12T06:40:27.678363Z",
     "start_time": "2025-08-12T06:40:27.643567500Z"
    }
   },
   "id": "c4bc36a5c8e5ace4"
  },
  {
   "cell_type": "markdown",
   "source": [
    "# Aggregation on VEHICLE dataset"
   ],
   "metadata": {
    "collapsed": false
   },
   "id": "fe383197e04e5962"
  },
  {
   "cell_type": "code",
   "execution_count": 15,
   "outputs": [],
   "source": [
    "vehicle = datasets[\"VEHICLE\"].copy()\n",
    "# Keep columns with numeric values\n",
    "vehicle[\"VEHICLE_TYPE\"]      = pd.to_numeric(vehicle[\"VEHICLE_TYPE\"], errors=\"coerce\")\n",
    "vehicle[\"SEATING_CAPACITY\"]  = pd.to_numeric(vehicle[\"SEATING_CAPACITY\"], errors=\"coerce\")\n",
    "vehicle[\"NO_OF_WHEELS\"]      = pd.to_numeric(vehicle[\"NO_OF_WHEELS\"], errors=\"coerce\")\n",
    "vehicle[\"TARE_WEIGHT\"]       = pd.to_numeric(vehicle[\"TARE_WEIGHT\"], errors=\"coerce\")\n",
    "vehicle[\"TOTAL_NO_OCCUPANTS\"]= pd.to_numeric(vehicle[\"TOTAL_NO_OCCUPANTS\"], errors=\"coerce\")\n",
    "vehicle[\"LEVEL_OF_DAMAGE\"]   = pd.to_numeric(vehicle[\"LEVEL_OF_DAMAGE\"], errors=\"coerce\")\n",
    "vehicle[\"TOWED_AWAY_FLAG\"]   = pd.to_numeric(vehicle[\"TOWED_AWAY_FLAG\"], errors=\"coerce\")\n",
    "vehicle[\"CAUGHT_FIRE\"]       = pd.to_numeric(vehicle[\"CAUGHT_FIRE\"], errors=\"coerce\")\n",
    "\n",
    "# Impute by VEHICLE_TYPE, fill the NaN with median values of this column\n",
    "cols_to_impute = [\"SEATING_CAPACITY\", \"NO_OF_WHEELS\", \"TARE_WEIGHT\"]\n",
    "\n",
    "for col in cols_to_impute:\n",
    "    type_median = vehicle.groupby(\"VEHICLE_TYPE\")[col].transform(\"median\")\n",
    "    vehicle[f\"{col}_IMP\"] = vehicle[col].fillna(type_median)\n",
    "    global_med = vehicle[col].median(skipna=True)\n",
    "    vehicle[f\"{col}_IMP\"] = vehicle[f\"{col}_IMP\"].fillna(global_med)\n",
    "\n",
    "# TOWED_AWAY_FLAG: 1 Yes, 2 No, 9 Unknown\n",
    "vehicle[\"TOWED_YES\"]   = (vehicle[\"TOWED_AWAY_FLAG\"] == 1).astype(int)\n",
    "vehicle[\"TOWED_KNOWN\"] = vehicle[\"TOWED_AWAY_FLAG\"].isin([1, 2]).astype(int)\n",
    "\n",
    "# CAUGHT_FIRE: 0 N/A, 1 Yes, 2 No, 9 Unknown\n",
    "vehicle[\"FIRE_YES\"]    = (vehicle[\"CAUGHT_FIRE\"] == 1).astype(int)\n",
    "vehicle[\"FIRE_KNOWN\"]  = vehicle[\"CAUGHT_FIRE\"].isin([1, 2]).astype(int)\n",
    "\n",
    "# DAMAGE: 1..6 valid, 9 unknown; treat severe = {4,5}\n",
    "vehicle[\"SEVERE_DAMAGE\"] = vehicle[\"LEVEL_OF_DAMAGE\"].isin([4, 5]).astype(int)\n",
    "vehicle[\"DAMAGE_KNOWN\"]  = vehicle[\"LEVEL_OF_DAMAGE\"].isin([1,2,3,4,5,6]).astype(int)\n",
    "vehicle[\"N_VEHICLES\"] = 1  # per row = a vehicle\n",
    "vehicle_agg = (\n",
    "    vehicle.groupby(\"ACCIDENT_NO\")\n",
    "    .agg(\n",
    "        # imputed numeric features with mean and median value of this column\n",
    "        MEAN_SEATING=(\"SEATING_CAPACITY_IMP\",\"mean\"),\n",
    "        MEDIAN_SEATING=(\"SEATING_CAPACITY_IMP\",\"median\"),\n",
    "        MEAN_WHEELS=(\"NO_OF_WHEELS_IMP\",\"mean\"),\n",
    "        MEDIAN_WHEELS=(\"NO_OF_WHEELS_IMP\",\"median\"),\n",
    "        SUM_TARE=(\"TARE_WEIGHT_IMP\",\"sum\"),\n",
    "        MEAN_TARE=(\"TARE_WEIGHT_IMP\",\"mean\"),\n",
    "        MEAN_YEAR_MANUF=(\"VEHICLE_YEAR_MANUF\",\"mean\"),\n",
    "        MIN_YEAR_MANUF=(\"VEHICLE_YEAR_MANUF\",\"min\"),\n",
    "        MAX_YEAR_MANUF=(\"VEHICLE_YEAR_MANUF\",\"max\"),\n",
    "        MEAN_OCCUPANTS=(\"TOTAL_NO_OCCUPANTS\",\"mean\"),\n",
    "        N_TOWED=(\"TOWED_YES\",\"sum\"),\n",
    "        N_TOWED_KNOWN=(\"TOWED_KNOWN\",\"sum\"),\n",
    "        N_FIRE=(\"FIRE_YES\",\"sum\"),\n",
    "        N_FIRE_KNOWN=(\"FIRE_KNOWN\",\"sum\"),\n",
    "        N_SEVERE_DAMAGE=(\"SEVERE_DAMAGE\",\"sum\"),\n",
    "        N_DAMAGE_KNOWN=(\"DAMAGE_KNOWN\",\"sum\"),\n",
    "    )\n",
    "    .reset_index()\n",
    ")\n"
   ],
   "metadata": {
    "collapsed": false,
    "ExecuteTime": {
     "end_time": "2025-08-12T06:45:45.284011600Z",
     "start_time": "2025-08-12T06:45:44.551879600Z"
    }
   },
   "id": "6d20734f11838be4"
  },
  {
   "cell_type": "code",
   "execution_count": 16,
   "outputs": [
    {
     "data": {
      "text/plain": "ACCIDENT_NO           0\nMEAN_SEATING          0\nMEDIAN_SEATING        0\nMEAN_WHEELS           0\nMEDIAN_WHEELS         0\nSUM_TARE              0\nMEAN_TARE             0\nMEAN_YEAR_MANUF    5990\nMIN_YEAR_MANUF     5990\nMAX_YEAR_MANUF     5990\nMEAN_OCCUPANTS        0\nN_TOWED               0\nN_TOWED_KNOWN         0\nN_FIRE                0\nN_FIRE_KNOWN          0\nN_SEVERE_DAMAGE       0\nN_DAMAGE_KNOWN        0\ndtype: int64"
     },
     "execution_count": 16,
     "metadata": {},
     "output_type": "execute_result"
    }
   ],
   "source": [
    "missing_values = vehicle_agg.isnull().sum()\n",
    "missing_values"
   ],
   "metadata": {
    "collapsed": false,
    "ExecuteTime": {
     "end_time": "2025-08-12T06:45:50.803690Z",
     "start_time": "2025-08-12T06:45:50.760880300Z"
    }
   },
   "id": "6800ef29b1d2b26c"
  },
  {
   "cell_type": "code",
   "execution_count": 17,
   "outputs": [
    {
     "data": {
      "text/plain": "        MEAN_SEATING  MEDIAN_SEATING    MEAN_WHEELS  MEDIAN_WHEELS  \\\ncount  203708.000000   203708.000000  203708.000000  203708.000000   \nmean        4.424697        4.423707       3.619165       3.618847   \nstd         2.801599        2.778930       0.892949       0.894703   \nmin         0.000000        0.000000       0.000000       0.000000   \n25%         3.500000        3.500000       4.000000       4.000000   \n50%         5.000000        5.000000       4.000000       4.000000   \n75%         5.000000        5.000000       4.000000       4.000000   \nmax        65.000000       65.000000      32.500000      32.500000   \n\n            SUM_TARE      MEAN_TARE  MEAN_YEAR_MANUF  MIN_YEAR_MANUF  \\\ncount  203708.000000  203708.000000    197718.000000   197718.000000   \nmean     2621.479770    1424.329580      1910.063062     1851.328316   \nstd      2667.547422    1385.410793       350.919690      525.440146   \nmin         0.000000       0.000000         0.000000        0.000000   \n25%      1300.000000     892.500000      1997.000000     1994.000000   \n50%      2050.000000    1302.000000      2003.000000     2000.000000   \n75%      3047.000000    1546.500000      2007.333333     2006.000000   \nmax    106280.000000   53140.000000      2502.500000     2020.000000   \n\n       MAX_YEAR_MANUF  MEAN_OCCUPANTS        N_TOWED  N_TOWED_KNOWN  \\\ncount   197718.000000   203708.000000  203708.000000  203708.000000   \nmean      1965.619711        1.298170       0.835809       1.691033   \nstd        279.128467        0.728597       0.874040       0.801877   \nmin          0.000000        0.000000       0.000000       0.000000   \n25%       2001.000000        1.000000       0.000000       1.000000   \n50%       2006.000000        1.000000       1.000000       2.000000   \n75%       2010.000000        1.500000       1.000000       2.000000   \nmax       3001.000000       48.500000      10.000000      21.000000   \n\n              N_FIRE   N_FIRE_KNOWN  N_SEVERE_DAMAGE  N_DAMAGE_KNOWN  \ncount  203708.000000  203708.000000    203708.000000   203708.000000  \nmean        0.005827       1.665772         0.558677        1.678304  \nstd         0.079765       0.794800         0.735548        0.806491  \nmin         0.000000       0.000000         0.000000        0.000000  \n25%         0.000000       1.000000         0.000000        1.000000  \n50%         0.000000       2.000000         0.000000        2.000000  \n75%         0.000000       2.000000         1.000000        2.000000  \nmax         5.000000      21.000000         7.000000       19.000000  ",
      "text/html": "<div>\n<style scoped>\n    .dataframe tbody tr th:only-of-type {\n        vertical-align: middle;\n    }\n\n    .dataframe tbody tr th {\n        vertical-align: top;\n    }\n\n    .dataframe thead th {\n        text-align: right;\n    }\n</style>\n<table border=\"1\" class=\"dataframe\">\n  <thead>\n    <tr style=\"text-align: right;\">\n      <th></th>\n      <th>MEAN_SEATING</th>\n      <th>MEDIAN_SEATING</th>\n      <th>MEAN_WHEELS</th>\n      <th>MEDIAN_WHEELS</th>\n      <th>SUM_TARE</th>\n      <th>MEAN_TARE</th>\n      <th>MEAN_YEAR_MANUF</th>\n      <th>MIN_YEAR_MANUF</th>\n      <th>MAX_YEAR_MANUF</th>\n      <th>MEAN_OCCUPANTS</th>\n      <th>N_TOWED</th>\n      <th>N_TOWED_KNOWN</th>\n      <th>N_FIRE</th>\n      <th>N_FIRE_KNOWN</th>\n      <th>N_SEVERE_DAMAGE</th>\n      <th>N_DAMAGE_KNOWN</th>\n    </tr>\n  </thead>\n  <tbody>\n    <tr>\n      <th>count</th>\n      <td>203708.000000</td>\n      <td>203708.000000</td>\n      <td>203708.000000</td>\n      <td>203708.000000</td>\n      <td>203708.000000</td>\n      <td>203708.000000</td>\n      <td>197718.000000</td>\n      <td>197718.000000</td>\n      <td>197718.000000</td>\n      <td>203708.000000</td>\n      <td>203708.000000</td>\n      <td>203708.000000</td>\n      <td>203708.000000</td>\n      <td>203708.000000</td>\n      <td>203708.000000</td>\n      <td>203708.000000</td>\n    </tr>\n    <tr>\n      <th>mean</th>\n      <td>4.424697</td>\n      <td>4.423707</td>\n      <td>3.619165</td>\n      <td>3.618847</td>\n      <td>2621.479770</td>\n      <td>1424.329580</td>\n      <td>1910.063062</td>\n      <td>1851.328316</td>\n      <td>1965.619711</td>\n      <td>1.298170</td>\n      <td>0.835809</td>\n      <td>1.691033</td>\n      <td>0.005827</td>\n      <td>1.665772</td>\n      <td>0.558677</td>\n      <td>1.678304</td>\n    </tr>\n    <tr>\n      <th>std</th>\n      <td>2.801599</td>\n      <td>2.778930</td>\n      <td>0.892949</td>\n      <td>0.894703</td>\n      <td>2667.547422</td>\n      <td>1385.410793</td>\n      <td>350.919690</td>\n      <td>525.440146</td>\n      <td>279.128467</td>\n      <td>0.728597</td>\n      <td>0.874040</td>\n      <td>0.801877</td>\n      <td>0.079765</td>\n      <td>0.794800</td>\n      <td>0.735548</td>\n      <td>0.806491</td>\n    </tr>\n    <tr>\n      <th>min</th>\n      <td>0.000000</td>\n      <td>0.000000</td>\n      <td>0.000000</td>\n      <td>0.000000</td>\n      <td>0.000000</td>\n      <td>0.000000</td>\n      <td>0.000000</td>\n      <td>0.000000</td>\n      <td>0.000000</td>\n      <td>0.000000</td>\n      <td>0.000000</td>\n      <td>0.000000</td>\n      <td>0.000000</td>\n      <td>0.000000</td>\n      <td>0.000000</td>\n      <td>0.000000</td>\n    </tr>\n    <tr>\n      <th>25%</th>\n      <td>3.500000</td>\n      <td>3.500000</td>\n      <td>4.000000</td>\n      <td>4.000000</td>\n      <td>1300.000000</td>\n      <td>892.500000</td>\n      <td>1997.000000</td>\n      <td>1994.000000</td>\n      <td>2001.000000</td>\n      <td>1.000000</td>\n      <td>0.000000</td>\n      <td>1.000000</td>\n      <td>0.000000</td>\n      <td>1.000000</td>\n      <td>0.000000</td>\n      <td>1.000000</td>\n    </tr>\n    <tr>\n      <th>50%</th>\n      <td>5.000000</td>\n      <td>5.000000</td>\n      <td>4.000000</td>\n      <td>4.000000</td>\n      <td>2050.000000</td>\n      <td>1302.000000</td>\n      <td>2003.000000</td>\n      <td>2000.000000</td>\n      <td>2006.000000</td>\n      <td>1.000000</td>\n      <td>1.000000</td>\n      <td>2.000000</td>\n      <td>0.000000</td>\n      <td>2.000000</td>\n      <td>0.000000</td>\n      <td>2.000000</td>\n    </tr>\n    <tr>\n      <th>75%</th>\n      <td>5.000000</td>\n      <td>5.000000</td>\n      <td>4.000000</td>\n      <td>4.000000</td>\n      <td>3047.000000</td>\n      <td>1546.500000</td>\n      <td>2007.333333</td>\n      <td>2006.000000</td>\n      <td>2010.000000</td>\n      <td>1.500000</td>\n      <td>1.000000</td>\n      <td>2.000000</td>\n      <td>0.000000</td>\n      <td>2.000000</td>\n      <td>1.000000</td>\n      <td>2.000000</td>\n    </tr>\n    <tr>\n      <th>max</th>\n      <td>65.000000</td>\n      <td>65.000000</td>\n      <td>32.500000</td>\n      <td>32.500000</td>\n      <td>106280.000000</td>\n      <td>53140.000000</td>\n      <td>2502.500000</td>\n      <td>2020.000000</td>\n      <td>3001.000000</td>\n      <td>48.500000</td>\n      <td>10.000000</td>\n      <td>21.000000</td>\n      <td>5.000000</td>\n      <td>21.000000</td>\n      <td>7.000000</td>\n      <td>19.000000</td>\n    </tr>\n  </tbody>\n</table>\n</div>"
     },
     "execution_count": 17,
     "metadata": {},
     "output_type": "execute_result"
    }
   ],
   "source": [
    "vehicle_agg.describe()"
   ],
   "metadata": {
    "collapsed": false,
    "ExecuteTime": {
     "end_time": "2025-08-12T06:46:08.662988400Z",
     "start_time": "2025-08-12T06:46:08.526054400Z"
    }
   },
   "id": "64b0039864325035"
  },
  {
   "cell_type": "markdown",
   "source": [
    "# Aggregation on ACCIDENT_EVENT dataset"
   ],
   "metadata": {
    "collapsed": false
   },
   "id": "3c0378d878a479e6"
  },
  {
   "cell_type": "code",
   "execution_count": 18,
   "outputs": [
    {
     "data": {
      "text/plain": "(203648, 2)"
     },
     "execution_count": 18,
     "metadata": {},
     "output_type": "execute_result"
    }
   ],
   "source": [
    "events = datasets['ACCIDENT_EVENT'].copy()\n",
    "events_sorted = events.sort_values([\"ACCIDENT_NO\", \"EVENT_SEQ_NO\"])\n",
    "# Get the first event occured\n",
    "first_event = (\n",
    "    events[events[\"EVENT_SEQ_NO\"] == 1]\n",
    "    [[\"ACCIDENT_NO\", \"Event Type Desc\"]]\n",
    ")\n",
    "first_event.shape"
   ],
   "metadata": {
    "collapsed": false,
    "ExecuteTime": {
     "end_time": "2025-08-12T06:47:39.411346300Z",
     "start_time": "2025-08-12T06:47:39.180482400Z"
    }
   },
   "id": "f3ba5fa34e9a2d39"
  }
 ],
 "metadata": {
  "kernelspec": {
   "display_name": "Python 3",
   "language": "python",
   "name": "python3"
  },
  "language_info": {
   "codemirror_mode": {
    "name": "ipython",
    "version": 2
   },
   "file_extension": ".py",
   "mimetype": "text/x-python",
   "name": "python",
   "nbconvert_exporter": "python",
   "pygments_lexer": "ipython2",
   "version": "2.7.6"
  }
 },
 "nbformat": 4,
 "nbformat_minor": 5
}
