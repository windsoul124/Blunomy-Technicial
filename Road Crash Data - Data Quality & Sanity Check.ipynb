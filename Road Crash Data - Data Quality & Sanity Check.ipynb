{
 "cells": [
  {
   "cell_type": "markdown",
   "source": [
    "# Data Quality & Sanity Check\n",
    "1. Total rows and Distinct Accident rows\n",
    "2. Missing values (NaN + blanks)"
   ],
   "metadata": {
    "collapsed": false
   },
   "id": "b85333a3f9628fe8"
  },
  {
   "cell_type": "markdown",
   "source": [
    "### Total rows and Distinct Accident Rows"
   ],
   "metadata": {
    "collapsed": false
   },
   "id": "a5e072673d29ccb7"
  },
  {
   "cell_type": "code",
   "execution_count": 1,
   "outputs": [],
   "source": [
    "import pandas as pd\n",
    "\n",
    "# Load the all the dataset from Dataset folder\n",
    "def load_dataset(file_name):\n",
    "    return pd.read_csv(f'Dataset/{file_name}', low_memory=False)\n",
    "\n",
    "file_list = [\n",
    "    'ACCIDENT.csv',\n",
    "    'ACCIDENT_CHAINAGE.csv',\n",
    "    'ACCIDENT_EVENT.csv',\n",
    "    'ACCIDENT_LOCATION.csv',\n",
    "    'ATMOSPHERIC_COND.csv',\n",
    "    'NODE.csv',\n",
    "    'NODE_ID_COMPLEX_INT_ID.csv',\n",
    "    'PERSON.csv',\n",
    "    'ROAD_SURFACE_COND.csv',\n",
    "    'SUBDCA.csv',\n",
    "    'VEHICLE.csv'\n",
    "]\n",
    "# Load all datasets into a dictionary\n",
    "datasets = {file_name.split('.')[0]: load_dataset(file_name) for file_name in file_list}\n",
    "# Save the datasets to a dictionary for further processing\n",
    "datasets = {\n",
    "    'ACCIDENT': load_dataset('ACCIDENT.csv'),\n",
    "    'ACCIDENT_CHAINAGE': load_dataset('ACCIDENT_CHAINAGE.csv'),\n",
    "    'ACCIDENT_EVENT': load_dataset('ACCIDENT_EVENT.csv'),\n",
    "    'ACCIDENT_LOCATION': load_dataset('ACCIDENT_LOCATION.csv'),\n",
    "    'ATMOSPHERIC_COND': load_dataset('ATMOSPHERIC_COND.csv'),\n",
    "    'NODE': load_dataset('NODE.csv'),\n",
    "    'NODE_ID_COMPLEX_INT_ID': load_dataset('NODE_ID_COMPLEX_INT_ID.csv'),\n",
    "    'PERSON': load_dataset('PERSON.csv'),\n",
    "    'ROAD_SURFACE_COND': load_dataset('ROAD_SURFACE_COND.csv'),\n",
    "    'SUBDCA': load_dataset('SUBDCA.csv'),\n",
    "    'VEHICLE': load_dataset('VEHICLE.csv')\n",
    "}"
   ],
   "metadata": {
    "collapsed": false,
    "ExecuteTime": {
     "end_time": "2025-08-11T01:50:28.236263700Z",
     "start_time": "2025-08-11T01:50:17.216588500Z"
    }
   },
   "id": "initial_id"
  },
  {
   "cell_type": "code",
   "execution_count": 2,
   "outputs": [
    {
     "data": {
      "text/plain": "                   Dataset  Total Rows  Distinct Rows One to One with Accident\n0                 ACCIDENT      203708         203708                     True\n1        ACCIDENT_CHAINAGE      173557         173557           No ACCIDENT_NO\n2           ACCIDENT_EVENT      326638         203708                    False\n3        ACCIDENT_LOCATION      203708         203708                     True\n4         ATMOSPHERIC_COND      206958         203708                    False\n5                     NODE      221797         202854                    False\n6   NODE_ID_COMPLEX_INT_ID      203996         203708                    False\n7                   PERSON      490948         203708                    False\n8        ROAD_SURFACE_COND      205030         203708                    False\n9                   SUBDCA      290966         197897                    False\n10                 VEHICLE      365242         203708                    False",
      "text/html": "<div>\n<style scoped>\n    .dataframe tbody tr th:only-of-type {\n        vertical-align: middle;\n    }\n\n    .dataframe tbody tr th {\n        vertical-align: top;\n    }\n\n    .dataframe thead th {\n        text-align: right;\n    }\n</style>\n<table border=\"1\" class=\"dataframe\">\n  <thead>\n    <tr style=\"text-align: right;\">\n      <th></th>\n      <th>Dataset</th>\n      <th>Total Rows</th>\n      <th>Distinct Rows</th>\n      <th>One to One with Accident</th>\n    </tr>\n  </thead>\n  <tbody>\n    <tr>\n      <th>0</th>\n      <td>ACCIDENT</td>\n      <td>203708</td>\n      <td>203708</td>\n      <td>True</td>\n    </tr>\n    <tr>\n      <th>1</th>\n      <td>ACCIDENT_CHAINAGE</td>\n      <td>173557</td>\n      <td>173557</td>\n      <td>No ACCIDENT_NO</td>\n    </tr>\n    <tr>\n      <th>2</th>\n      <td>ACCIDENT_EVENT</td>\n      <td>326638</td>\n      <td>203708</td>\n      <td>False</td>\n    </tr>\n    <tr>\n      <th>3</th>\n      <td>ACCIDENT_LOCATION</td>\n      <td>203708</td>\n      <td>203708</td>\n      <td>True</td>\n    </tr>\n    <tr>\n      <th>4</th>\n      <td>ATMOSPHERIC_COND</td>\n      <td>206958</td>\n      <td>203708</td>\n      <td>False</td>\n    </tr>\n    <tr>\n      <th>5</th>\n      <td>NODE</td>\n      <td>221797</td>\n      <td>202854</td>\n      <td>False</td>\n    </tr>\n    <tr>\n      <th>6</th>\n      <td>NODE_ID_COMPLEX_INT_ID</td>\n      <td>203996</td>\n      <td>203708</td>\n      <td>False</td>\n    </tr>\n    <tr>\n      <th>7</th>\n      <td>PERSON</td>\n      <td>490948</td>\n      <td>203708</td>\n      <td>False</td>\n    </tr>\n    <tr>\n      <th>8</th>\n      <td>ROAD_SURFACE_COND</td>\n      <td>205030</td>\n      <td>203708</td>\n      <td>False</td>\n    </tr>\n    <tr>\n      <th>9</th>\n      <td>SUBDCA</td>\n      <td>290966</td>\n      <td>197897</td>\n      <td>False</td>\n    </tr>\n    <tr>\n      <th>10</th>\n      <td>VEHICLE</td>\n      <td>365242</td>\n      <td>203708</td>\n      <td>False</td>\n    </tr>\n  </tbody>\n</table>\n</div>"
     },
     "metadata": {},
     "output_type": "display_data"
    }
   ],
   "source": [
    "summary_total = []\n",
    "for name, df in datasets.items():\n",
    "    if \"ACCIDENT_NO\" in df.columns:\n",
    "        total_rows = len(df)\n",
    "        distinct_accidents = df[\"ACCIDENT_NO\"].nunique()\n",
    "        one_to_one = total_rows == distinct_accidents\n",
    "    else:\n",
    "        total_rows = len(df)\n",
    "        distinct_accidents = len(df.drop_duplicates())\n",
    "        one_to_one = 'No ACCIDENT_NO'\n",
    "    summary_total.append(\n",
    "        {\n",
    "            \"Dataset\": name,\n",
    "            \"Total Rows\": total_rows,\n",
    "            \"Distinct Rows\": distinct_accidents,\n",
    "            \"One to One with Accident\": one_to_one\n",
    "        }\n",
    "    )\n",
    "summary_total_df = pd.DataFrame(summary_total)\n",
    "display(summary_total_df)"
   ],
   "metadata": {
    "collapsed": false,
    "ExecuteTime": {
     "end_time": "2025-08-11T01:50:28.753674600Z",
     "start_time": "2025-08-11T01:50:28.238259800Z"
    }
   },
   "id": "45c1c287b789b0a3"
  },
  {
   "cell_type": "markdown",
   "source": [
    "As we can see in the table, total Accidents should be 203,708, the reason why some of table's total rows and distinct accident rows didn't match:\n",
    "1. ACCIDENT_CHAINAGE contains location reference information for accidents, and it didn't have ACCIDENT_NO column\n",
    "2. ACCIDENT_EVENT: Each accident may have multiple event (e.g., collision, vehicles involved) recorded separately.\n",
    "3. ATMOSPHERIC_COND: Some accident may face multiple weather conditions recorded separately.\n",
    "4. NODE: Not all crashes could be geo located successfully.\n",
    "5. NODE_ID_COMPLEX_INT_ID: Expected less as it is only applicable to intersections classified as complex intersection. \n",
    "6. PERSON: Each accident can involve multiple people (e.g., driver, passenger)\n",
    "7. ROAD_SURFACE_COND: Some accident may face multiple road surface conditions.\n",
    "8. SUBDCA: Expected less as not all DCA code required subdca coded.\n",
    "9. VEHICLE: Some accident can involve multiple vehicles."
   ],
   "metadata": {
    "collapsed": false
   },
   "id": "6b13210f71bc0262"
  },
  {
   "cell_type": "markdown",
   "source": [
    "### Missing Values Count"
   ],
   "metadata": {
    "collapsed": false
   },
   "id": "c6a9bd7f308e02c8"
  },
  {
   "cell_type": "code",
   "execution_count": 3,
   "outputs": [],
   "source": [
    "# Check for missing values in each dataset\n",
    "def missing_value_summary(df):\n",
    "    total_rows = len(df)\n",
    "    summary = {}\n",
    "    for col in df.columns:\n",
    "        n_missing_nan = df[col].isna().sum()\n",
    "        n_missing_blank = df[col].astype(str).str.strip().eq(\"\").sum()\n",
    "        n_missing = n_missing_nan + n_missing_blank\n",
    "        summary[col] = {\n",
    "            \"missing_count\": n_missing,\n",
    "            \"missing_percent\": round((n_missing / total_rows) * 100, 2)\n",
    "        }\n",
    "    return pd.DataFrame(summary).T.sort_values(\"missing_percent\", ascending=False)"
   ],
   "metadata": {
    "collapsed": false,
    "ExecuteTime": {
     "end_time": "2025-08-11T01:50:28.768890400Z",
     "start_time": "2025-08-11T01:50:28.754672900Z"
    }
   },
   "id": "c24659ebdaa673fc"
  },
  {
   "cell_type": "code",
   "execution_count": 4,
   "outputs": [],
   "source": [
    "pd.set_option(\"display.max_rows\", 50)\n",
    "pd.set_option(\"display.max_columns\", 50)"
   ],
   "metadata": {
    "collapsed": false,
    "ExecuteTime": {
     "end_time": "2025-08-11T01:50:28.768890400Z",
     "start_time": "2025-08-11T01:50:28.757319400Z"
    }
   },
   "id": "af035fe1e0c2724f"
  },
  {
   "cell_type": "code",
   "execution_count": 5,
   "outputs": [
    {
     "name": "stdout",
     "output_type": "stream",
     "text": [
      "Missing values in ACCIDENT dataset:\n"
     ]
    },
    {
     "data": {
      "text/plain": "                      missing_count  missing_percent\nPAGE                         6894.0             3.38\nDIRECTORY                    6894.0             3.38\nEDITION                      6894.0             3.38\nGRID_REFERENCE_X             6894.0             3.38\nGRID_REFERENCE_Y             6894.0             3.38\nACCIDENTTIME                    0.0             0.00\nACCIDENT_TYPE                   0.0             0.00\nAccident Type Desc              0.0             0.00\nDCA_CODE                        0.0             0.00\nDay Week Description            0.0             0.00\nACCIDENTDATE                    0.0             0.00\nACCIDENT_NO                     0.0             0.00\nDCA Description                 0.0             0.00\nDAY_OF_WEEK                     0.0             0.00\nLIGHT_CONDITION                 0.0             0.00\nLight Condition Desc            0.0             0.00\nNODE_ID                         0.0             0.00\nNO_OF_VEHICLES                  0.0             0.00\nNO_PERSONS                      0.0             0.00\nNO_PERSONS_INJ_2                0.0             0.00\nNO_PERSONS_INJ_3                0.0             0.00\nNO_PERSONS_KILLED               0.0             0.00\nNO_PERSONS_NOT_INJ              0.0             0.00\nPOLICE_ATTEND                   0.0             0.00\nROAD_GEOMETRY                   0.0             0.00\nRoad Geometry Desc              0.0             0.00\nSEVERITY                        0.0             0.00\nSPEED_ZONE                      0.0             0.00",
      "text/html": "<div>\n<style scoped>\n    .dataframe tbody tr th:only-of-type {\n        vertical-align: middle;\n    }\n\n    .dataframe tbody tr th {\n        vertical-align: top;\n    }\n\n    .dataframe thead th {\n        text-align: right;\n    }\n</style>\n<table border=\"1\" class=\"dataframe\">\n  <thead>\n    <tr style=\"text-align: right;\">\n      <th></th>\n      <th>missing_count</th>\n      <th>missing_percent</th>\n    </tr>\n  </thead>\n  <tbody>\n    <tr>\n      <th>PAGE</th>\n      <td>6894.0</td>\n      <td>3.38</td>\n    </tr>\n    <tr>\n      <th>DIRECTORY</th>\n      <td>6894.0</td>\n      <td>3.38</td>\n    </tr>\n    <tr>\n      <th>EDITION</th>\n      <td>6894.0</td>\n      <td>3.38</td>\n    </tr>\n    <tr>\n      <th>GRID_REFERENCE_X</th>\n      <td>6894.0</td>\n      <td>3.38</td>\n    </tr>\n    <tr>\n      <th>GRID_REFERENCE_Y</th>\n      <td>6894.0</td>\n      <td>3.38</td>\n    </tr>\n    <tr>\n      <th>ACCIDENTTIME</th>\n      <td>0.0</td>\n      <td>0.00</td>\n    </tr>\n    <tr>\n      <th>ACCIDENT_TYPE</th>\n      <td>0.0</td>\n      <td>0.00</td>\n    </tr>\n    <tr>\n      <th>Accident Type Desc</th>\n      <td>0.0</td>\n      <td>0.00</td>\n    </tr>\n    <tr>\n      <th>DCA_CODE</th>\n      <td>0.0</td>\n      <td>0.00</td>\n    </tr>\n    <tr>\n      <th>Day Week Description</th>\n      <td>0.0</td>\n      <td>0.00</td>\n    </tr>\n    <tr>\n      <th>ACCIDENTDATE</th>\n      <td>0.0</td>\n      <td>0.00</td>\n    </tr>\n    <tr>\n      <th>ACCIDENT_NO</th>\n      <td>0.0</td>\n      <td>0.00</td>\n    </tr>\n    <tr>\n      <th>DCA Description</th>\n      <td>0.0</td>\n      <td>0.00</td>\n    </tr>\n    <tr>\n      <th>DAY_OF_WEEK</th>\n      <td>0.0</td>\n      <td>0.00</td>\n    </tr>\n    <tr>\n      <th>LIGHT_CONDITION</th>\n      <td>0.0</td>\n      <td>0.00</td>\n    </tr>\n    <tr>\n      <th>Light Condition Desc</th>\n      <td>0.0</td>\n      <td>0.00</td>\n    </tr>\n    <tr>\n      <th>NODE_ID</th>\n      <td>0.0</td>\n      <td>0.00</td>\n    </tr>\n    <tr>\n      <th>NO_OF_VEHICLES</th>\n      <td>0.0</td>\n      <td>0.00</td>\n    </tr>\n    <tr>\n      <th>NO_PERSONS</th>\n      <td>0.0</td>\n      <td>0.00</td>\n    </tr>\n    <tr>\n      <th>NO_PERSONS_INJ_2</th>\n      <td>0.0</td>\n      <td>0.00</td>\n    </tr>\n    <tr>\n      <th>NO_PERSONS_INJ_3</th>\n      <td>0.0</td>\n      <td>0.00</td>\n    </tr>\n    <tr>\n      <th>NO_PERSONS_KILLED</th>\n      <td>0.0</td>\n      <td>0.00</td>\n    </tr>\n    <tr>\n      <th>NO_PERSONS_NOT_INJ</th>\n      <td>0.0</td>\n      <td>0.00</td>\n    </tr>\n    <tr>\n      <th>POLICE_ATTEND</th>\n      <td>0.0</td>\n      <td>0.00</td>\n    </tr>\n    <tr>\n      <th>ROAD_GEOMETRY</th>\n      <td>0.0</td>\n      <td>0.00</td>\n    </tr>\n    <tr>\n      <th>Road Geometry Desc</th>\n      <td>0.0</td>\n      <td>0.00</td>\n    </tr>\n    <tr>\n      <th>SEVERITY</th>\n      <td>0.0</td>\n      <td>0.00</td>\n    </tr>\n    <tr>\n      <th>SPEED_ZONE</th>\n      <td>0.0</td>\n      <td>0.00</td>\n    </tr>\n  </tbody>\n</table>\n</div>"
     },
     "metadata": {},
     "output_type": "display_data"
    },
    {
     "name": "stdout",
     "output_type": "stream",
     "text": [
      "Missing values in ACCIDENT_CHAINAGE dataset:\n"
     ]
    },
    {
     "data": {
      "text/plain": "               missing_count  missing_percent\nNode Id                  1.0              0.0\nRoute No                 1.0              0.0\nChainage Seq             1.0              0.0\nRoute Link No            1.0              0.0\nChainage                 1.0              0.0",
      "text/html": "<div>\n<style scoped>\n    .dataframe tbody tr th:only-of-type {\n        vertical-align: middle;\n    }\n\n    .dataframe tbody tr th {\n        vertical-align: top;\n    }\n\n    .dataframe thead th {\n        text-align: right;\n    }\n</style>\n<table border=\"1\" class=\"dataframe\">\n  <thead>\n    <tr style=\"text-align: right;\">\n      <th></th>\n      <th>missing_count</th>\n      <th>missing_percent</th>\n    </tr>\n  </thead>\n  <tbody>\n    <tr>\n      <th>Node Id</th>\n      <td>1.0</td>\n      <td>0.0</td>\n    </tr>\n    <tr>\n      <th>Route No</th>\n      <td>1.0</td>\n      <td>0.0</td>\n    </tr>\n    <tr>\n      <th>Chainage Seq</th>\n      <td>1.0</td>\n      <td>0.0</td>\n    </tr>\n    <tr>\n      <th>Route Link No</th>\n      <td>1.0</td>\n      <td>0.0</td>\n    </tr>\n    <tr>\n      <th>Chainage</th>\n      <td>1.0</td>\n      <td>0.0</td>\n    </tr>\n  </tbody>\n</table>\n</div>"
     },
     "metadata": {},
     "output_type": "display_data"
    },
    {
     "name": "stdout",
     "output_type": "stream",
     "text": [
      "Missing values in ACCIDENT_EVENT dataset:\n"
     ]
    },
    {
     "data": {
      "text/plain": "                        missing_count  missing_percent\nPERSON_ID                    302904.0            92.73\nVehicle 2 Coll Pt Desc       172516.0            52.82\nVEHICLE_2_COLL_PT            172261.0            52.74\nVEHICLE_2_ID                 172229.0            52.73\nVehicle 1 Coll Pt Desc         1995.0             0.61\nVEHICLE_1_ID                      4.0             0.00\nEvent Type Desc                   0.0             0.00\nEVENT_TYPE                        4.0             0.00\nEVENT_SEQ_NO                      4.0             0.00\nACCIDENT_NO                       0.0             0.00\nVEHICLE_1_COLL_PT                 4.0             0.00\nOBJECT_TYPE                       4.0             0.00\nObject Type Desc                  0.0             0.00",
      "text/html": "<div>\n<style scoped>\n    .dataframe tbody tr th:only-of-type {\n        vertical-align: middle;\n    }\n\n    .dataframe tbody tr th {\n        vertical-align: top;\n    }\n\n    .dataframe thead th {\n        text-align: right;\n    }\n</style>\n<table border=\"1\" class=\"dataframe\">\n  <thead>\n    <tr style=\"text-align: right;\">\n      <th></th>\n      <th>missing_count</th>\n      <th>missing_percent</th>\n    </tr>\n  </thead>\n  <tbody>\n    <tr>\n      <th>PERSON_ID</th>\n      <td>302904.0</td>\n      <td>92.73</td>\n    </tr>\n    <tr>\n      <th>Vehicle 2 Coll Pt Desc</th>\n      <td>172516.0</td>\n      <td>52.82</td>\n    </tr>\n    <tr>\n      <th>VEHICLE_2_COLL_PT</th>\n      <td>172261.0</td>\n      <td>52.74</td>\n    </tr>\n    <tr>\n      <th>VEHICLE_2_ID</th>\n      <td>172229.0</td>\n      <td>52.73</td>\n    </tr>\n    <tr>\n      <th>Vehicle 1 Coll Pt Desc</th>\n      <td>1995.0</td>\n      <td>0.61</td>\n    </tr>\n    <tr>\n      <th>VEHICLE_1_ID</th>\n      <td>4.0</td>\n      <td>0.00</td>\n    </tr>\n    <tr>\n      <th>Event Type Desc</th>\n      <td>0.0</td>\n      <td>0.00</td>\n    </tr>\n    <tr>\n      <th>EVENT_TYPE</th>\n      <td>4.0</td>\n      <td>0.00</td>\n    </tr>\n    <tr>\n      <th>EVENT_SEQ_NO</th>\n      <td>4.0</td>\n      <td>0.00</td>\n    </tr>\n    <tr>\n      <th>ACCIDENT_NO</th>\n      <td>0.0</td>\n      <td>0.00</td>\n    </tr>\n    <tr>\n      <th>VEHICLE_1_COLL_PT</th>\n      <td>4.0</td>\n      <td>0.00</td>\n    </tr>\n    <tr>\n      <th>OBJECT_TYPE</th>\n      <td>4.0</td>\n      <td>0.00</td>\n    </tr>\n    <tr>\n      <th>Object Type Desc</th>\n      <td>0.0</td>\n      <td>0.00</td>\n    </tr>\n  </tbody>\n</table>\n</div>"
     },
     "metadata": {},
     "output_type": "display_data"
    },
    {
     "name": "stdout",
     "output_type": "stream",
     "text": [
      "Missing values in ACCIDENT_LOCATION dataset:\n"
     ]
    },
    {
     "data": {
      "text/plain": "                    missing_count  missing_percent\nNEAREST_KM_POST          203663.0            99.98\nOFF_ROAD_LOCATION        186330.0            91.47\nROAD_TYPE_INT              3544.0             1.74\nROAD_TYPE                  3448.0             1.69\nROAD_NAME_INT              1869.0             0.92\nROAD_NAME                  1055.0             0.52\nDIRECTION_LOCATION          877.0             0.43\nROAD_ROUTE_1                830.0             0.41\nDISTANCE_LOCATION           830.0             0.41\nNODE_ID                       0.0             0.00\nACCIDENT_NO                   0.0             0.00",
      "text/html": "<div>\n<style scoped>\n    .dataframe tbody tr th:only-of-type {\n        vertical-align: middle;\n    }\n\n    .dataframe tbody tr th {\n        vertical-align: top;\n    }\n\n    .dataframe thead th {\n        text-align: right;\n    }\n</style>\n<table border=\"1\" class=\"dataframe\">\n  <thead>\n    <tr style=\"text-align: right;\">\n      <th></th>\n      <th>missing_count</th>\n      <th>missing_percent</th>\n    </tr>\n  </thead>\n  <tbody>\n    <tr>\n      <th>NEAREST_KM_POST</th>\n      <td>203663.0</td>\n      <td>99.98</td>\n    </tr>\n    <tr>\n      <th>OFF_ROAD_LOCATION</th>\n      <td>186330.0</td>\n      <td>91.47</td>\n    </tr>\n    <tr>\n      <th>ROAD_TYPE_INT</th>\n      <td>3544.0</td>\n      <td>1.74</td>\n    </tr>\n    <tr>\n      <th>ROAD_TYPE</th>\n      <td>3448.0</td>\n      <td>1.69</td>\n    </tr>\n    <tr>\n      <th>ROAD_NAME_INT</th>\n      <td>1869.0</td>\n      <td>0.92</td>\n    </tr>\n    <tr>\n      <th>ROAD_NAME</th>\n      <td>1055.0</td>\n      <td>0.52</td>\n    </tr>\n    <tr>\n      <th>DIRECTION_LOCATION</th>\n      <td>877.0</td>\n      <td>0.43</td>\n    </tr>\n    <tr>\n      <th>ROAD_ROUTE_1</th>\n      <td>830.0</td>\n      <td>0.41</td>\n    </tr>\n    <tr>\n      <th>DISTANCE_LOCATION</th>\n      <td>830.0</td>\n      <td>0.41</td>\n    </tr>\n    <tr>\n      <th>NODE_ID</th>\n      <td>0.0</td>\n      <td>0.00</td>\n    </tr>\n    <tr>\n      <th>ACCIDENT_NO</th>\n      <td>0.0</td>\n      <td>0.00</td>\n    </tr>\n  </tbody>\n</table>\n</div>"
     },
     "metadata": {},
     "output_type": "display_data"
    },
    {
     "name": "stdout",
     "output_type": "stream",
     "text": [
      "Missing values in ATMOSPHERIC_COND dataset:\n"
     ]
    },
    {
     "data": {
      "text/plain": "                   missing_count  missing_percent\nACCIDENT_NO                  0.0              0.0\nATMOSPH_COND                 0.0              0.0\nATMOSPH_COND_SEQ             0.0              0.0\nAtmosph Cond Desc            0.0              0.0",
      "text/html": "<div>\n<style scoped>\n    .dataframe tbody tr th:only-of-type {\n        vertical-align: middle;\n    }\n\n    .dataframe tbody tr th {\n        vertical-align: top;\n    }\n\n    .dataframe thead th {\n        text-align: right;\n    }\n</style>\n<table border=\"1\" class=\"dataframe\">\n  <thead>\n    <tr style=\"text-align: right;\">\n      <th></th>\n      <th>missing_count</th>\n      <th>missing_percent</th>\n    </tr>\n  </thead>\n  <tbody>\n    <tr>\n      <th>ACCIDENT_NO</th>\n      <td>0.0</td>\n      <td>0.0</td>\n    </tr>\n    <tr>\n      <th>ATMOSPH_COND</th>\n      <td>0.0</td>\n      <td>0.0</td>\n    </tr>\n    <tr>\n      <th>ATMOSPH_COND_SEQ</th>\n      <td>0.0</td>\n      <td>0.0</td>\n    </tr>\n    <tr>\n      <th>Atmosph Cond Desc</th>\n      <td>0.0</td>\n      <td>0.0</td>\n    </tr>\n  </tbody>\n</table>\n</div>"
     },
     "metadata": {},
     "output_type": "display_data"
    },
    {
     "name": "stdout",
     "output_type": "stream",
     "text": [
      "Missing values in NODE dataset:\n"
     ]
    },
    {
     "data": {
      "text/plain": "                missing_count  missing_percent\nREGION_NAME              48.0             0.02\nLGA_NAME                 44.0             0.02\nNODE_TYPE                22.0             0.01\nACCIDENT_NO               0.0             0.00\nVICGRID94_X               0.0             0.00\nNODE_ID                   0.0             0.00\nVICGRID94_Y               0.0             0.00\nLGA_NAME_ALL              0.0             0.00\nDEG_URBAN_NAME            0.0             0.00\nLat                       0.0             0.00\nLong                      0.0             0.00\nPOSTCODE_NO               0.0             0.00",
      "text/html": "<div>\n<style scoped>\n    .dataframe tbody tr th:only-of-type {\n        vertical-align: middle;\n    }\n\n    .dataframe tbody tr th {\n        vertical-align: top;\n    }\n\n    .dataframe thead th {\n        text-align: right;\n    }\n</style>\n<table border=\"1\" class=\"dataframe\">\n  <thead>\n    <tr style=\"text-align: right;\">\n      <th></th>\n      <th>missing_count</th>\n      <th>missing_percent</th>\n    </tr>\n  </thead>\n  <tbody>\n    <tr>\n      <th>REGION_NAME</th>\n      <td>48.0</td>\n      <td>0.02</td>\n    </tr>\n    <tr>\n      <th>LGA_NAME</th>\n      <td>44.0</td>\n      <td>0.02</td>\n    </tr>\n    <tr>\n      <th>NODE_TYPE</th>\n      <td>22.0</td>\n      <td>0.01</td>\n    </tr>\n    <tr>\n      <th>ACCIDENT_NO</th>\n      <td>0.0</td>\n      <td>0.00</td>\n    </tr>\n    <tr>\n      <th>VICGRID94_X</th>\n      <td>0.0</td>\n      <td>0.00</td>\n    </tr>\n    <tr>\n      <th>NODE_ID</th>\n      <td>0.0</td>\n      <td>0.00</td>\n    </tr>\n    <tr>\n      <th>VICGRID94_Y</th>\n      <td>0.0</td>\n      <td>0.00</td>\n    </tr>\n    <tr>\n      <th>LGA_NAME_ALL</th>\n      <td>0.0</td>\n      <td>0.00</td>\n    </tr>\n    <tr>\n      <th>DEG_URBAN_NAME</th>\n      <td>0.0</td>\n      <td>0.00</td>\n    </tr>\n    <tr>\n      <th>Lat</th>\n      <td>0.0</td>\n      <td>0.00</td>\n    </tr>\n    <tr>\n      <th>Long</th>\n      <td>0.0</td>\n      <td>0.00</td>\n    </tr>\n    <tr>\n      <th>POSTCODE_NO</th>\n      <td>0.0</td>\n      <td>0.00</td>\n    </tr>\n  </tbody>\n</table>\n</div>"
     },
     "metadata": {},
     "output_type": "display_data"
    },
    {
     "name": "stdout",
     "output_type": "stream",
     "text": [
      "Missing values in NODE_ID_COMPLEX_INT_ID dataset:\n"
     ]
    },
    {
     "data": {
      "text/plain": "                missing_count  missing_percent\nCOMPLEX_INT_NO       182071.0            89.25\nACCIDENT_NO               0.0             0.00\nNODE_ID                   0.0             0.00",
      "text/html": "<div>\n<style scoped>\n    .dataframe tbody tr th:only-of-type {\n        vertical-align: middle;\n    }\n\n    .dataframe tbody tr th {\n        vertical-align: top;\n    }\n\n    .dataframe thead th {\n        text-align: right;\n    }\n</style>\n<table border=\"1\" class=\"dataframe\">\n  <thead>\n    <tr style=\"text-align: right;\">\n      <th></th>\n      <th>missing_count</th>\n      <th>missing_percent</th>\n    </tr>\n  </thead>\n  <tbody>\n    <tr>\n      <th>COMPLEX_INT_NO</th>\n      <td>182071.0</td>\n      <td>89.25</td>\n    </tr>\n    <tr>\n      <th>ACCIDENT_NO</th>\n      <td>0.0</td>\n      <td>0.00</td>\n    </tr>\n    <tr>\n      <th>NODE_ID</th>\n      <td>0.0</td>\n      <td>0.00</td>\n    </tr>\n  </tbody>\n</table>\n</div>"
     },
     "metadata": {},
     "output_type": "display_data"
    },
    {
     "name": "stdout",
     "output_type": "stream",
     "text": [
      "Missing values in PERSON dataset:\n"
     ]
    },
    {
     "data": {
      "text/plain": "                     missing_count  missing_percent\nTAKEN_HOSPITAL            312089.0            63.57\nLICENCE_STATE             113358.0            23.09\nPOSTCODE                   74094.0            15.09\nAGE                        21629.0             4.41\nSEATING_POSITION           21306.0             4.34\nVEHICLE_ID                 21294.0             4.34\nEJECTED_CODE               15617.0             3.18\nPEDEST_MOVEMENT               29.0             0.01\nACCIDENT_NO                    0.0             0.00\nInj Level Desc                 0.0             0.00\nINJ_LEVEL                     17.0             0.00\nAge Group                      0.0             0.00\nSEX                           19.0             0.00\nPERSON_ID                      0.0             0.00\nRoad User Type Desc            0.0             0.00\nHELMET_BELT_WORN              14.0             0.00\nROAD_USER_TYPE                 2.0             0.00",
      "text/html": "<div>\n<style scoped>\n    .dataframe tbody tr th:only-of-type {\n        vertical-align: middle;\n    }\n\n    .dataframe tbody tr th {\n        vertical-align: top;\n    }\n\n    .dataframe thead th {\n        text-align: right;\n    }\n</style>\n<table border=\"1\" class=\"dataframe\">\n  <thead>\n    <tr style=\"text-align: right;\">\n      <th></th>\n      <th>missing_count</th>\n      <th>missing_percent</th>\n    </tr>\n  </thead>\n  <tbody>\n    <tr>\n      <th>TAKEN_HOSPITAL</th>\n      <td>312089.0</td>\n      <td>63.57</td>\n    </tr>\n    <tr>\n      <th>LICENCE_STATE</th>\n      <td>113358.0</td>\n      <td>23.09</td>\n    </tr>\n    <tr>\n      <th>POSTCODE</th>\n      <td>74094.0</td>\n      <td>15.09</td>\n    </tr>\n    <tr>\n      <th>AGE</th>\n      <td>21629.0</td>\n      <td>4.41</td>\n    </tr>\n    <tr>\n      <th>SEATING_POSITION</th>\n      <td>21306.0</td>\n      <td>4.34</td>\n    </tr>\n    <tr>\n      <th>VEHICLE_ID</th>\n      <td>21294.0</td>\n      <td>4.34</td>\n    </tr>\n    <tr>\n      <th>EJECTED_CODE</th>\n      <td>15617.0</td>\n      <td>3.18</td>\n    </tr>\n    <tr>\n      <th>PEDEST_MOVEMENT</th>\n      <td>29.0</td>\n      <td>0.01</td>\n    </tr>\n    <tr>\n      <th>ACCIDENT_NO</th>\n      <td>0.0</td>\n      <td>0.00</td>\n    </tr>\n    <tr>\n      <th>Inj Level Desc</th>\n      <td>0.0</td>\n      <td>0.00</td>\n    </tr>\n    <tr>\n      <th>INJ_LEVEL</th>\n      <td>17.0</td>\n      <td>0.00</td>\n    </tr>\n    <tr>\n      <th>Age Group</th>\n      <td>0.0</td>\n      <td>0.00</td>\n    </tr>\n    <tr>\n      <th>SEX</th>\n      <td>19.0</td>\n      <td>0.00</td>\n    </tr>\n    <tr>\n      <th>PERSON_ID</th>\n      <td>0.0</td>\n      <td>0.00</td>\n    </tr>\n    <tr>\n      <th>Road User Type Desc</th>\n      <td>0.0</td>\n      <td>0.00</td>\n    </tr>\n    <tr>\n      <th>HELMET_BELT_WORN</th>\n      <td>14.0</td>\n      <td>0.00</td>\n    </tr>\n    <tr>\n      <th>ROAD_USER_TYPE</th>\n      <td>2.0</td>\n      <td>0.00</td>\n    </tr>\n  </tbody>\n</table>\n</div>"
     },
     "metadata": {},
     "output_type": "display_data"
    },
    {
     "name": "stdout",
     "output_type": "stream",
     "text": [
      "Missing values in ROAD_SURFACE_COND dataset:\n"
     ]
    },
    {
     "data": {
      "text/plain": "                   missing_count  missing_percent\nACCIDENT_NO                  0.0              0.0\nSURFACE_COND                 0.0              0.0\nSurface Cond Desc            0.0              0.0\nSURFACE_COND_SEQ             0.0              0.0",
      "text/html": "<div>\n<style scoped>\n    .dataframe tbody tr th:only-of-type {\n        vertical-align: middle;\n    }\n\n    .dataframe tbody tr th {\n        vertical-align: top;\n    }\n\n    .dataframe thead th {\n        text-align: right;\n    }\n</style>\n<table border=\"1\" class=\"dataframe\">\n  <thead>\n    <tr style=\"text-align: right;\">\n      <th></th>\n      <th>missing_count</th>\n      <th>missing_percent</th>\n    </tr>\n  </thead>\n  <tbody>\n    <tr>\n      <th>ACCIDENT_NO</th>\n      <td>0.0</td>\n      <td>0.0</td>\n    </tr>\n    <tr>\n      <th>SURFACE_COND</th>\n      <td>0.0</td>\n      <td>0.0</td>\n    </tr>\n    <tr>\n      <th>Surface Cond Desc</th>\n      <td>0.0</td>\n      <td>0.0</td>\n    </tr>\n    <tr>\n      <th>SURFACE_COND_SEQ</th>\n      <td>0.0</td>\n      <td>0.0</td>\n    </tr>\n  </tbody>\n</table>\n</div>"
     },
     "metadata": {},
     "output_type": "display_data"
    },
    {
     "name": "stdout",
     "output_type": "stream",
     "text": [
      "Missing values in SUBDCA dataset:\n"
     ]
    },
    {
     "data": {
      "text/plain": "                   missing_count  missing_percent\nACCIDENT_NO                  0.0              0.0\nSUB_DCA_CODE                 5.0              0.0\nSUB_DCA_SEQ                  0.0              0.0\nSub Dca Code Desc            0.0              0.0",
      "text/html": "<div>\n<style scoped>\n    .dataframe tbody tr th:only-of-type {\n        vertical-align: middle;\n    }\n\n    .dataframe tbody tr th {\n        vertical-align: top;\n    }\n\n    .dataframe thead th {\n        text-align: right;\n    }\n</style>\n<table border=\"1\" class=\"dataframe\">\n  <thead>\n    <tr style=\"text-align: right;\">\n      <th></th>\n      <th>missing_count</th>\n      <th>missing_percent</th>\n    </tr>\n  </thead>\n  <tbody>\n    <tr>\n      <th>ACCIDENT_NO</th>\n      <td>0.0</td>\n      <td>0.0</td>\n    </tr>\n    <tr>\n      <th>SUB_DCA_CODE</th>\n      <td>5.0</td>\n      <td>0.0</td>\n    </tr>\n    <tr>\n      <th>SUB_DCA_SEQ</th>\n      <td>0.0</td>\n      <td>0.0</td>\n    </tr>\n    <tr>\n      <th>Sub Dca Code Desc</th>\n      <td>0.0</td>\n      <td>0.0</td>\n    </tr>\n  </tbody>\n</table>\n</div>"
     },
     "metadata": {},
     "output_type": "display_data"
    },
    {
     "name": "stdout",
     "output_type": "stream",
     "text": [
      "Missing values in VEHICLE dataset:\n"
     ]
    },
    {
     "data": {
      "text/plain": "                        missing_count  missing_percent\nVEHICLE_POWER                365240.0           100.00\nCUBIC_CAPACITY               321920.0            88.14\nVEHICLE_WEIGHT               319083.0            87.36\nCARRY_CAPACITY               294848.0            80.73\nCONSTRUCTION_TYPE             92793.0            25.41\nSEATING_CAPACITY              85300.0            23.35\nNO_OF_WHEELS                  71085.0            19.46\nNO_OF_CYLINDERS               63248.0            17.32\nTARE_WEIGHT                   40730.0            11.15\nVEHICLE_MODEL                 40084.0            10.97\nOWNER_POSTCODE                36004.0             9.86\nVEHICLE_BODY_STYLE            32684.0             8.95\nREG_STATE                     26597.0             7.28\nVEHICLE_YEAR_MANUF            22858.0             6.26\nVEHICLE_MAKE                  20993.0             5.75\nFUEL_TYPE                     20993.0             5.75\nVEHICLE_DCA_CODE                280.0             0.08\nINITIAL_IMPACT                   58.0             0.02\nTRAILER_TYPE                     22.0             0.01\nINITIAL_DIRECTION                 0.0             0.00\nACCIDENT_NO                       0.0             0.00\nVEHICLE_ID                        0.0             0.00\nROAD_SURFACE_TYPE                 0.0             0.00\nRoad Surface Type Desc            0.0             0.00\nVEHICLE_TYPE                      0.0             0.00\nVehicle Type Desc                 0.0             0.00\nTOTAL_NO_OCCUPANTS                7.0             0.00\nVEHICLE_MOVEMENT                  6.0             0.00\nDRIVER_INTENT                     1.0             0.00\nFINAL_DIRECTION                   0.0             0.00\nVEHICLE_COLOUR_2                 13.0             0.00\nVEHICLE_COLOUR_1                  0.0             0.00\nLAMPS                             0.0             0.00\nCAUGHT_FIRE                       0.0             0.00\nLEVEL_OF_DAMAGE                   0.0             0.00\nTOWED_AWAY_FLAG                   1.0             0.00\nTRAFFIC_CONTROL                   1.0             0.00\nTraffic Control Desc              0.0             0.00",
      "text/html": "<div>\n<style scoped>\n    .dataframe tbody tr th:only-of-type {\n        vertical-align: middle;\n    }\n\n    .dataframe tbody tr th {\n        vertical-align: top;\n    }\n\n    .dataframe thead th {\n        text-align: right;\n    }\n</style>\n<table border=\"1\" class=\"dataframe\">\n  <thead>\n    <tr style=\"text-align: right;\">\n      <th></th>\n      <th>missing_count</th>\n      <th>missing_percent</th>\n    </tr>\n  </thead>\n  <tbody>\n    <tr>\n      <th>VEHICLE_POWER</th>\n      <td>365240.0</td>\n      <td>100.00</td>\n    </tr>\n    <tr>\n      <th>CUBIC_CAPACITY</th>\n      <td>321920.0</td>\n      <td>88.14</td>\n    </tr>\n    <tr>\n      <th>VEHICLE_WEIGHT</th>\n      <td>319083.0</td>\n      <td>87.36</td>\n    </tr>\n    <tr>\n      <th>CARRY_CAPACITY</th>\n      <td>294848.0</td>\n      <td>80.73</td>\n    </tr>\n    <tr>\n      <th>CONSTRUCTION_TYPE</th>\n      <td>92793.0</td>\n      <td>25.41</td>\n    </tr>\n    <tr>\n      <th>SEATING_CAPACITY</th>\n      <td>85300.0</td>\n      <td>23.35</td>\n    </tr>\n    <tr>\n      <th>NO_OF_WHEELS</th>\n      <td>71085.0</td>\n      <td>19.46</td>\n    </tr>\n    <tr>\n      <th>NO_OF_CYLINDERS</th>\n      <td>63248.0</td>\n      <td>17.32</td>\n    </tr>\n    <tr>\n      <th>TARE_WEIGHT</th>\n      <td>40730.0</td>\n      <td>11.15</td>\n    </tr>\n    <tr>\n      <th>VEHICLE_MODEL</th>\n      <td>40084.0</td>\n      <td>10.97</td>\n    </tr>\n    <tr>\n      <th>OWNER_POSTCODE</th>\n      <td>36004.0</td>\n      <td>9.86</td>\n    </tr>\n    <tr>\n      <th>VEHICLE_BODY_STYLE</th>\n      <td>32684.0</td>\n      <td>8.95</td>\n    </tr>\n    <tr>\n      <th>REG_STATE</th>\n      <td>26597.0</td>\n      <td>7.28</td>\n    </tr>\n    <tr>\n      <th>VEHICLE_YEAR_MANUF</th>\n      <td>22858.0</td>\n      <td>6.26</td>\n    </tr>\n    <tr>\n      <th>VEHICLE_MAKE</th>\n      <td>20993.0</td>\n      <td>5.75</td>\n    </tr>\n    <tr>\n      <th>FUEL_TYPE</th>\n      <td>20993.0</td>\n      <td>5.75</td>\n    </tr>\n    <tr>\n      <th>VEHICLE_DCA_CODE</th>\n      <td>280.0</td>\n      <td>0.08</td>\n    </tr>\n    <tr>\n      <th>INITIAL_IMPACT</th>\n      <td>58.0</td>\n      <td>0.02</td>\n    </tr>\n    <tr>\n      <th>TRAILER_TYPE</th>\n      <td>22.0</td>\n      <td>0.01</td>\n    </tr>\n    <tr>\n      <th>INITIAL_DIRECTION</th>\n      <td>0.0</td>\n      <td>0.00</td>\n    </tr>\n    <tr>\n      <th>ACCIDENT_NO</th>\n      <td>0.0</td>\n      <td>0.00</td>\n    </tr>\n    <tr>\n      <th>VEHICLE_ID</th>\n      <td>0.0</td>\n      <td>0.00</td>\n    </tr>\n    <tr>\n      <th>ROAD_SURFACE_TYPE</th>\n      <td>0.0</td>\n      <td>0.00</td>\n    </tr>\n    <tr>\n      <th>Road Surface Type Desc</th>\n      <td>0.0</td>\n      <td>0.00</td>\n    </tr>\n    <tr>\n      <th>VEHICLE_TYPE</th>\n      <td>0.0</td>\n      <td>0.00</td>\n    </tr>\n    <tr>\n      <th>Vehicle Type Desc</th>\n      <td>0.0</td>\n      <td>0.00</td>\n    </tr>\n    <tr>\n      <th>TOTAL_NO_OCCUPANTS</th>\n      <td>7.0</td>\n      <td>0.00</td>\n    </tr>\n    <tr>\n      <th>VEHICLE_MOVEMENT</th>\n      <td>6.0</td>\n      <td>0.00</td>\n    </tr>\n    <tr>\n      <th>DRIVER_INTENT</th>\n      <td>1.0</td>\n      <td>0.00</td>\n    </tr>\n    <tr>\n      <th>FINAL_DIRECTION</th>\n      <td>0.0</td>\n      <td>0.00</td>\n    </tr>\n    <tr>\n      <th>VEHICLE_COLOUR_2</th>\n      <td>13.0</td>\n      <td>0.00</td>\n    </tr>\n    <tr>\n      <th>VEHICLE_COLOUR_1</th>\n      <td>0.0</td>\n      <td>0.00</td>\n    </tr>\n    <tr>\n      <th>LAMPS</th>\n      <td>0.0</td>\n      <td>0.00</td>\n    </tr>\n    <tr>\n      <th>CAUGHT_FIRE</th>\n      <td>0.0</td>\n      <td>0.00</td>\n    </tr>\n    <tr>\n      <th>LEVEL_OF_DAMAGE</th>\n      <td>0.0</td>\n      <td>0.00</td>\n    </tr>\n    <tr>\n      <th>TOWED_AWAY_FLAG</th>\n      <td>1.0</td>\n      <td>0.00</td>\n    </tr>\n    <tr>\n      <th>TRAFFIC_CONTROL</th>\n      <td>1.0</td>\n      <td>0.00</td>\n    </tr>\n    <tr>\n      <th>Traffic Control Desc</th>\n      <td>0.0</td>\n      <td>0.00</td>\n    </tr>\n  </tbody>\n</table>\n</div>"
     },
     "metadata": {},
     "output_type": "display_data"
    }
   ],
   "source": [
    "# Generate missing value summary for each dataset\n",
    "missing_value_summaries = {}\n",
    "for name, df in datasets.items():\n",
    "    missing_value_summaries[name] = missing_value_summary(df)\n",
    "# Display in the dataframe\n",
    "for name, summary in missing_value_summaries.items():\n",
    "    print(f\"Missing values in {name} dataset:\")\n",
    "    pd.set_option(\"display.max_rows\", None)\n",
    "    pd.set_option(\"display.max_columns\", None)\n",
    "    display(summary)"
   ],
   "metadata": {
    "collapsed": false,
    "ExecuteTime": {
     "end_time": "2025-08-11T01:50:40.581034300Z",
     "start_time": "2025-08-11T01:50:28.763904700Z"
    }
   },
   "id": "d3f7c29d652a4371"
  },
  {
   "cell_type": "code",
   "execution_count": null,
   "outputs": [],
   "source": [],
   "metadata": {
    "collapsed": false
   },
   "id": "2389e03372a42cd3"
  }
 ],
 "metadata": {
  "kernelspec": {
   "display_name": "Python 3",
   "language": "python",
   "name": "python3"
  },
  "language_info": {
   "codemirror_mode": {
    "name": "ipython",
    "version": 2
   },
   "file_extension": ".py",
   "mimetype": "text/x-python",
   "name": "python",
   "nbconvert_exporter": "python",
   "pygments_lexer": "ipython2",
   "version": "2.7.6"
  }
 },
 "nbformat": 4,
 "nbformat_minor": 5
}
