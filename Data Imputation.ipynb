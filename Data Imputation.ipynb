{
 "cells": [
  {
   "cell_type": "markdown",
   "source": [
    "# Data Imputation\n",
    "Based on the EDA and features selection, I found some features include the 'Not applicable' or 'Unknown' values, which may affect the model performance. In this notebook, I will impute the missing values based on the EDA and features selection results. The imputation methods include:\n",
    "1. Kmeans clustering\n",
    "2. Rule-based imputation\n",
    "3. Reverse geocoding (Additional)\n",
    "\n",
    "The features imputed: **ATMOSPH_COND**, **LIGHTING_CONDITION**, **SURFACE_COND**, **SPEED_ZONE**, **ROAD_NAME (Additional)**"
   ],
   "metadata": {
    "collapsed": false
   },
   "id": "aeec83214cb35661"
  },
  {
   "cell_type": "code",
   "execution_count": 4,
   "outputs": [],
   "source": [
    "from sklearn.cluster import KMeans\n",
    "from sklearn.preprocessing import OneHotEncoder, StandardScaler\n",
    "from sklearn.compose import ColumnTransformer\n",
    "from sklearn.pipeline import Pipeline\n",
    "import numpy as np\n",
    "import pandas as pd\n",
    "import warnings\n",
    "\n",
    "# Suppress all UserWarnings\n",
    "warnings.filterwarnings(\"ignore\", category=UserWarning)\n",
    "# Load the all the dataset from Dataset folder\n",
    "def load_dataset(file_name):\n",
    "    \"\"\"\n",
    "    Load a dataset from the 'Dataset' folder.\n",
    "    \n",
    "    Parameters:\n",
    "    file_name (str): The name of the file to load (e.g., 'data.csv').\n",
    "    \n",
    "    Returns:\n",
    "    pd.DataFrame: The loaded dataset as a pandas DataFrame.\n",
    "    \"\"\"\n",
    "    return pd.read_csv(f'Dataset/{file_name}', low_memory=False)\n",
    "\n",
    "file_list = [\n",
    "    'ACCIDENT.csv',\n",
    "    'ACCIDENT_CHAINAGE.csv',\n",
    "    'ACCIDENT_EVENT.csv',\n",
    "    'ACCIDENT_LOCATION.csv',\n",
    "    'ATMOSPHERIC_COND.csv',\n",
    "    'NODE.csv',\n",
    "    'NODE_ID_COMPLEX_INT_ID.csv',\n",
    "    'PERSON.csv',\n",
    "    'ROAD_SURFACE_COND.csv',\n",
    "    'SUBDCA.csv',\n",
    "    'VEHICLE.csv'\n",
    "]\n",
    "# Load all datasets into a dictionary\n",
    "datasets = {file_name.split('.')[0]: load_dataset(file_name) for file_name in file_list}\n",
    "# Save the datasets to a dictionary for further processing\n",
    "datasets = {\n",
    "    'ACCIDENT': load_dataset('ACCIDENT.csv'),\n",
    "    'ACCIDENT_CHAINAGE': load_dataset('ACCIDENT_CHAINAGE.csv'),\n",
    "    'ACCIDENT_EVENT': load_dataset('ACCIDENT_EVENT.csv'),\n",
    "    'ACCIDENT_LOCATION': load_dataset('ACCIDENT_LOCATION.csv'),\n",
    "    'ATMOSPHERIC_COND': load_dataset('ATMOSPHERIC_COND.csv'),\n",
    "    'NODE': load_dataset('NODE.csv'),\n",
    "    'NODE_ID_COMPLEX_INT_ID': load_dataset('NODE_ID_COMPLEX_INT_ID.csv'),\n",
    "    'PERSON': load_dataset('PERSON.csv'),\n",
    "    'ROAD_SURFACE_COND': load_dataset('ROAD_SURFACE_COND.csv'),\n",
    "    'SUBDCA': load_dataset('SUBDCA.csv'),\n",
    "    'VEHICLE': load_dataset('VEHICLE.csv')\n",
    "}\n",
    "# Generate a summary table for a categorical column with mapped descriptions and value counts.\n",
    "def description_summary(df, column_name, mapping_dict):\n",
    "    mapping_df = pd.DataFrame(list(mapping_dict.items()), columns=[column_name, \"Description\"])\n",
    "    counts_df = df[column_name].value_counts().reset_index()\n",
    "    counts_df.columns = [column_name, \"Count\"]\n",
    "    # Merge with descriptions\n",
    "    summary_df = pd.merge(mapping_df, counts_df, on=column_name, how=\"left\").fillna(0)\n",
    "    display(summary_df)\n",
    "    return summary_df"
   ],
   "metadata": {
    "collapsed": false,
    "ExecuteTime": {
     "end_time": "2025-08-12T06:08:42.073191800Z",
     "start_time": "2025-08-12T06:08:32.005872100Z"
    }
   },
   "id": "initial_id"
  },
  {
   "cell_type": "markdown",
   "source": [
    "# Atmospheric Condition Imputation\n",
    "Some of the accidents have multiple weather conditions recorded, and some have unknown weather conditions. In order to maintain consistency and avoid confusion, I will impute the atmospheric condition based on the accident time and location. The steps are as follows:\n",
    "\n",
    "Original atmospheric condition description: 1 Clear 2 Raining 3 Snowing 4 Fog 5 Smoke 6 Dust 7 Strong winds 9 Not known\n",
    "\n",
    "Join table sequence : ACCIDENT -> NODE -> ATMOSPHERIC_COND\n"
   ],
   "metadata": {
    "collapsed": false
   },
   "id": "5dc56460b88099b8"
  },
  {
   "cell_type": "code",
   "execution_count": 5,
   "outputs": [
    {
     "name": "stdout",
     "output_type": "stream",
     "text": [
      "Original Atmospheric Condition Distribution:\n"
     ]
    },
    {
     "data": {
      "text/plain": "   ATMOSPH_COND   Description   Count\n0             1         Clear  164227\n1             2       Raining   22018\n2             3       Snowing      48\n3             4           Fog    1535\n4             5         Smoke     253\n5             6          Dust     396\n6             7  Strong winds     392\n7             9     Not known   14839",
      "text/html": "<div>\n<style scoped>\n    .dataframe tbody tr th:only-of-type {\n        vertical-align: middle;\n    }\n\n    .dataframe tbody tr th {\n        vertical-align: top;\n    }\n\n    .dataframe thead th {\n        text-align: right;\n    }\n</style>\n<table border=\"1\" class=\"dataframe\">\n  <thead>\n    <tr style=\"text-align: right;\">\n      <th></th>\n      <th>ATMOSPH_COND</th>\n      <th>Description</th>\n      <th>Count</th>\n    </tr>\n  </thead>\n  <tbody>\n    <tr>\n      <th>0</th>\n      <td>1</td>\n      <td>Clear</td>\n      <td>164227</td>\n    </tr>\n    <tr>\n      <th>1</th>\n      <td>2</td>\n      <td>Raining</td>\n      <td>22018</td>\n    </tr>\n    <tr>\n      <th>2</th>\n      <td>3</td>\n      <td>Snowing</td>\n      <td>48</td>\n    </tr>\n    <tr>\n      <th>3</th>\n      <td>4</td>\n      <td>Fog</td>\n      <td>1535</td>\n    </tr>\n    <tr>\n      <th>4</th>\n      <td>5</td>\n      <td>Smoke</td>\n      <td>253</td>\n    </tr>\n    <tr>\n      <th>5</th>\n      <td>6</td>\n      <td>Dust</td>\n      <td>396</td>\n    </tr>\n    <tr>\n      <th>6</th>\n      <td>7</td>\n      <td>Strong winds</td>\n      <td>392</td>\n    </tr>\n    <tr>\n      <th>7</th>\n      <td>9</td>\n      <td>Not known</td>\n      <td>14839</td>\n    </tr>\n  </tbody>\n</table>\n</div>"
     },
     "metadata": {},
     "output_type": "display_data"
    }
   ],
   "source": [
    "atmospheric_mapping_impute = {\n",
    "    1: \"Clear\",\n",
    "    2: \"Raining\",\n",
    "    3: \"Snowing\",\n",
    "    4: \"Fog\",\n",
    "    5: \"Smoke\",\n",
    "    6: \"Dust\",\n",
    "    7: \"Strong winds\",\n",
    "    9: \"Not known\",\n",
    "    10: \"Multiple Weather Conditions\"\n",
    "}\n",
    "atmospheric_mapping = {\n",
    "    1: \"Clear\",\n",
    "    2: \"Raining\",\n",
    "    3: \"Snowing\",\n",
    "    4: \"Fog\",\n",
    "    5: \"Smoke\",\n",
    "    6: \"Dust\",\n",
    "    7: \"Strong winds\",\n",
    "    9: \"Not known\"\n",
    "}\n",
    "atmospheric_condition = datasets['ATMOSPHERIC_COND'].copy()\n",
    "# remove the replicate accident no\n",
    "atmospheric_condition = atmospheric_condition.drop_duplicates(subset=['ACCIDENT_NO'], keep='first')\n",
    "# Check the distribution of atmospheric condition\n",
    "print(\"Original Atmospheric Condition Distribution:\")\n",
    "atmospheric_condition_summary = description_summary(atmospheric_condition, \"ATMOSPH_COND\", atmospheric_mapping)"
   ],
   "metadata": {
    "collapsed": false,
    "ExecuteTime": {
     "end_time": "2025-08-12T06:08:47.581755400Z",
     "start_time": "2025-08-12T06:08:47.525209300Z"
    }
   },
   "id": "d4b2cafdb9227acc"
  },
  {
   "cell_type": "markdown",
   "source": [
    "### Step 1: Load the data, and assign \"10\" for multiple weather conditions"
   ],
   "metadata": {
    "collapsed": false
   },
   "id": "58a5c10e8c9e4af2"
  },
  {
   "cell_type": "code",
   "execution_count": 6,
   "outputs": [
    {
     "data": {
      "text/plain": "(203708, 4)"
     },
     "execution_count": 6,
     "metadata": {},
     "output_type": "execute_result"
    }
   ],
   "source": [
    "# Load the data\n",
    "acc = datasets['ACCIDENT'].copy()\n",
    "# Parse the accidenttime hour and month\n",
    "acc['ACCIDENT_TIME_HOUR'] = pd.to_datetime(acc['ACCIDENTTIME']).dt.hour\n",
    "acc['ACCIDENT_TIME_MONTH'] = pd.to_datetime(acc['ACCIDENTDATE']).dt.month\n",
    "# find the atmosph_cond_seq > 1\n",
    "multi_weather_ids = atmospheric_condition[atmospheric_condition['ATMOSPH_COND_SEQ'] > 1]['ACCIDENT_NO'].unique()\n",
    "# Assign 10 for multiple weather conditions\n",
    "atmospheric_condition.loc[atmospheric_condition[\"ACCIDENT_NO\"].isin(multi_weather_ids), \"ATMOSPH_COND\"] = 10\n",
    "atmospheric_condition.loc[atmospheric_condition[\"ACCIDENT_NO\"].isin(multi_weather_ids), \"Atmosph Cond Desc\"] = 'Multiple Weather Conditions'\n",
    "\n",
    "atmospheric_condition.shape"
   ],
   "metadata": {
    "collapsed": false,
    "ExecuteTime": {
     "end_time": "2025-08-12T06:08:50.851303400Z",
     "start_time": "2025-08-12T06:08:50.595687300Z"
    }
   },
   "id": "f1c4d8d38df2d5c5"
  },
  {
   "cell_type": "markdown",
   "source": [
    "### Step 2: Join the atmospheric condition with ACCIDENT and NODE table using ACCIDENT_NO"
   ],
   "metadata": {
    "collapsed": false
   },
   "id": "66f08f0cd16f3061"
  },
  {
   "cell_type": "code",
   "execution_count": 7,
   "outputs": [
    {
     "data": {
      "text/plain": "(203708, 31)"
     },
     "execution_count": 7,
     "metadata": {},
     "output_type": "execute_result"
    }
   ],
   "source": [
    "# Join with accident features\n",
    "node_by_acc = datasets[\"NODE\"].drop_duplicates(subset=[\"ACCIDENT_NO\"]).copy()\n",
    "acc_node = acc.merge(\n",
    "    node_by_acc[[\"ACCIDENT_NO\",\"POSTCODE_NO\"]],\n",
    "    on=\"ACCIDENT_NO\", how=\"left\"\n",
    ")\n",
    "acc_node.shape"
   ],
   "metadata": {
    "collapsed": false,
    "ExecuteTime": {
     "end_time": "2025-08-12T06:09:15.578064200Z",
     "start_time": "2025-08-12T06:09:15.382441900Z"
    }
   },
   "id": "49f83dd4b698b8aa"
  },
  {
   "cell_type": "code",
   "execution_count": 8,
   "outputs": [
    {
     "data": {
      "text/plain": "(203708, 7)"
     },
     "execution_count": 8,
     "metadata": {},
     "output_type": "execute_result"
    }
   ],
   "source": [
    "atmospheric_condition_full = atmospheric_condition.merge(\n",
    "    acc_node[[\"ACCIDENT_NO\",\"ACCIDENT_TIME_MONTH\",\"ACCIDENT_TIME_HOUR\",\"POSTCODE_NO\"]],\n",
    "    on=\"ACCIDENT_NO\", how=\"left\"\n",
    ")\n",
    "atmospheric_condition_full.shape"
   ],
   "metadata": {
    "collapsed": false,
    "ExecuteTime": {
     "end_time": "2025-08-12T06:09:17.571764500Z",
     "start_time": "2025-08-12T06:09:17.521725400Z"
    }
   },
   "id": "ed80c281adb881f8"
  },
  {
   "cell_type": "markdown",
   "source": [
    "### Step 3: Impute missing atmospheric condition using KMeans clustering based on ACCIDENT_TIME_MONTH, ACCIDENT_TIME_HOUR and POSTCODE_NO"
   ],
   "metadata": {
    "collapsed": false
   },
   "id": "5a942527d49f5857"
  },
  {
   "cell_type": "code",
   "execution_count": 9,
   "outputs": [
    {
     "name": "stdout",
     "output_type": "stream",
     "text": [
      "Atmospheric Condition Imputation Summary:\n"
     ]
    },
    {
     "data": {
      "text/plain": "   ATMOSPH_COND                  Description     Count\n0             1                        Clear  179066.0\n1             2                      Raining   21686.0\n2             3                      Snowing      38.0\n3             4                          Fog    1532.0\n4             5                        Smoke     237.0\n5             6                         Dust     396.0\n6             7                 Strong winds     392.0\n7             9                    Not known       0.0\n8            10  Multiple Weather Conditions     361.0",
      "text/html": "<div>\n<style scoped>\n    .dataframe tbody tr th:only-of-type {\n        vertical-align: middle;\n    }\n\n    .dataframe tbody tr th {\n        vertical-align: top;\n    }\n\n    .dataframe thead th {\n        text-align: right;\n    }\n</style>\n<table border=\"1\" class=\"dataframe\">\n  <thead>\n    <tr style=\"text-align: right;\">\n      <th></th>\n      <th>ATMOSPH_COND</th>\n      <th>Description</th>\n      <th>Count</th>\n    </tr>\n  </thead>\n  <tbody>\n    <tr>\n      <th>0</th>\n      <td>1</td>\n      <td>Clear</td>\n      <td>179066.0</td>\n    </tr>\n    <tr>\n      <th>1</th>\n      <td>2</td>\n      <td>Raining</td>\n      <td>21686.0</td>\n    </tr>\n    <tr>\n      <th>2</th>\n      <td>3</td>\n      <td>Snowing</td>\n      <td>38.0</td>\n    </tr>\n    <tr>\n      <th>3</th>\n      <td>4</td>\n      <td>Fog</td>\n      <td>1532.0</td>\n    </tr>\n    <tr>\n      <th>4</th>\n      <td>5</td>\n      <td>Smoke</td>\n      <td>237.0</td>\n    </tr>\n    <tr>\n      <th>5</th>\n      <td>6</td>\n      <td>Dust</td>\n      <td>396.0</td>\n    </tr>\n    <tr>\n      <th>6</th>\n      <td>7</td>\n      <td>Strong winds</td>\n      <td>392.0</td>\n    </tr>\n    <tr>\n      <th>7</th>\n      <td>9</td>\n      <td>Not known</td>\n      <td>0.0</td>\n    </tr>\n    <tr>\n      <th>8</th>\n      <td>10</td>\n      <td>Multiple Weather Conditions</td>\n      <td>361.0</td>\n    </tr>\n  </tbody>\n</table>\n</div>"
     },
     "metadata": {},
     "output_type": "display_data"
    }
   ],
   "source": [
    "features_num = [\"ACCIDENT_TIME_MONTH\", \"ACCIDENT_TIME_HOUR\"]\n",
    "features_cat = [\"POSTCODE_NO\"] \n",
    "\n",
    "for col in [\"POSTCODE_NO\"]:\n",
    "    atmospheric_condition_full[col] = atmospheric_condition_full[col].astype(\"category\")\n",
    "# Mask the unknown and multiple weather conditions\n",
    "mask_unknown = (atmospheric_condition_full[\"ATMOSPH_COND\"] == 9)\n",
    "mask_multi   = (atmospheric_condition_full[\"ATMOSPH_COND\"] == 10)\n",
    "\n",
    "known = atmospheric_condition_full[~mask_unknown & ~mask_multi].copy()\n",
    "unknown = atmospheric_condition_full[mask_unknown].copy()\n",
    "multi   = atmospheric_condition_full[mask_multi].copy()\n",
    "\n",
    "# Build a preprocessing + KMeans pipeline\n",
    "pre = ColumnTransformer(\n",
    "    transformers=[\n",
    "        (\"num\", StandardScaler(), features_num),\n",
    "        (\"cat\", OneHotEncoder(handle_unknown=\"ignore\"), features_cat),\n",
    "    ]\n",
    ")\n",
    "# Create a KMeans, with 7 clusters indicate the 7 weather conditions\n",
    "# 1 Clear 2 Raining 3 Snowing 4 Fog 5 Smoke 6 Dust 7 Strong winds 9 Not known\n",
    "kmeans = KMeans(n_clusters=7, random_state=42, n_init=10)\n",
    "pipe = Pipeline(steps=[(\"prep\", pre), (\"km\", kmeans)])\n",
    "\n",
    "# Fit on KNOWN only (1-7 weather conditions)\n",
    "X_known = known[features_num + features_cat]\n",
    "pipe.fit(X_known)\n",
    "\n",
    "#  Get clusters for known and map each cluster to its majority weather code\n",
    "known[\"cluster\"] = pipe.named_steps[\"km\"].labels_\n",
    "cluster_weather_map = (\n",
    "    known.groupby(\"cluster\")[\"ATMOSPH_COND\"]\n",
    "    .agg(lambda s: s.mode().iloc[0])\n",
    "    .to_dict()\n",
    ")\n",
    "\n",
    "# Predict clusters for 9(Not known) and impute from cluster majority\n",
    "X_unknown = unknown[features_num + features_cat]\n",
    "unknown[\"cluster\"] = pipe.predict(X_unknown)\n",
    "unknown[\"ATMOSPH_COND\"] = unknown[\"cluster\"].map(cluster_weather_map).astype(int)\n",
    "\n",
    "# Recombine the datasets\n",
    "atmospheric_condition_full_imputed = pd.concat([known, unknown, multi], ignore_index=True)\n",
    "# check each class number in atospheric condition\n",
    "print(\"Atmospheric Condition Imputation Summary:\")\n",
    "atmospheric_condition_summary = description_summary(atmospheric_condition_full_imputed, \"ATMOSPH_COND\", atmospheric_mapping_impute)"
   ],
   "metadata": {
    "collapsed": false,
    "ExecuteTime": {
     "end_time": "2025-08-12T06:11:43.055141200Z",
     "start_time": "2025-08-12T06:11:39.882043300Z"
    }
   },
   "id": "bfbff890b051ef5a"
  },
  {
   "cell_type": "code",
   "execution_count": 11,
   "outputs": [
    {
     "name": "stdout",
     "output_type": "stream",
     "text": [
      "Original Atmospheric Condition Distribution:\n"
     ]
    },
    {
     "data": {
      "text/plain": "   ATMOSPH_COND   Description   Count\n0             1         Clear  164227\n1             2       Raining   21686\n2             3       Snowing      38\n3             4           Fog    1532\n4             5         Smoke     237\n5             6          Dust     396\n6             7  Strong winds     392\n7             9     Not known   14839",
      "text/html": "<div>\n<style scoped>\n    .dataframe tbody tr th:only-of-type {\n        vertical-align: middle;\n    }\n\n    .dataframe tbody tr th {\n        vertical-align: top;\n    }\n\n    .dataframe thead th {\n        text-align: right;\n    }\n</style>\n<table border=\"1\" class=\"dataframe\">\n  <thead>\n    <tr style=\"text-align: right;\">\n      <th></th>\n      <th>ATMOSPH_COND</th>\n      <th>Description</th>\n      <th>Count</th>\n    </tr>\n  </thead>\n  <tbody>\n    <tr>\n      <th>0</th>\n      <td>1</td>\n      <td>Clear</td>\n      <td>164227</td>\n    </tr>\n    <tr>\n      <th>1</th>\n      <td>2</td>\n      <td>Raining</td>\n      <td>21686</td>\n    </tr>\n    <tr>\n      <th>2</th>\n      <td>3</td>\n      <td>Snowing</td>\n      <td>38</td>\n    </tr>\n    <tr>\n      <th>3</th>\n      <td>4</td>\n      <td>Fog</td>\n      <td>1532</td>\n    </tr>\n    <tr>\n      <th>4</th>\n      <td>5</td>\n      <td>Smoke</td>\n      <td>237</td>\n    </tr>\n    <tr>\n      <th>5</th>\n      <td>6</td>\n      <td>Dust</td>\n      <td>396</td>\n    </tr>\n    <tr>\n      <th>6</th>\n      <td>7</td>\n      <td>Strong winds</td>\n      <td>392</td>\n    </tr>\n    <tr>\n      <th>7</th>\n      <td>9</td>\n      <td>Not known</td>\n      <td>14839</td>\n    </tr>\n  </tbody>\n</table>\n</div>"
     },
     "metadata": {},
     "output_type": "display_data"
    }
   ],
   "source": [
    "# Check the original atmospheric condition\n",
    "print(\"Original Atmospheric Condition Distribution:\")\n",
    "atmospheric_condition_summary = description_summary(atmospheric_condition, \"ATMOSPH_COND\", atmospheric_mapping)"
   ],
   "metadata": {
    "collapsed": false,
    "ExecuteTime": {
     "end_time": "2025-08-12T06:13:36.341872900Z",
     "start_time": "2025-08-12T06:13:36.307159900Z"
    }
   },
   "id": "48d7e4f54ea7d5d0"
  },
  {
   "cell_type": "code",
   "execution_count": 11,
   "outputs": [],
   "source": [
    "# ---- SAVE THE RESULT ----- if you wanna save, uncommented this cell.\n",
    "# Only keep ACCIDNET_NO, ATMOSPH_COND, Atmosph Cond Desc\n",
    "# atmospheric_condition_final = atmospheric_condition_full_imputed[[\"ACCIDENT_NO\", \"ATMOSPH_COND\", \"Atmosph Cond Desc\"]].copy()\n",
    "# SAve the imputed atmospheric condition to a csv file\n",
    "# atmospheric_condition_final.to_csv(\"Clean-data/ATMOSPHERIC_COND_IMPUTED.csv\", index=False)"
   ],
   "metadata": {
    "collapsed": false,
    "ExecuteTime": {
     "end_time": "2025-08-12T01:58:02.344430800Z",
     "start_time": "2025-08-12T01:58:02.158952600Z"
    }
   },
   "id": "93529789f37577d3"
  },
  {
   "cell_type": "markdown",
   "source": [
    "## Lighting Condition Imputation\n",
    "Some of the accidents have unknown lighting conditions. In order to maintain consistency and avoid confusion, I will impute the lighting condition based on the accident time.\n",
    "\n",
    "Origianl light condition description: 1 Daylight 2 Dark - Street Lights On 3 Dark - Street Lights Off 4 Dark - No Street Lights 5 Dusk/Dawn 6 Dark - Unknown Lighting 7 Daylight - Unknown Lighting 8 Daylight - Street Lights On 9 Unknown\n"
   ],
   "metadata": {
    "collapsed": false
   },
   "id": "7659596c32334aa5"
  },
  {
   "cell_type": "code",
   "execution_count": 12,
   "outputs": [
    {
     "name": "stdout",
     "output_type": "stream",
     "text": [
      "Original Light Condition Distribution:\n"
     ]
    },
    {
     "data": {
      "text/plain": "   LIGHT_CONDITION                  Description     Count\n0                1                     Daylight  136360.0\n1                2      Dark - Street Lights On   16485.0\n2                3     Dark - Street Lights Off   33105.0\n3                4      Dark - No Street Lights     516.0\n4                5                    Dusk/Dawn   11490.0\n5                6      Dark - Unknown Lighting    2063.0\n6                7  Daylight - Unknown Lighting       0.0\n7                8  Daylight - Street Lights On       0.0\n8                9                      Unknown    3689.0",
      "text/html": "<div>\n<style scoped>\n    .dataframe tbody tr th:only-of-type {\n        vertical-align: middle;\n    }\n\n    .dataframe tbody tr th {\n        vertical-align: top;\n    }\n\n    .dataframe thead th {\n        text-align: right;\n    }\n</style>\n<table border=\"1\" class=\"dataframe\">\n  <thead>\n    <tr style=\"text-align: right;\">\n      <th></th>\n      <th>LIGHT_CONDITION</th>\n      <th>Description</th>\n      <th>Count</th>\n    </tr>\n  </thead>\n  <tbody>\n    <tr>\n      <th>0</th>\n      <td>1</td>\n      <td>Daylight</td>\n      <td>136360.0</td>\n    </tr>\n    <tr>\n      <th>1</th>\n      <td>2</td>\n      <td>Dark - Street Lights On</td>\n      <td>16485.0</td>\n    </tr>\n    <tr>\n      <th>2</th>\n      <td>3</td>\n      <td>Dark - Street Lights Off</td>\n      <td>33105.0</td>\n    </tr>\n    <tr>\n      <th>3</th>\n      <td>4</td>\n      <td>Dark - No Street Lights</td>\n      <td>516.0</td>\n    </tr>\n    <tr>\n      <th>4</th>\n      <td>5</td>\n      <td>Dusk/Dawn</td>\n      <td>11490.0</td>\n    </tr>\n    <tr>\n      <th>5</th>\n      <td>6</td>\n      <td>Dark - Unknown Lighting</td>\n      <td>2063.0</td>\n    </tr>\n    <tr>\n      <th>6</th>\n      <td>7</td>\n      <td>Daylight - Unknown Lighting</td>\n      <td>0.0</td>\n    </tr>\n    <tr>\n      <th>7</th>\n      <td>8</td>\n      <td>Daylight - Street Lights On</td>\n      <td>0.0</td>\n    </tr>\n    <tr>\n      <th>8</th>\n      <td>9</td>\n      <td>Unknown</td>\n      <td>3689.0</td>\n    </tr>\n  </tbody>\n</table>\n</div>"
     },
     "metadata": {},
     "output_type": "display_data"
    }
   ],
   "source": [
    "acc = datasets['ACCIDENT'].copy()\n",
    "# Check the distribution of LIGHT_CONDITION\n",
    "print(\"Original Light Condition Distribution:\")\n",
    "lighting_mapping = {\n",
    "    1: \"Daylight\",\n",
    "    2: \"Dark - Street Lights On\",\n",
    "    3: \"Dark - Street Lights Off\",\n",
    "    4: \"Dark - No Street Lights\",\n",
    "    5: \"Dusk/Dawn\",\n",
    "    6: \"Dark - Unknown Lighting\",\n",
    "    7: \"Daylight - Unknown Lighting\",\n",
    "    8: \"Daylight - Street Lights On\",\n",
    "    9: \"Unknown\"\n",
    "}\n",
    "lighting_summary = description_summary(acc, \"LIGHT_CONDITION\", lighting_mapping)"
   ],
   "metadata": {
    "collapsed": false,
    "ExecuteTime": {
     "end_time": "2025-08-12T06:13:48.631938400Z",
     "start_time": "2025-08-12T06:13:48.581172900Z"
    }
   },
   "id": "de591672b4be5347"
  },
  {
   "cell_type": "markdown",
   "source": [
    "### Impute LIGHT_CONDITION based on ACCIDENT_TIME\n",
    "If time hours are between 6 and 18, set LIGHT_CONDITION to 1 (Daylight), if time hours are between 18 and 6, set LIGHT_CONDITION to 6 (Dark - Unknown Lighting)"
   ],
   "metadata": {
    "collapsed": false
   },
   "id": "e5f0094c85da8763"
  },
  {
   "cell_type": "code",
   "execution_count": 13,
   "outputs": [
    {
     "name": "stdout",
     "output_type": "stream",
     "text": [
      "Imputed Light Condition Distribution:\n"
     ]
    },
    {
     "data": {
      "text/plain": "   LIGHT_CONDITION                  Description     Count\n0                1                     Daylight  138997.0\n1                2      Dark - Street Lights On   16485.0\n2                3     Dark - Street Lights Off   33105.0\n3                4      Dark - No Street Lights     516.0\n4                5                    Dusk/Dawn   11490.0\n5                6      Dark - Unknown Lighting    3115.0\n6                7  Daylight - Unknown Lighting       0.0\n7                8  Daylight - Street Lights On       0.0\n8                9                      Unknown       0.0",
      "text/html": "<div>\n<style scoped>\n    .dataframe tbody tr th:only-of-type {\n        vertical-align: middle;\n    }\n\n    .dataframe tbody tr th {\n        vertical-align: top;\n    }\n\n    .dataframe thead th {\n        text-align: right;\n    }\n</style>\n<table border=\"1\" class=\"dataframe\">\n  <thead>\n    <tr style=\"text-align: right;\">\n      <th></th>\n      <th>LIGHT_CONDITION</th>\n      <th>Description</th>\n      <th>Count</th>\n    </tr>\n  </thead>\n  <tbody>\n    <tr>\n      <th>0</th>\n      <td>1</td>\n      <td>Daylight</td>\n      <td>138997.0</td>\n    </tr>\n    <tr>\n      <th>1</th>\n      <td>2</td>\n      <td>Dark - Street Lights On</td>\n      <td>16485.0</td>\n    </tr>\n    <tr>\n      <th>2</th>\n      <td>3</td>\n      <td>Dark - Street Lights Off</td>\n      <td>33105.0</td>\n    </tr>\n    <tr>\n      <th>3</th>\n      <td>4</td>\n      <td>Dark - No Street Lights</td>\n      <td>516.0</td>\n    </tr>\n    <tr>\n      <th>4</th>\n      <td>5</td>\n      <td>Dusk/Dawn</td>\n      <td>11490.0</td>\n    </tr>\n    <tr>\n      <th>5</th>\n      <td>6</td>\n      <td>Dark - Unknown Lighting</td>\n      <td>3115.0</td>\n    </tr>\n    <tr>\n      <th>6</th>\n      <td>7</td>\n      <td>Daylight - Unknown Lighting</td>\n      <td>0.0</td>\n    </tr>\n    <tr>\n      <th>7</th>\n      <td>8</td>\n      <td>Daylight - Street Lights On</td>\n      <td>0.0</td>\n    </tr>\n    <tr>\n      <th>8</th>\n      <td>9</td>\n      <td>Unknown</td>\n      <td>0.0</td>\n    </tr>\n  </tbody>\n</table>\n</div>"
     },
     "metadata": {},
     "output_type": "display_data"
    }
   ],
   "source": [
    "acc['ACCIDENT_TIME_HOUR'] = pd.to_datetime(acc['ACCIDENTTIME']).dt.hour\n",
    "# Mask for Unknown light conditions (9)\n",
    "mask_unknown = acc['LIGHT_CONDITION'] == 9\n",
    "# if the accident time hour is between 6 and 18, set LIGHT_CONDITION to 1 (Daylight)\n",
    "acc.loc[mask_unknown & (acc['ACCIDENT_TIME_HOUR'] >= 6) & (acc['ACCIDENT_TIME_HOUR'] < 18), 'LIGHT_CONDITION'] = 1\n",
    "# if the accident time hour is between 18 and 6, set LIGHT_CONDITION to 6 (Dark - Unknown Lighting)\n",
    "acc.loc[mask_unknown & ((acc['ACCIDENT_TIME_HOUR'] < 6) | (acc['ACCIDENT_TIME_HOUR'] >= 18)), 'LIGHT_CONDITION'] = 6\n",
    "# Check result\n",
    "print(\"Imputed Light Condition Distribution:\")\n",
    "lighting_summary_imputed = description_summary(acc, \"LIGHT_CONDITION\", lighting_mapping)"
   ],
   "metadata": {
    "collapsed": false,
    "ExecuteTime": {
     "end_time": "2025-08-12T06:14:17.316432Z",
     "start_time": "2025-08-12T06:14:17.136086300Z"
    }
   },
   "id": "2d478c6fbd5c11dc"
  },
  {
   "cell_type": "code",
   "execution_count": 14,
   "outputs": [
    {
     "data": {
      "text/plain": "    ACCIDENT_NO ACCIDENTDATE                    ACCIDENTTIME  ACCIDENT_TYPE  \\\n0  T20060000010   13/01/2006  12:42:00                                    1   \n1  T20060000018   13/01/2006  19:10:00                                    1   \n2  T20060000022   14/01/2006  12:10:00                                    7   \n3  T20060000023   14/01/2006  11:49:00                                    1   \n4  T20060000026   14/01/2006  10:45:00                                    1   \n\n               Accident Type Desc  DAY_OF_WEEK Day Week Description  DCA_CODE  \\\n0          Collision with vehicle            6               Friday       113   \n1          Collision with vehicle            6               Friday       113   \n2  Fall from or in moving vehicle            7             Saturday       190   \n3          Collision with vehicle            7             Saturday       130   \n4          Collision with vehicle            7             Saturday       121   \n\n                                  DCA Description DIRECTORY  ...  \\\n0  RIGHT NEAR (INTERSECTIONS ONLY)                      MEL  ...   \n1  RIGHT NEAR (INTERSECTIONS ONLY)                      MEL  ...   \n2        FELL IN/FROM VEHICLE                           MEL  ...   \n3  REAR END(VEHICLES IN SAME LANE)                      MEL  ...   \n4           RIGHT THROUGH                               MEL  ...   \n\n  NO_PERSONS_INJ_2 NO_PERSONS_INJ_3 NO_PERSONS_KILLED NO_PERSONS_NOT_INJ  \\\n0                0                1                 0                  5   \n1                0                1                 0                  3   \n2                1                0                 0                  1   \n3                1                0                 0                  1   \n4                0                3                 0                  0   \n\n   POLICE_ATTEND ROAD_GEOMETRY   Road Geometry Desc  SEVERITY  SPEED_ZONE  \\\n0              1             1   Cross intersection         3          60   \n1              1             2       T intersection         3          70   \n2              1             5  Not at intersection         2         100   \n3              1             2       T intersection         2          80   \n4              1             5  Not at intersection         3          50   \n\n   ACCIDENT_TIME_HOUR  \n0                  12  \n1                  19  \n2                  12  \n3                  11  \n4                  10  \n\n[5 rows x 29 columns]",
      "text/html": "<div>\n<style scoped>\n    .dataframe tbody tr th:only-of-type {\n        vertical-align: middle;\n    }\n\n    .dataframe tbody tr th {\n        vertical-align: top;\n    }\n\n    .dataframe thead th {\n        text-align: right;\n    }\n</style>\n<table border=\"1\" class=\"dataframe\">\n  <thead>\n    <tr style=\"text-align: right;\">\n      <th></th>\n      <th>ACCIDENT_NO</th>\n      <th>ACCIDENTDATE</th>\n      <th>ACCIDENTTIME</th>\n      <th>ACCIDENT_TYPE</th>\n      <th>Accident Type Desc</th>\n      <th>DAY_OF_WEEK</th>\n      <th>Day Week Description</th>\n      <th>DCA_CODE</th>\n      <th>DCA Description</th>\n      <th>DIRECTORY</th>\n      <th>...</th>\n      <th>NO_PERSONS_INJ_2</th>\n      <th>NO_PERSONS_INJ_3</th>\n      <th>NO_PERSONS_KILLED</th>\n      <th>NO_PERSONS_NOT_INJ</th>\n      <th>POLICE_ATTEND</th>\n      <th>ROAD_GEOMETRY</th>\n      <th>Road Geometry Desc</th>\n      <th>SEVERITY</th>\n      <th>SPEED_ZONE</th>\n      <th>ACCIDENT_TIME_HOUR</th>\n    </tr>\n  </thead>\n  <tbody>\n    <tr>\n      <th>0</th>\n      <td>T20060000010</td>\n      <td>13/01/2006</td>\n      <td>12:42:00</td>\n      <td>1</td>\n      <td>Collision with vehicle</td>\n      <td>6</td>\n      <td>Friday</td>\n      <td>113</td>\n      <td>RIGHT NEAR (INTERSECTIONS ONLY)</td>\n      <td>MEL</td>\n      <td>...</td>\n      <td>0</td>\n      <td>1</td>\n      <td>0</td>\n      <td>5</td>\n      <td>1</td>\n      <td>1</td>\n      <td>Cross intersection</td>\n      <td>3</td>\n      <td>60</td>\n      <td>12</td>\n    </tr>\n    <tr>\n      <th>1</th>\n      <td>T20060000018</td>\n      <td>13/01/2006</td>\n      <td>19:10:00</td>\n      <td>1</td>\n      <td>Collision with vehicle</td>\n      <td>6</td>\n      <td>Friday</td>\n      <td>113</td>\n      <td>RIGHT NEAR (INTERSECTIONS ONLY)</td>\n      <td>MEL</td>\n      <td>...</td>\n      <td>0</td>\n      <td>1</td>\n      <td>0</td>\n      <td>3</td>\n      <td>1</td>\n      <td>2</td>\n      <td>T intersection</td>\n      <td>3</td>\n      <td>70</td>\n      <td>19</td>\n    </tr>\n    <tr>\n      <th>2</th>\n      <td>T20060000022</td>\n      <td>14/01/2006</td>\n      <td>12:10:00</td>\n      <td>7</td>\n      <td>Fall from or in moving vehicle</td>\n      <td>7</td>\n      <td>Saturday</td>\n      <td>190</td>\n      <td>FELL IN/FROM VEHICLE</td>\n      <td>MEL</td>\n      <td>...</td>\n      <td>1</td>\n      <td>0</td>\n      <td>0</td>\n      <td>1</td>\n      <td>1</td>\n      <td>5</td>\n      <td>Not at intersection</td>\n      <td>2</td>\n      <td>100</td>\n      <td>12</td>\n    </tr>\n    <tr>\n      <th>3</th>\n      <td>T20060000023</td>\n      <td>14/01/2006</td>\n      <td>11:49:00</td>\n      <td>1</td>\n      <td>Collision with vehicle</td>\n      <td>7</td>\n      <td>Saturday</td>\n      <td>130</td>\n      <td>REAR END(VEHICLES IN SAME LANE)</td>\n      <td>MEL</td>\n      <td>...</td>\n      <td>1</td>\n      <td>0</td>\n      <td>0</td>\n      <td>1</td>\n      <td>1</td>\n      <td>2</td>\n      <td>T intersection</td>\n      <td>2</td>\n      <td>80</td>\n      <td>11</td>\n    </tr>\n    <tr>\n      <th>4</th>\n      <td>T20060000026</td>\n      <td>14/01/2006</td>\n      <td>10:45:00</td>\n      <td>1</td>\n      <td>Collision with vehicle</td>\n      <td>7</td>\n      <td>Saturday</td>\n      <td>121</td>\n      <td>RIGHT THROUGH</td>\n      <td>MEL</td>\n      <td>...</td>\n      <td>0</td>\n      <td>3</td>\n      <td>0</td>\n      <td>0</td>\n      <td>1</td>\n      <td>5</td>\n      <td>Not at intersection</td>\n      <td>3</td>\n      <td>50</td>\n      <td>10</td>\n    </tr>\n  </tbody>\n</table>\n<p>5 rows × 29 columns</p>\n</div>"
     },
     "execution_count": 14,
     "metadata": {},
     "output_type": "execute_result"
    }
   ],
   "source": [
    "acc.head()"
   ],
   "metadata": {
    "collapsed": false,
    "ExecuteTime": {
     "end_time": "2025-08-12T06:14:57.667094500Z",
     "start_time": "2025-08-12T06:14:57.653805100Z"
    }
   },
   "id": "92b6dcbcaf7c6c5a"
  },
  {
   "cell_type": "code",
   "execution_count": 20,
   "outputs": [],
   "source": [
    "# # ---- SAVE THE RESULT ----- if you wanna save, uncommented this cell.\n",
    "# Only keep ACCIDENT_NO, LIGHT_CONDITION, LIGHT_COND_Desc\n",
    "# acc_speed_zone = acc[['ACCIDENT_NO', 'LIGHT_CONDITION', 'Light Condition Desc']].copy()\n",
    "# Save the imputed speed zone to a csv file\n",
    "# acc_speed_zone.to_csv(\"Clean-data/LIGHT_CONDITION_IMPUTED.csv\", index=False)"
   ],
   "metadata": {
    "collapsed": false,
    "ExecuteTime": {
     "end_time": "2025-08-12T02:01:18.442011900Z",
     "start_time": "2025-08-12T02:01:18.255508900Z"
    }
   },
   "id": "6aea179628a5b785"
  },
  {
   "cell_type": "markdown",
   "source": [
    "# Speed Zone Imputation\n",
    "\n",
    "Speed zone description: 040 40 km/hr 050 50 km/hr 060 60 km/hr 075 75 km/hr 080 80 km/hr 090 90 km/hr 100 100 km/hr 110 110 km/hr 777 Other speed limit 888 Camping grounds, off road 999 Not known"
   ],
   "metadata": {
    "collapsed": false
   },
   "id": "513d48a0382c89fb"
  },
  {
   "cell_type": "code",
   "execution_count": 15,
   "outputs": [
    {
     "name": "stdout",
     "output_type": "stream",
     "text": [
      "Original Speed Zone Distribution:\n"
     ]
    },
    {
     "data": {
      "text/plain": "    SPEED_ZONE                Description  Count\n0           40                   40 km/hr   8937\n1           50                   50 km/hr  36149\n2           60                   60 km/hr  69133\n3           75                   75 km/hr     62\n4           80                   80 km/hr  27794\n5           90                   90 km/hr    940\n6          100                  100 km/hr  31240\n7          110                  110 km/hr   2151\n8          777          Other speed limit    249\n9          888  Camping grounds, off road    930\n10         999                  Not known  10709",
      "text/html": "<div>\n<style scoped>\n    .dataframe tbody tr th:only-of-type {\n        vertical-align: middle;\n    }\n\n    .dataframe tbody tr th {\n        vertical-align: top;\n    }\n\n    .dataframe thead th {\n        text-align: right;\n    }\n</style>\n<table border=\"1\" class=\"dataframe\">\n  <thead>\n    <tr style=\"text-align: right;\">\n      <th></th>\n      <th>SPEED_ZONE</th>\n      <th>Description</th>\n      <th>Count</th>\n    </tr>\n  </thead>\n  <tbody>\n    <tr>\n      <th>0</th>\n      <td>40</td>\n      <td>40 km/hr</td>\n      <td>8937</td>\n    </tr>\n    <tr>\n      <th>1</th>\n      <td>50</td>\n      <td>50 km/hr</td>\n      <td>36149</td>\n    </tr>\n    <tr>\n      <th>2</th>\n      <td>60</td>\n      <td>60 km/hr</td>\n      <td>69133</td>\n    </tr>\n    <tr>\n      <th>3</th>\n      <td>75</td>\n      <td>75 km/hr</td>\n      <td>62</td>\n    </tr>\n    <tr>\n      <th>4</th>\n      <td>80</td>\n      <td>80 km/hr</td>\n      <td>27794</td>\n    </tr>\n    <tr>\n      <th>5</th>\n      <td>90</td>\n      <td>90 km/hr</td>\n      <td>940</td>\n    </tr>\n    <tr>\n      <th>6</th>\n      <td>100</td>\n      <td>100 km/hr</td>\n      <td>31240</td>\n    </tr>\n    <tr>\n      <th>7</th>\n      <td>110</td>\n      <td>110 km/hr</td>\n      <td>2151</td>\n    </tr>\n    <tr>\n      <th>8</th>\n      <td>777</td>\n      <td>Other speed limit</td>\n      <td>249</td>\n    </tr>\n    <tr>\n      <th>9</th>\n      <td>888</td>\n      <td>Camping grounds, off road</td>\n      <td>930</td>\n    </tr>\n    <tr>\n      <th>10</th>\n      <td>999</td>\n      <td>Not known</td>\n      <td>10709</td>\n    </tr>\n  </tbody>\n</table>\n</div>"
     },
     "metadata": {},
     "output_type": "display_data"
    }
   ],
   "source": [
    "acc = datasets['ACCIDENT'].copy()\n",
    "# Check the distribution of SPEED_ZONE\n",
    "print(\"Original Speed Zone Distribution:\")\n",
    "speed_zone_mapping = {\n",
    "    40: \"40 km/hr\",\n",
    "    50: \"50 km/hr\",\n",
    "    60: \"60 km/hr\",\n",
    "    75: \"75 km/hr\",\n",
    "    80: \"80 km/hr\",\n",
    "    90: \"90 km/hr\",\n",
    "    100: \"100 km/hr\",\n",
    "    110: \"110 km/hr\",\n",
    "    777: \"Other speed limit\",\n",
    "    888: \"Camping grounds, off road\",\n",
    "    999: \"Not known\"\n",
    "}\n",
    "# Check the speed zone distribution\n",
    "speed_zone_summary = description_summary(acc, \"SPEED_ZONE\", speed_zone_mapping)"
   ],
   "metadata": {
    "collapsed": false,
    "ExecuteTime": {
     "end_time": "2025-08-12T06:15:11.003362700Z",
     "start_time": "2025-08-12T06:15:10.967006700Z"
    }
   },
   "id": "d1024908706aea74"
  },
  {
   "cell_type": "code",
   "execution_count": 16,
   "outputs": [
    {
     "data": {
      "text/plain": "    SPEED_ZONE                Description    Count\n0           40                   40 km/hr   8941.0\n1           50                   50 km/hr  36987.0\n2           60                   60 km/hr  77609.0\n3           75                   75 km/hr     62.0\n4           80                   80 km/hr  28464.0\n5           90                   90 km/hr    940.0\n6          100                  100 km/hr  31954.0\n7          110                  110 km/hr   2151.0\n8          777          Other speed limit    249.0\n9          888  Camping grounds, off road    933.0\n10         999                  Not known      0.0",
      "text/html": "<div>\n<style scoped>\n    .dataframe tbody tr th:only-of-type {\n        vertical-align: middle;\n    }\n\n    .dataframe tbody tr th {\n        vertical-align: top;\n    }\n\n    .dataframe thead th {\n        text-align: right;\n    }\n</style>\n<table border=\"1\" class=\"dataframe\">\n  <thead>\n    <tr style=\"text-align: right;\">\n      <th></th>\n      <th>SPEED_ZONE</th>\n      <th>Description</th>\n      <th>Count</th>\n    </tr>\n  </thead>\n  <tbody>\n    <tr>\n      <th>0</th>\n      <td>40</td>\n      <td>40 km/hr</td>\n      <td>8941.0</td>\n    </tr>\n    <tr>\n      <th>1</th>\n      <td>50</td>\n      <td>50 km/hr</td>\n      <td>36987.0</td>\n    </tr>\n    <tr>\n      <th>2</th>\n      <td>60</td>\n      <td>60 km/hr</td>\n      <td>77609.0</td>\n    </tr>\n    <tr>\n      <th>3</th>\n      <td>75</td>\n      <td>75 km/hr</td>\n      <td>62.0</td>\n    </tr>\n    <tr>\n      <th>4</th>\n      <td>80</td>\n      <td>80 km/hr</td>\n      <td>28464.0</td>\n    </tr>\n    <tr>\n      <th>5</th>\n      <td>90</td>\n      <td>90 km/hr</td>\n      <td>940.0</td>\n    </tr>\n    <tr>\n      <th>6</th>\n      <td>100</td>\n      <td>100 km/hr</td>\n      <td>31954.0</td>\n    </tr>\n    <tr>\n      <th>7</th>\n      <td>110</td>\n      <td>110 km/hr</td>\n      <td>2151.0</td>\n    </tr>\n    <tr>\n      <th>8</th>\n      <td>777</td>\n      <td>Other speed limit</td>\n      <td>249.0</td>\n    </tr>\n    <tr>\n      <th>9</th>\n      <td>888</td>\n      <td>Camping grounds, off road</td>\n      <td>933.0</td>\n    </tr>\n    <tr>\n      <th>10</th>\n      <td>999</td>\n      <td>Not known</td>\n      <td>0.0</td>\n    </tr>\n  </tbody>\n</table>\n</div>"
     },
     "metadata": {},
     "output_type": "display_data"
    }
   ],
   "source": [
    "acc = datasets['ACCIDENT'].copy()\n",
    "acc_location = datasets['ACCIDENT_LOCATION'].copy()\n",
    "acc = acc.merge(acc_location[['ACCIDENT_NO', 'ROAD_TYPE']], on='ACCIDENT_NO', how='left')\n",
    "# Treat 999 as missing\n",
    "acc['SPEED_ZONE'] = acc['SPEED_ZONE'].replace(999, np.nan)\n",
    "\n",
    "# Rule-based imputation:\n",
    "# Fill NaNs with the most frequent SPEED_ZONE within each ROAD_TYPE.\n",
    "# If ROAD_TYPE is missing for some rows, fall back to global mode.\n",
    "\n",
    "# Find the most frequent SPEED_ZONE for each ROAD_TYPE\n",
    "def group_mode(s):\n",
    "    m = s.mode()\n",
    "    return m.iloc[0] if not m.empty else np.nan\n",
    "mode_by_group = acc.groupby('ROAD_TYPE')['SPEED_ZONE'].transform(group_mode)\n",
    "acc['SPEED_ZONE'] = acc['SPEED_ZONE'].fillna(mode_by_group)\n",
    "\n",
    "# global mode for ROAD_TYPE still missing\n",
    "global_mode = acc['SPEED_ZONE'].mode()\n",
    "acc['SPEED_ZONE'] = acc['SPEED_ZONE'].fillna(global_mode.iloc[0])\n",
    "speed_zone_summary = description_summary(acc, \"SPEED_ZONE\", speed_zone_mapping)"
   ],
   "metadata": {
    "collapsed": false,
    "ExecuteTime": {
     "end_time": "2025-08-12T06:16:20.893930500Z",
     "start_time": "2025-08-12T06:16:20.720948700Z"
    }
   },
   "id": "4df262268a6ab75f"
  },
  {
   "cell_type": "code",
   "execution_count": 17,
   "outputs": [
    {
     "data": {
      "text/plain": "    ACCIDENT_NO ACCIDENTDATE                    ACCIDENTTIME  ACCIDENT_TYPE  \\\n0  T20060000010   13/01/2006  12:42:00                                    1   \n1  T20060000018   13/01/2006  19:10:00                                    1   \n2  T20060000022   14/01/2006  12:10:00                                    7   \n3  T20060000023   14/01/2006  11:49:00                                    1   \n4  T20060000026   14/01/2006  10:45:00                                    1   \n\n               Accident Type Desc  DAY_OF_WEEK Day Week Description  DCA_CODE  \\\n0          Collision with vehicle            6               Friday       113   \n1          Collision with vehicle            6               Friday       113   \n2  Fall from or in moving vehicle            7             Saturday       190   \n3          Collision with vehicle            7             Saturday       130   \n4          Collision with vehicle            7             Saturday       121   \n\n                                  DCA Description DIRECTORY  ...  \\\n0  RIGHT NEAR (INTERSECTIONS ONLY)                      MEL  ...   \n1  RIGHT NEAR (INTERSECTIONS ONLY)                      MEL  ...   \n2        FELL IN/FROM VEHICLE                           MEL  ...   \n3  REAR END(VEHICLES IN SAME LANE)                      MEL  ...   \n4           RIGHT THROUGH                               MEL  ...   \n\n  NO_PERSONS_INJ_2 NO_PERSONS_INJ_3 NO_PERSONS_KILLED NO_PERSONS_NOT_INJ  \\\n0                0                1                 0                  5   \n1                0                1                 0                  3   \n2                1                0                 0                  1   \n3                1                0                 0                  1   \n4                0                3                 0                  0   \n\n   POLICE_ATTEND ROAD_GEOMETRY   Road Geometry Desc  SEVERITY  SPEED_ZONE  \\\n0              1             1   Cross intersection         3        60.0   \n1              1             2       T intersection         3        70.0   \n2              1             5  Not at intersection         2       100.0   \n3              1             2       T intersection         2        80.0   \n4              1             5  Not at intersection         3        50.0   \n\n   ROAD_TYPE  \n0     STREET  \n1       ROAD  \n2       ROAD  \n3       ROAD  \n4     AVENUE  \n\n[5 rows x 29 columns]",
      "text/html": "<div>\n<style scoped>\n    .dataframe tbody tr th:only-of-type {\n        vertical-align: middle;\n    }\n\n    .dataframe tbody tr th {\n        vertical-align: top;\n    }\n\n    .dataframe thead th {\n        text-align: right;\n    }\n</style>\n<table border=\"1\" class=\"dataframe\">\n  <thead>\n    <tr style=\"text-align: right;\">\n      <th></th>\n      <th>ACCIDENT_NO</th>\n      <th>ACCIDENTDATE</th>\n      <th>ACCIDENTTIME</th>\n      <th>ACCIDENT_TYPE</th>\n      <th>Accident Type Desc</th>\n      <th>DAY_OF_WEEK</th>\n      <th>Day Week Description</th>\n      <th>DCA_CODE</th>\n      <th>DCA Description</th>\n      <th>DIRECTORY</th>\n      <th>...</th>\n      <th>NO_PERSONS_INJ_2</th>\n      <th>NO_PERSONS_INJ_3</th>\n      <th>NO_PERSONS_KILLED</th>\n      <th>NO_PERSONS_NOT_INJ</th>\n      <th>POLICE_ATTEND</th>\n      <th>ROAD_GEOMETRY</th>\n      <th>Road Geometry Desc</th>\n      <th>SEVERITY</th>\n      <th>SPEED_ZONE</th>\n      <th>ROAD_TYPE</th>\n    </tr>\n  </thead>\n  <tbody>\n    <tr>\n      <th>0</th>\n      <td>T20060000010</td>\n      <td>13/01/2006</td>\n      <td>12:42:00</td>\n      <td>1</td>\n      <td>Collision with vehicle</td>\n      <td>6</td>\n      <td>Friday</td>\n      <td>113</td>\n      <td>RIGHT NEAR (INTERSECTIONS ONLY)</td>\n      <td>MEL</td>\n      <td>...</td>\n      <td>0</td>\n      <td>1</td>\n      <td>0</td>\n      <td>5</td>\n      <td>1</td>\n      <td>1</td>\n      <td>Cross intersection</td>\n      <td>3</td>\n      <td>60.0</td>\n      <td>STREET</td>\n    </tr>\n    <tr>\n      <th>1</th>\n      <td>T20060000018</td>\n      <td>13/01/2006</td>\n      <td>19:10:00</td>\n      <td>1</td>\n      <td>Collision with vehicle</td>\n      <td>6</td>\n      <td>Friday</td>\n      <td>113</td>\n      <td>RIGHT NEAR (INTERSECTIONS ONLY)</td>\n      <td>MEL</td>\n      <td>...</td>\n      <td>0</td>\n      <td>1</td>\n      <td>0</td>\n      <td>3</td>\n      <td>1</td>\n      <td>2</td>\n      <td>T intersection</td>\n      <td>3</td>\n      <td>70.0</td>\n      <td>ROAD</td>\n    </tr>\n    <tr>\n      <th>2</th>\n      <td>T20060000022</td>\n      <td>14/01/2006</td>\n      <td>12:10:00</td>\n      <td>7</td>\n      <td>Fall from or in moving vehicle</td>\n      <td>7</td>\n      <td>Saturday</td>\n      <td>190</td>\n      <td>FELL IN/FROM VEHICLE</td>\n      <td>MEL</td>\n      <td>...</td>\n      <td>1</td>\n      <td>0</td>\n      <td>0</td>\n      <td>1</td>\n      <td>1</td>\n      <td>5</td>\n      <td>Not at intersection</td>\n      <td>2</td>\n      <td>100.0</td>\n      <td>ROAD</td>\n    </tr>\n    <tr>\n      <th>3</th>\n      <td>T20060000023</td>\n      <td>14/01/2006</td>\n      <td>11:49:00</td>\n      <td>1</td>\n      <td>Collision with vehicle</td>\n      <td>7</td>\n      <td>Saturday</td>\n      <td>130</td>\n      <td>REAR END(VEHICLES IN SAME LANE)</td>\n      <td>MEL</td>\n      <td>...</td>\n      <td>1</td>\n      <td>0</td>\n      <td>0</td>\n      <td>1</td>\n      <td>1</td>\n      <td>2</td>\n      <td>T intersection</td>\n      <td>2</td>\n      <td>80.0</td>\n      <td>ROAD</td>\n    </tr>\n    <tr>\n      <th>4</th>\n      <td>T20060000026</td>\n      <td>14/01/2006</td>\n      <td>10:45:00</td>\n      <td>1</td>\n      <td>Collision with vehicle</td>\n      <td>7</td>\n      <td>Saturday</td>\n      <td>121</td>\n      <td>RIGHT THROUGH</td>\n      <td>MEL</td>\n      <td>...</td>\n      <td>0</td>\n      <td>3</td>\n      <td>0</td>\n      <td>0</td>\n      <td>1</td>\n      <td>5</td>\n      <td>Not at intersection</td>\n      <td>3</td>\n      <td>50.0</td>\n      <td>AVENUE</td>\n    </tr>\n  </tbody>\n</table>\n<p>5 rows × 29 columns</p>\n</div>"
     },
     "execution_count": 17,
     "metadata": {},
     "output_type": "execute_result"
    }
   ],
   "source": [
    "acc.head()"
   ],
   "metadata": {
    "collapsed": false,
    "ExecuteTime": {
     "end_time": "2025-08-12T06:16:33.110547Z",
     "start_time": "2025-08-12T06:16:33.092947900Z"
    }
   },
   "id": "4427b37979225752"
  },
  {
   "cell_type": "code",
   "execution_count": 30,
   "outputs": [],
   "source": [
    "# ---- SAVE THE RESULT ----- if you wanna save, uncommented this cell.\n",
    "# Only keep ACCIDENT_NO, SPEED_ZONE\n",
    "# acc_speed_zone = acc[['ACCIDENT_NO', 'SPEED_ZONE']].copy()\n",
    "# Save the imputed speed zone to a csv file\n",
    "# acc_speed_zone.to_csv(\"Clean-data/SPEED_ZONE_IMPUTED.csv\", index=False)"
   ],
   "metadata": {
    "collapsed": false,
    "ExecuteTime": {
     "end_time": "2025-08-12T02:04:05.309320300Z",
     "start_time": "2025-08-12T02:04:05.116124100Z"
    }
   },
   "id": "45c5a8826fba8458"
  },
  {
   "cell_type": "markdown",
   "source": [
    "# ROAD_SURFACE_COND Imputation\n",
    "\n",
    "Road surface condition description:  1 Dry 2 Wet 3 Muddy 4 Snowy 5 Icy 9 Unknown"
   ],
   "metadata": {
    "collapsed": false
   },
   "id": "89ff49cb7dfda841"
  },
  {
   "cell_type": "code",
   "execution_count": 18,
   "outputs": [
    {
     "name": "stdout",
     "output_type": "stream",
     "text": [
      "Original Road Surface Condition Distribution:\n"
     ]
    },
    {
     "data": {
      "text/plain": "   SURFACE_COND Description   Count\n0             1         Dry  160269\n1             2         Wet   32162\n2             3       Muddy     439\n3             4       Snowy      83\n4             5         Icy     339\n5             9     Unknown   10416",
      "text/html": "<div>\n<style scoped>\n    .dataframe tbody tr th:only-of-type {\n        vertical-align: middle;\n    }\n\n    .dataframe tbody tr th {\n        vertical-align: top;\n    }\n\n    .dataframe thead th {\n        text-align: right;\n    }\n</style>\n<table border=\"1\" class=\"dataframe\">\n  <thead>\n    <tr style=\"text-align: right;\">\n      <th></th>\n      <th>SURFACE_COND</th>\n      <th>Description</th>\n      <th>Count</th>\n    </tr>\n  </thead>\n  <tbody>\n    <tr>\n      <th>0</th>\n      <td>1</td>\n      <td>Dry</td>\n      <td>160269</td>\n    </tr>\n    <tr>\n      <th>1</th>\n      <td>2</td>\n      <td>Wet</td>\n      <td>32162</td>\n    </tr>\n    <tr>\n      <th>2</th>\n      <td>3</td>\n      <td>Muddy</td>\n      <td>439</td>\n    </tr>\n    <tr>\n      <th>3</th>\n      <td>4</td>\n      <td>Snowy</td>\n      <td>83</td>\n    </tr>\n    <tr>\n      <th>4</th>\n      <td>5</td>\n      <td>Icy</td>\n      <td>339</td>\n    </tr>\n    <tr>\n      <th>5</th>\n      <td>9</td>\n      <td>Unknown</td>\n      <td>10416</td>\n    </tr>\n  </tbody>\n</table>\n</div>"
     },
     "metadata": {},
     "output_type": "display_data"
    }
   ],
   "source": [
    "road_surface_cond_mapping = {\n",
    "    1: \"Dry\",\n",
    "    2: \"Wet\",\n",
    "    3: \"Muddy\",\n",
    "    4: \"Snowy\",\n",
    "    5: \"Icy\",\n",
    "    9: \"Unknown\"\n",
    "}\n",
    "road_surface_cond_mapping_impute = {\n",
    "    1: \"Dry\",\n",
    "    2: \"Wet\",\n",
    "    3: \"Muddy\",\n",
    "    4: \"Snowy\",\n",
    "    5: \"Icy\",\n",
    "    9: \"Unknown\",\n",
    "    10: \"Multiple Surface Conditions\"\n",
    "}\n",
    "road_surface = datasets['ROAD_SURFACE_COND'].copy()\n",
    "road_surface = road_surface.drop_duplicates(subset=['ACCIDENT_NO'], keep='first')\n",
    "# Check the distribution of ROAD_SURFACE_COND\n",
    "print(\"Original Road Surface Condition Distribution:\")\n",
    "road_surface_summary = description_summary(road_surface, \"SURFACE_COND\", road_surface_cond_mapping)"
   ],
   "metadata": {
    "collapsed": false,
    "ExecuteTime": {
     "end_time": "2025-08-12T06:17:33.582232700Z",
     "start_time": "2025-08-12T06:17:33.539257300Z"
    }
   },
   "id": "f6420e3c55e82fe"
  },
  {
   "cell_type": "code",
   "execution_count": 19,
   "outputs": [
    {
     "data": {
      "text/plain": "   SURFACE_COND                  Description   Count\n0             1                          Dry  160213\n1             2                          Wet   32154\n2             3                        Muddy     439\n3             4                        Snowy      81\n4             5                          Icy     339\n5             9                      Unknown   10416\n6            10  Multiple Surface Conditions      66",
      "text/html": "<div>\n<style scoped>\n    .dataframe tbody tr th:only-of-type {\n        vertical-align: middle;\n    }\n\n    .dataframe tbody tr th {\n        vertical-align: top;\n    }\n\n    .dataframe thead th {\n        text-align: right;\n    }\n</style>\n<table border=\"1\" class=\"dataframe\">\n  <thead>\n    <tr style=\"text-align: right;\">\n      <th></th>\n      <th>SURFACE_COND</th>\n      <th>Description</th>\n      <th>Count</th>\n    </tr>\n  </thead>\n  <tbody>\n    <tr>\n      <th>0</th>\n      <td>1</td>\n      <td>Dry</td>\n      <td>160213</td>\n    </tr>\n    <tr>\n      <th>1</th>\n      <td>2</td>\n      <td>Wet</td>\n      <td>32154</td>\n    </tr>\n    <tr>\n      <th>2</th>\n      <td>3</td>\n      <td>Muddy</td>\n      <td>439</td>\n    </tr>\n    <tr>\n      <th>3</th>\n      <td>4</td>\n      <td>Snowy</td>\n      <td>81</td>\n    </tr>\n    <tr>\n      <th>4</th>\n      <td>5</td>\n      <td>Icy</td>\n      <td>339</td>\n    </tr>\n    <tr>\n      <th>5</th>\n      <td>9</td>\n      <td>Unknown</td>\n      <td>10416</td>\n    </tr>\n    <tr>\n      <th>6</th>\n      <td>10</td>\n      <td>Multiple Surface Conditions</td>\n      <td>66</td>\n    </tr>\n  </tbody>\n</table>\n</div>"
     },
     "metadata": {},
     "output_type": "display_data"
    }
   ],
   "source": [
    "# find the SURFACE_COND_SEQ > 1\n",
    "multi_surface_ids = road_surface[road_surface['SURFACE_COND_SEQ'] > 1]['ACCIDENT_NO'].unique()\n",
    "# Assign 10 for multiple weather conditions\n",
    "road_surface.loc[road_surface[\"ACCIDENT_NO\"].isin(multi_surface_ids), \"SURFACE_COND\"] = 10\n",
    "road_surface.loc[road_surface[\"ACCIDENT_NO\"].isin(multi_surface_ids), \"SURFACE_COND_Desc\"] = 'Multiple Surface Conditions'\n",
    "road_surface_summary = description_summary(road_surface, \"SURFACE_COND\", road_surface_cond_mapping_impute)"
   ],
   "metadata": {
    "collapsed": false,
    "ExecuteTime": {
     "end_time": "2025-08-12T06:17:36.447538300Z",
     "start_time": "2025-08-12T06:17:36.410608300Z"
    }
   },
   "id": "47246c83d5d3117d"
  },
  {
   "cell_type": "code",
   "execution_count": 20,
   "outputs": [],
   "source": [
    "# Merge ACCIDENT, ACCIDENT_LOCATION, ROAD_SURFACE\n",
    "acc = datasets['ACCIDENT'].copy()\n",
    "acc_location = datasets['ACCIDENT_LOCATION'].copy()\n",
    "acc = acc.merge(acc_location[['ACCIDENT_NO', 'ROAD_TYPE']], on='ACCIDENT_NO', how='left')\n",
    "acc = acc.merge(road_surface[['ACCIDENT_NO', 'SURFACE_COND', 'Surface Cond Desc']], on='ACCIDENT_NO', how='left')\n",
    "\n",
    "# Treat 9 = Unknown as NaN\n",
    "acc['SURFACE_COND'] = acc['SURFACE_COND'].replace(9, np.nan)\n",
    "\n",
    "# Rule-based imputation:\n",
    "# Fill NaNs with the most frequent SURFACE_COND within each ROAD_TYPE.\n",
    "# If ROAD_TYPE is missing for some rows, fall back to global mode.\n",
    "def group_mode(s):\n",
    "    m = s.mode()\n",
    "    return m.iloc[0] if not m.empty else np.nan\n",
    "\n",
    "mode_by_road = acc.groupby('ROAD_TYPE')['SURFACE_COND'].transform(group_mode)\n",
    "acc['SURFACE_COND'] = acc['SURFACE_COND'].fillna(mode_by_road)\n",
    "\n",
    "# Global mode\n",
    "global_mode = acc['SURFACE_COND'].mode()\n",
    "if not global_mode.empty:\n",
    "    acc['SURFACE_COND'] = acc['SURFACE_COND'].fillna(global_mode.iloc[0])"
   ],
   "metadata": {
    "collapsed": false,
    "ExecuteTime": {
     "end_time": "2025-08-12T06:20:17.110024Z",
     "start_time": "2025-08-12T06:20:16.855542200Z"
    }
   },
   "id": "a777a366948cb1f8"
  },
  {
   "cell_type": "code",
   "execution_count": 21,
   "outputs": [
    {
     "data": {
      "text/plain": "(203708, 31)"
     },
     "execution_count": 21,
     "metadata": {},
     "output_type": "execute_result"
    }
   ],
   "source": [
    "acc.shape"
   ],
   "metadata": {
    "collapsed": false,
    "ExecuteTime": {
     "end_time": "2025-08-12T06:20:19.574118800Z",
     "start_time": "2025-08-12T06:20:19.567314900Z"
    }
   },
   "id": "60368c1865c1c710"
  },
  {
   "cell_type": "code",
   "execution_count": 22,
   "outputs": [
    {
     "data": {
      "text/plain": "   SURFACE_COND                  Description     Count\n0             1                          Dry  170629.0\n1             2                          Wet   32154.0\n2             3                        Muddy     439.0\n3             4                        Snowy      81.0\n4             5                          Icy     339.0\n5             9                      Unknown       0.0\n6            10  Multiple Surface Conditions      66.0",
      "text/html": "<div>\n<style scoped>\n    .dataframe tbody tr th:only-of-type {\n        vertical-align: middle;\n    }\n\n    .dataframe tbody tr th {\n        vertical-align: top;\n    }\n\n    .dataframe thead th {\n        text-align: right;\n    }\n</style>\n<table border=\"1\" class=\"dataframe\">\n  <thead>\n    <tr style=\"text-align: right;\">\n      <th></th>\n      <th>SURFACE_COND</th>\n      <th>Description</th>\n      <th>Count</th>\n    </tr>\n  </thead>\n  <tbody>\n    <tr>\n      <th>0</th>\n      <td>1</td>\n      <td>Dry</td>\n      <td>170629.0</td>\n    </tr>\n    <tr>\n      <th>1</th>\n      <td>2</td>\n      <td>Wet</td>\n      <td>32154.0</td>\n    </tr>\n    <tr>\n      <th>2</th>\n      <td>3</td>\n      <td>Muddy</td>\n      <td>439.0</td>\n    </tr>\n    <tr>\n      <th>3</th>\n      <td>4</td>\n      <td>Snowy</td>\n      <td>81.0</td>\n    </tr>\n    <tr>\n      <th>4</th>\n      <td>5</td>\n      <td>Icy</td>\n      <td>339.0</td>\n    </tr>\n    <tr>\n      <th>5</th>\n      <td>9</td>\n      <td>Unknown</td>\n      <td>0.0</td>\n    </tr>\n    <tr>\n      <th>6</th>\n      <td>10</td>\n      <td>Multiple Surface Conditions</td>\n      <td>66.0</td>\n    </tr>\n  </tbody>\n</table>\n</div>"
     },
     "metadata": {},
     "output_type": "display_data"
    }
   ],
   "source": [
    "road_surface_summary = description_summary(acc, \"SURFACE_COND\", road_surface_cond_mapping_impute)"
   ],
   "metadata": {
    "collapsed": false,
    "ExecuteTime": {
     "end_time": "2025-08-12T06:20:21.718515200Z",
     "start_time": "2025-08-12T06:20:21.688151500Z"
    }
   },
   "id": "73991585c93806e0"
  },
  {
   "cell_type": "code",
   "execution_count": 44,
   "outputs": [],
   "source": [
    "# # ---- SAVE THE RESULT ----- if you wanna save, uncommented this cell.\n",
    "# Only keep ACCIDENT_NO, SURFACE_COND\n",
    "# acc_road_surface = acc[['ACCIDENT_NO', 'SURFACE_COND', 'Surface Cond Desc']].copy()\n",
    "# Save the imputed road surface condition to a csv file\n",
    "# acc_road_surface.to_csv(\"Clean-data/ROAD_SURFACE_COND_IMPUTED.csv\", index=False)"
   ],
   "metadata": {
    "collapsed": false,
    "ExecuteTime": {
     "end_time": "2025-08-12T02:05:42.741943700Z",
     "start_time": "2025-08-12T02:05:42.510996Z"
    }
   },
   "id": "113c6239c37bf1e"
  },
  {
   "cell_type": "markdown",
   "source": [
    "## (Additional, Run with Cautious)Impute ROAD_NAME in ACCIDENT_LOCATION\n",
    "Use lat, lon in the ACCIDENT_LOCATION to reverse the ROAD_NAME\n",
    "ACCIDENT -> NODE -> ACCIDENT_LOCATION\n"
   ],
   "metadata": {
    "collapsed": false
   },
   "id": "a2e831c21b7a0d7c"
  },
  {
   "cell_type": "code",
   "execution_count": 23,
   "outputs": [
    {
     "data": {
      "text/plain": "         ACCIDENT_NO  NODE_ID_x  ROAD_ROUTE_1 ROAD_NAME ROAD_TYPE  \\\n41      T20060000265        -10           NaN       NaN       NaN   \n239     T20060001147     205508          -1.0       NaN       NaN   \n294     T20060001419         -1           NaN       NaN       NaN   \n297     T20060001426         -3           NaN       NaN       NaN   \n300     T20060001431         -3           NaN       NaN       NaN   \n...              ...        ...           ...       ...       ...   \n197282  T20190026485     632362          -1.0       NaN       NaN   \n197549  T20200000493     661855          -1.0       NaN       NaN   \n200126  T20200006060     638277          -1.0       NaN       NaN   \n201595  T20200009524     653055          -1.0       NaN       NaN   \n203288  T20200015470     663927          -1.0       NaN       NaN   \n\n       ROAD_NAME_INT ROAD_TYPE_INT  DISTANCE_LOCATION DIRECTION_LOCATION  \\\n41               NaN           NaN                NaN                NaN   \n239              NaN           NaN                0.0                 NK   \n294              NaN           NaN                NaN                NaN   \n297              NaN           NaN                NaN                NaN   \n300              NaN           NaN                NaN                NaN   \n...              ...           ...                ...                ...   \n197282           NaN           NaN                0.0                 NK   \n197549           NaN           NaN                0.0                 NK   \n200126           NaN           NaN                0.0                 NK   \n201595           NaN           NaN                0.0                 NK   \n203288           NaN           NaN                0.0                 NK   \n\n        NEAREST_KM_POST  ... NODE_TYPE  VICGRID94_X  VICGRID94_Y  \\\n41                  NaN  ...       NaN          NaN          NaN   \n239                 NaN  ...         O  2601323.287  2388098.254   \n294                 NaN  ...       NaN          NaN          NaN   \n297                 NaN  ...       NaN          NaN          NaN   \n300                 NaN  ...       NaN          NaN          NaN   \n...                 ...  ...       ...          ...          ...   \n197282              NaN  ...         O  2495556.750  2413212.396   \n197549              NaN  ...         O  2509060.792  2492594.510   \n200126              NaN  ...         O  2289931.606  2481504.911   \n201595              NaN  ...         O  2432214.089  2533131.034   \n203288              NaN  ...         O  2523319.643  2413146.057   \n\n                  LGA_NAME        LGA_NAME_ALL  \\\n41                     NaN                 NaN   \n239                BAW BAW             BAW BAW   \n294                    NaN                 NaN   \n297                    NaN                 NaN   \n300                    NaN                 NaN   \n...                    ...                 ...   \n197282           MELBOURNE           MELBOURNE   \n197549            MITCHELL            MITCHELL   \n200126  NORTHERN GRAMPIANS  NORTHERN GRAMPIANS   \n201595             BENDIGO             BENDIGO   \n203288           MAROONDAH           MAROONDAH   \n\n                           REGION_NAME  DEG_URBAN_NAME        Lat        Long  \\\n41                                 NaN             NaN        NaN         NaN   \n239                     EASTERN REGION  RURAL_VICTORIA -38.002811  146.153669   \n294                                NaN             NaN        NaN         NaN   \n297                                NaN             NaN        NaN         NaN   \n300                                NaN             NaN        NaN         NaN   \n...                                ...             ...        ...         ...   \n197282  METROPOLITAN NORTH WEST REGION      MELB_URBAN -37.782060  144.949558   \n197549                 NORTHERN REGION  RURAL_VICTORIA -37.066696  145.101898   \n200126                  WESTERN REGION  RURAL_VICTORIA -37.143162  142.634955   \n201595                 NORTHERN REGION  RURAL_VICTORIA -36.698976  144.241328   \n203288  METROPOLITAN SOUTH EAST REGION      MELB_URBAN -37.782376  145.264737   \n\n        POSTCODE_NO  \n41              NaN  \n239          3825.0  \n294             NaN  \n297             NaN  \n300             NaN  \n...             ...  \n197282       3052.0  \n197549       3659.0  \n200126       3381.0  \n201595       3556.0  \n203288       3136.0  \n\n[1006 rows x 22 columns]",
      "text/html": "<div>\n<style scoped>\n    .dataframe tbody tr th:only-of-type {\n        vertical-align: middle;\n    }\n\n    .dataframe tbody tr th {\n        vertical-align: top;\n    }\n\n    .dataframe thead th {\n        text-align: right;\n    }\n</style>\n<table border=\"1\" class=\"dataframe\">\n  <thead>\n    <tr style=\"text-align: right;\">\n      <th></th>\n      <th>ACCIDENT_NO</th>\n      <th>NODE_ID_x</th>\n      <th>ROAD_ROUTE_1</th>\n      <th>ROAD_NAME</th>\n      <th>ROAD_TYPE</th>\n      <th>ROAD_NAME_INT</th>\n      <th>ROAD_TYPE_INT</th>\n      <th>DISTANCE_LOCATION</th>\n      <th>DIRECTION_LOCATION</th>\n      <th>NEAREST_KM_POST</th>\n      <th>...</th>\n      <th>NODE_TYPE</th>\n      <th>VICGRID94_X</th>\n      <th>VICGRID94_Y</th>\n      <th>LGA_NAME</th>\n      <th>LGA_NAME_ALL</th>\n      <th>REGION_NAME</th>\n      <th>DEG_URBAN_NAME</th>\n      <th>Lat</th>\n      <th>Long</th>\n      <th>POSTCODE_NO</th>\n    </tr>\n  </thead>\n  <tbody>\n    <tr>\n      <th>41</th>\n      <td>T20060000265</td>\n      <td>-10</td>\n      <td>NaN</td>\n      <td>NaN</td>\n      <td>NaN</td>\n      <td>NaN</td>\n      <td>NaN</td>\n      <td>NaN</td>\n      <td>NaN</td>\n      <td>NaN</td>\n      <td>...</td>\n      <td>NaN</td>\n      <td>NaN</td>\n      <td>NaN</td>\n      <td>NaN</td>\n      <td>NaN</td>\n      <td>NaN</td>\n      <td>NaN</td>\n      <td>NaN</td>\n      <td>NaN</td>\n      <td>NaN</td>\n    </tr>\n    <tr>\n      <th>239</th>\n      <td>T20060001147</td>\n      <td>205508</td>\n      <td>-1.0</td>\n      <td>NaN</td>\n      <td>NaN</td>\n      <td>NaN</td>\n      <td>NaN</td>\n      <td>0.0</td>\n      <td>NK</td>\n      <td>NaN</td>\n      <td>...</td>\n      <td>O</td>\n      <td>2601323.287</td>\n      <td>2388098.254</td>\n      <td>BAW BAW</td>\n      <td>BAW BAW</td>\n      <td>EASTERN REGION</td>\n      <td>RURAL_VICTORIA</td>\n      <td>-38.002811</td>\n      <td>146.153669</td>\n      <td>3825.0</td>\n    </tr>\n    <tr>\n      <th>294</th>\n      <td>T20060001419</td>\n      <td>-1</td>\n      <td>NaN</td>\n      <td>NaN</td>\n      <td>NaN</td>\n      <td>NaN</td>\n      <td>NaN</td>\n      <td>NaN</td>\n      <td>NaN</td>\n      <td>NaN</td>\n      <td>...</td>\n      <td>NaN</td>\n      <td>NaN</td>\n      <td>NaN</td>\n      <td>NaN</td>\n      <td>NaN</td>\n      <td>NaN</td>\n      <td>NaN</td>\n      <td>NaN</td>\n      <td>NaN</td>\n      <td>NaN</td>\n    </tr>\n    <tr>\n      <th>297</th>\n      <td>T20060001426</td>\n      <td>-3</td>\n      <td>NaN</td>\n      <td>NaN</td>\n      <td>NaN</td>\n      <td>NaN</td>\n      <td>NaN</td>\n      <td>NaN</td>\n      <td>NaN</td>\n      <td>NaN</td>\n      <td>...</td>\n      <td>NaN</td>\n      <td>NaN</td>\n      <td>NaN</td>\n      <td>NaN</td>\n      <td>NaN</td>\n      <td>NaN</td>\n      <td>NaN</td>\n      <td>NaN</td>\n      <td>NaN</td>\n      <td>NaN</td>\n    </tr>\n    <tr>\n      <th>300</th>\n      <td>T20060001431</td>\n      <td>-3</td>\n      <td>NaN</td>\n      <td>NaN</td>\n      <td>NaN</td>\n      <td>NaN</td>\n      <td>NaN</td>\n      <td>NaN</td>\n      <td>NaN</td>\n      <td>NaN</td>\n      <td>...</td>\n      <td>NaN</td>\n      <td>NaN</td>\n      <td>NaN</td>\n      <td>NaN</td>\n      <td>NaN</td>\n      <td>NaN</td>\n      <td>NaN</td>\n      <td>NaN</td>\n      <td>NaN</td>\n      <td>NaN</td>\n    </tr>\n    <tr>\n      <th>...</th>\n      <td>...</td>\n      <td>...</td>\n      <td>...</td>\n      <td>...</td>\n      <td>...</td>\n      <td>...</td>\n      <td>...</td>\n      <td>...</td>\n      <td>...</td>\n      <td>...</td>\n      <td>...</td>\n      <td>...</td>\n      <td>...</td>\n      <td>...</td>\n      <td>...</td>\n      <td>...</td>\n      <td>...</td>\n      <td>...</td>\n      <td>...</td>\n      <td>...</td>\n      <td>...</td>\n    </tr>\n    <tr>\n      <th>197282</th>\n      <td>T20190026485</td>\n      <td>632362</td>\n      <td>-1.0</td>\n      <td>NaN</td>\n      <td>NaN</td>\n      <td>NaN</td>\n      <td>NaN</td>\n      <td>0.0</td>\n      <td>NK</td>\n      <td>NaN</td>\n      <td>...</td>\n      <td>O</td>\n      <td>2495556.750</td>\n      <td>2413212.396</td>\n      <td>MELBOURNE</td>\n      <td>MELBOURNE</td>\n      <td>METROPOLITAN NORTH WEST REGION</td>\n      <td>MELB_URBAN</td>\n      <td>-37.782060</td>\n      <td>144.949558</td>\n      <td>3052.0</td>\n    </tr>\n    <tr>\n      <th>197549</th>\n      <td>T20200000493</td>\n      <td>661855</td>\n      <td>-1.0</td>\n      <td>NaN</td>\n      <td>NaN</td>\n      <td>NaN</td>\n      <td>NaN</td>\n      <td>0.0</td>\n      <td>NK</td>\n      <td>NaN</td>\n      <td>...</td>\n      <td>O</td>\n      <td>2509060.792</td>\n      <td>2492594.510</td>\n      <td>MITCHELL</td>\n      <td>MITCHELL</td>\n      <td>NORTHERN REGION</td>\n      <td>RURAL_VICTORIA</td>\n      <td>-37.066696</td>\n      <td>145.101898</td>\n      <td>3659.0</td>\n    </tr>\n    <tr>\n      <th>200126</th>\n      <td>T20200006060</td>\n      <td>638277</td>\n      <td>-1.0</td>\n      <td>NaN</td>\n      <td>NaN</td>\n      <td>NaN</td>\n      <td>NaN</td>\n      <td>0.0</td>\n      <td>NK</td>\n      <td>NaN</td>\n      <td>...</td>\n      <td>O</td>\n      <td>2289931.606</td>\n      <td>2481504.911</td>\n      <td>NORTHERN GRAMPIANS</td>\n      <td>NORTHERN GRAMPIANS</td>\n      <td>WESTERN REGION</td>\n      <td>RURAL_VICTORIA</td>\n      <td>-37.143162</td>\n      <td>142.634955</td>\n      <td>3381.0</td>\n    </tr>\n    <tr>\n      <th>201595</th>\n      <td>T20200009524</td>\n      <td>653055</td>\n      <td>-1.0</td>\n      <td>NaN</td>\n      <td>NaN</td>\n      <td>NaN</td>\n      <td>NaN</td>\n      <td>0.0</td>\n      <td>NK</td>\n      <td>NaN</td>\n      <td>...</td>\n      <td>O</td>\n      <td>2432214.089</td>\n      <td>2533131.034</td>\n      <td>BENDIGO</td>\n      <td>BENDIGO</td>\n      <td>NORTHERN REGION</td>\n      <td>RURAL_VICTORIA</td>\n      <td>-36.698976</td>\n      <td>144.241328</td>\n      <td>3556.0</td>\n    </tr>\n    <tr>\n      <th>203288</th>\n      <td>T20200015470</td>\n      <td>663927</td>\n      <td>-1.0</td>\n      <td>NaN</td>\n      <td>NaN</td>\n      <td>NaN</td>\n      <td>NaN</td>\n      <td>0.0</td>\n      <td>NK</td>\n      <td>NaN</td>\n      <td>...</td>\n      <td>O</td>\n      <td>2523319.643</td>\n      <td>2413146.057</td>\n      <td>MAROONDAH</td>\n      <td>MAROONDAH</td>\n      <td>METROPOLITAN SOUTH EAST REGION</td>\n      <td>MELB_URBAN</td>\n      <td>-37.782376</td>\n      <td>145.264737</td>\n      <td>3136.0</td>\n    </tr>\n  </tbody>\n</table>\n<p>1006 rows × 22 columns</p>\n</div>"
     },
     "execution_count": 23,
     "metadata": {},
     "output_type": "execute_result"
    }
   ],
   "source": [
    "acc_location = datasets['ACCIDENT_LOCATION'].copy()\n",
    "node_by_acc = datasets[\"NODE\"].drop_duplicates(subset=[\"ACCIDENT_NO\"]).copy()\n",
    "# Join on ACCIDENT_NO\n",
    "acc_loc_enriched = acc_location.merge(node_by_acc, on=\"ACCIDENT_NO\", how=\"left\")\n",
    "# find the rows with missing ROAD_NAME\n",
    "missing_road_name = acc_loc_enriched[acc_loc_enriched[\"ROAD_NAME\"].isna()]\n",
    "missing_road_name"
   ],
   "metadata": {
    "collapsed": false,
    "ExecuteTime": {
     "end_time": "2025-08-12T06:22:39.228241900Z",
     "start_time": "2025-08-12T06:22:38.980102900Z"
    }
   },
   "id": "a7a4e7aa1f06a0ae"
  },
  {
   "cell_type": "code",
   "execution_count": 65,
   "outputs": [
    {
     "name": "stdout",
     "output_type": "stream",
     "text": [
      "Cusack Road\n",
      "Burgess Track\n",
      "Overland Drive\n",
      "Fox Island Road\n",
      "Swallowfield Road\n",
      "Foreshore Road\n",
      "Hardings Lane\n",
      "Chandler Avenue\n",
      "Sayers Track\n",
      "Hume Freeway\n",
      "Dartmouth Road\n",
      "Wellington Road\n",
      "Wet Gully Track\n",
      "Mary Street\n",
      "Koonwarra Pound Creek Road\n",
      "Jackson Road 4WD\n",
      "Channel Track\n",
      "Thompson Road\n",
      "Olsen Road\n",
      "Woolshed Gully Drive\n",
      "Bungaree - Wallace Road\n",
      "Heathcote - Nagambie Road\n",
      "Cherry Tree Spur Track\n",
      "Muirs Lane\n",
      "Former Minnidale Road South\n",
      "Hill Plantation Link Track\n",
      "Cambarville Road\n",
      "Stawell Road\n",
      "Harnett Street\n",
      "Mansfield - Woods Point Road\n",
      "Hume Freeway\n",
      "Bogong High Plains Road\n",
      "Howes Creek-Goughs Bay Road\n",
      "Strzelecki Highway\n",
      "Mayford Track\n",
      "Pennyroyal East Link\n",
      "Summit Road\n",
      "Punt Track\n",
      "Suckling Road\n",
      "Hume Freeway On Ramp\n",
      "Old Yarck Road\n",
      "Boundary 14 Track\n",
      "Murray Valley Highway Offramp\n",
      "Barry Road\n",
      "Maroondah Highway\n",
      "Cowwarr Walhalla Road\n",
      "Drummond Street South\n",
      "Murray Valley Highway\n",
      "Great Alpine Road\n",
      "Deans Marsh - Lorne Road\n",
      "Great Ocean Road\n",
      "Dorchap Range Track\n",
      "Murray River Road\n",
      "Corn Hill Track\n",
      "Ross Road\n",
      "Peregrine Track\n",
      "MT Stanley Jeep Track\n",
      "Harmony Way\n",
      "Peregrine Track\n",
      "Sixth Street\n",
      "Ardenne Court\n",
      "Mount William Road\n",
      "Old Western Highway\n",
      "Mount Atkinson Road\n",
      "Woolshed Gully Drive\n",
      "Gerars Track\n",
      "Martins Track\n",
      "Mount Robertson Road\n",
      "Dormar Lane\n",
      "Martins Track\n",
      "Christies Road\n",
      "Marretts Road\n",
      "McCrackens Track\n",
      "Pheasant Creek Track\n",
      "Sawmill Track\n",
      "Bourke Street\n",
      "Murray Track\n",
      "Cable Track\n",
      "Wet Gully Track\n",
      "Shepherds Creek Road\n",
      "Kirwan Avenue\n",
      "Mansfield - Woods Point Road\n",
      "Bottlebrush Track\n",
      "Perimeter Road\n",
      "Binks Road\n",
      "Watson Drive\n",
      "Metropolitan Ring Road\n",
      "David Munroe Drive\n",
      "Pump Bend Track\n",
      "Dry Creek Road\n",
      "Maple Avenue\n",
      "St Kilda Road\n",
      "Hepburn Street\n",
      "Silvester Parade\n",
      "Aitken Boulevard\n",
      "Melton Highway\n",
      "Grassbird Drive\n",
      "Kingston Road\n",
      "Pearson Street\n",
      "Bacchus Marsh Road\n",
      "Selwood Court\n",
      "Timms Road\n",
      "Goulburn Valley Freeway Onramp\n",
      "Reilly Avenue\n",
      "Cooper Street\n",
      "Gladstone Park Drive\n",
      "Nannys Creek Road\n",
      "Derrimut Drive\n",
      "Cudgewa Valley Road\n",
      "Brandon Park Drive\n",
      "Buckleys Road\n",
      "Hopkins Point Road\n",
      "Seymour Street\n",
      "Robertson Road\n",
      "Kilmore - Lancefield Road\n",
      "Doling Road\n",
      "Barwarre Road\n",
      "Silvester Parade\n",
      "Mozart Street\n",
      "Condon Street\n",
      "Walhalla Road\n",
      "Toomuc Valley Road\n",
      "Linsell Boulevard\n",
      "Alexander Avenue\n",
      "High Street\n",
      "Diapur Road\n",
      "Moondarra Reservoir Road\n",
      "Leakes Road\n",
      "George Avenue\n",
      "Reynolds Road\n",
      "Pleasant View Court\n",
      "Monahans Road Service Road\n",
      "West Dingle Track\n",
      "Climate Walk\n",
      "Rifle Range Road\n",
      "Selwyn Avenue\n",
      "Binsa Loop\n",
      "Grey Street\n",
      "Stables Circuit\n",
      "Depot Road\n",
      "Hutchinson Street\n",
      "Springhill Road\n",
      "Kings Way\n",
      "Boundary Road Offramp\n",
      "Springvale Road\n",
      "CandyTuft Close\n",
      "Edwards Road\n",
      "Cahir Court\n",
      "Capital City Trail\n",
      "Whittlesea - Yea Road\n",
      "Deloraine Close\n",
      "Princes Highway\n",
      "Springvale Road Offramp\n",
      "Old Weir Track\n",
      "Ring Road\n",
      "Cranbourne Road\n",
      "Old Geelong Road Service Road\n",
      "Craigieburn Road\n",
      "Station Road\n",
      "Bark Carters Track\n",
      "Main Street\n",
      "Stuart Avenue\n",
      "High Street\n",
      "Poplar Road\n",
      "Hume Freeway Onramp\n",
      "Mokepilly Road\n",
      "Bendigo - Pyramid Road\n",
      "Plymouth Road\n",
      "✅ Saved: ACCIDENT_LOCATION_with_NODE_ROADNAME_CLEAN.csv\n"
     ]
    }
   ],
   "source": [
    "from geopy.geocoders import Nominatim\n",
    "from geopy.extra.rate_limiter import RateLimiter\n",
    "import re\n",
    "\n",
    "mask_missing = acc_loc_enriched[\"ROAD_NAME\"].isna() & acc_loc_enriched[\"Lat\"].notna() & acc_loc_enriched[\"Long\"].notna()\n",
    "# Reverse-geocode only remaining nulls, run with cautious, be friendly with APIs\n",
    "geolocator = Nominatim(user_agent=\"vic_crash_geocoder\")\n",
    "geocode_rev = RateLimiter(geolocator.reverse, min_delay_seconds=1.1) \n",
    "# Reverse the ROAD_NAME by lat, lonh\n",
    "def reverse_to_road(lat, lon):\n",
    "    try:\n",
    "        loc = geocode_rev((lat, lon), language=\"en\")\n",
    "        if loc and \"road\" in (loc.raw.get(\"address\") or {}):\n",
    "            print(loc.raw[\"address\"][\"road\"])\n",
    "            return loc.raw[\"address\"][\"road\"]\n",
    "    except Exception:\n",
    "        return None\n",
    "    return None\n",
    "\n",
    "acc_loc_enriched.loc[mask_missing, \"ROAD_NAME\"] = acc_loc_enriched.loc[mask_missing, [\"Lat\",\"Long\"]] \\\n",
    "    .apply(lambda s: reverse_to_road(s[\"Lat\"], s[\"Long\"]), axis=1)\n",
    "\n",
    "# Clean: drop street type suffix & UPPERCASE\n",
    "STREET_TYPES = r\"(road|rd|street|st|avenue|ave|drive|dr|track|trl|court|ct|place|pl|close|cl|highway|hwy|boulevard|blvd|lane|ln|terrace|ter|crescent|cres|way)\"\n",
    "PATTERN_END = re.compile(rf\"\\b{STREET_TYPES}\\b\\.?$\", flags=re.IGNORECASE)\n",
    "def clean_road_base(name):\n",
    "    if not isinstance(name, str):\n",
    "        return name\n",
    "    cleaned = PATTERN_END.sub(\"\", name).strip()\n",
    "    return cleaned.upper()\n",
    "\n",
    "acc_loc_enriched[\"ROAD_NAME\"] = acc_loc_enriched[\"ROAD_NAME\"].apply(clean_road_base)\n",
    "# Fallback, if the missing the lat and long, fill with UNKNOWN\n",
    "acc_loc_enriched[\"ROAD_NAME\"] = acc_loc_enriched[\"ROAD_NAME\"].fillna(\"UNKNOWN\")\n",
    "acc_loc_enriched.to_csv(\"ACCIDENT_LOCATION_with_NODE_ROADNAME_CLEAN.csv\", index=False)"
   ],
   "metadata": {
    "collapsed": false,
    "ExecuteTime": {
     "end_time": "2025-08-10T10:01:34.421071500Z",
     "start_time": "2025-08-10T09:58:12.846447600Z"
    }
   },
   "id": "6640f0697aaeaa79"
  },
  {
   "cell_type": "code",
   "execution_count": 69,
   "outputs": [
    {
     "data": {
      "text/plain": "         ACCIDENT_NO  NODE_ID_x  ROAD_ROUTE_1 ROAD_NAME ROAD_TYPE  \\\n41      T20060000265        -10           NaN   UNKNOWN       NaN   \n239     T20060001147     205508          -1.0   UNKNOWN       NaN   \n294     T20060001419         -1           NaN   UNKNOWN       NaN   \n297     T20060001426         -3           NaN   UNKNOWN       NaN   \n300     T20060001431         -3           NaN   UNKNOWN       NaN   \n...              ...        ...           ...       ...       ...   \n186611  T20190006335         -1           NaN   UNKNOWN       NaN   \n188661  T20190010303         -1           NaN   UNKNOWN       NaN   \n188820  T20190010646         -1           NaN   UNKNOWN       NaN   \n192045  T20190016778         -1           NaN   UNKNOWN       NaN   \n195921  T20190023830         -1           NaN   UNKNOWN       NaN   \n\n       ROAD_NAME_INT ROAD_TYPE_INT  DISTANCE_LOCATION DIRECTION_LOCATION  \\\n41               NaN           NaN                NaN                NaN   \n239              NaN           NaN                0.0                 NK   \n294              NaN           NaN                NaN                NaN   \n297              NaN           NaN                NaN                NaN   \n300              NaN           NaN                NaN                NaN   \n...              ...           ...                ...                ...   \n186611           NaN           NaN                NaN                NaN   \n188661           NaN           NaN                NaN                NaN   \n188820           NaN           NaN                NaN                NaN   \n192045           NaN           NaN                NaN                NaN   \n195921           NaN           NaN                NaN                NaN   \n\n        NEAREST_KM_POST  ... NODE_TYPE  VICGRID94_X  VICGRID94_Y  LGA_NAME  \\\n41                  NaN  ...       NaN          NaN          NaN       NaN   \n239                 NaN  ...         O  2601323.287  2388098.254   BAW BAW   \n294                 NaN  ...       NaN          NaN          NaN       NaN   \n297                 NaN  ...       NaN          NaN          NaN       NaN   \n300                 NaN  ...       NaN          NaN          NaN       NaN   \n...                 ...  ...       ...          ...          ...       ...   \n186611              NaN  ...       NaN          NaN          NaN       NaN   \n188661              NaN  ...       NaN          NaN          NaN       NaN   \n188820              NaN  ...       NaN          NaN          NaN       NaN   \n192045              NaN  ...       NaN          NaN          NaN       NaN   \n195921              NaN  ...       NaN          NaN          NaN       NaN   \n\n        LGA_NAME_ALL     REGION_NAME  DEG_URBAN_NAME        Lat        Long  \\\n41               NaN             NaN             NaN        NaN         NaN   \n239          BAW BAW  EASTERN REGION  RURAL_VICTORIA -38.002811  146.153669   \n294              NaN             NaN             NaN        NaN         NaN   \n297              NaN             NaN             NaN        NaN         NaN   \n300              NaN             NaN             NaN        NaN         NaN   \n...              ...             ...             ...        ...         ...   \n186611           NaN             NaN             NaN        NaN         NaN   \n188661           NaN             NaN             NaN        NaN         NaN   \n188820           NaN             NaN             NaN        NaN         NaN   \n192045           NaN             NaN             NaN        NaN         NaN   \n195921           NaN             NaN             NaN        NaN         NaN   \n\n        POSTCODE_NO  \n41              NaN  \n239          3825.0  \n294             NaN  \n297             NaN  \n300             NaN  \n...             ...  \n186611          NaN  \n188661          NaN  \n188820          NaN  \n192045          NaN  \n195921          NaN  \n\n[838 rows x 22 columns]",
      "text/html": "<div>\n<style scoped>\n    .dataframe tbody tr th:only-of-type {\n        vertical-align: middle;\n    }\n\n    .dataframe tbody tr th {\n        vertical-align: top;\n    }\n\n    .dataframe thead th {\n        text-align: right;\n    }\n</style>\n<table border=\"1\" class=\"dataframe\">\n  <thead>\n    <tr style=\"text-align: right;\">\n      <th></th>\n      <th>ACCIDENT_NO</th>\n      <th>NODE_ID_x</th>\n      <th>ROAD_ROUTE_1</th>\n      <th>ROAD_NAME</th>\n      <th>ROAD_TYPE</th>\n      <th>ROAD_NAME_INT</th>\n      <th>ROAD_TYPE_INT</th>\n      <th>DISTANCE_LOCATION</th>\n      <th>DIRECTION_LOCATION</th>\n      <th>NEAREST_KM_POST</th>\n      <th>...</th>\n      <th>NODE_TYPE</th>\n      <th>VICGRID94_X</th>\n      <th>VICGRID94_Y</th>\n      <th>LGA_NAME</th>\n      <th>LGA_NAME_ALL</th>\n      <th>REGION_NAME</th>\n      <th>DEG_URBAN_NAME</th>\n      <th>Lat</th>\n      <th>Long</th>\n      <th>POSTCODE_NO</th>\n    </tr>\n  </thead>\n  <tbody>\n    <tr>\n      <th>41</th>\n      <td>T20060000265</td>\n      <td>-10</td>\n      <td>NaN</td>\n      <td>UNKNOWN</td>\n      <td>NaN</td>\n      <td>NaN</td>\n      <td>NaN</td>\n      <td>NaN</td>\n      <td>NaN</td>\n      <td>NaN</td>\n      <td>...</td>\n      <td>NaN</td>\n      <td>NaN</td>\n      <td>NaN</td>\n      <td>NaN</td>\n      <td>NaN</td>\n      <td>NaN</td>\n      <td>NaN</td>\n      <td>NaN</td>\n      <td>NaN</td>\n      <td>NaN</td>\n    </tr>\n    <tr>\n      <th>239</th>\n      <td>T20060001147</td>\n      <td>205508</td>\n      <td>-1.0</td>\n      <td>UNKNOWN</td>\n      <td>NaN</td>\n      <td>NaN</td>\n      <td>NaN</td>\n      <td>0.0</td>\n      <td>NK</td>\n      <td>NaN</td>\n      <td>...</td>\n      <td>O</td>\n      <td>2601323.287</td>\n      <td>2388098.254</td>\n      <td>BAW BAW</td>\n      <td>BAW BAW</td>\n      <td>EASTERN REGION</td>\n      <td>RURAL_VICTORIA</td>\n      <td>-38.002811</td>\n      <td>146.153669</td>\n      <td>3825.0</td>\n    </tr>\n    <tr>\n      <th>294</th>\n      <td>T20060001419</td>\n      <td>-1</td>\n      <td>NaN</td>\n      <td>UNKNOWN</td>\n      <td>NaN</td>\n      <td>NaN</td>\n      <td>NaN</td>\n      <td>NaN</td>\n      <td>NaN</td>\n      <td>NaN</td>\n      <td>...</td>\n      <td>NaN</td>\n      <td>NaN</td>\n      <td>NaN</td>\n      <td>NaN</td>\n      <td>NaN</td>\n      <td>NaN</td>\n      <td>NaN</td>\n      <td>NaN</td>\n      <td>NaN</td>\n      <td>NaN</td>\n    </tr>\n    <tr>\n      <th>297</th>\n      <td>T20060001426</td>\n      <td>-3</td>\n      <td>NaN</td>\n      <td>UNKNOWN</td>\n      <td>NaN</td>\n      <td>NaN</td>\n      <td>NaN</td>\n      <td>NaN</td>\n      <td>NaN</td>\n      <td>NaN</td>\n      <td>...</td>\n      <td>NaN</td>\n      <td>NaN</td>\n      <td>NaN</td>\n      <td>NaN</td>\n      <td>NaN</td>\n      <td>NaN</td>\n      <td>NaN</td>\n      <td>NaN</td>\n      <td>NaN</td>\n      <td>NaN</td>\n    </tr>\n    <tr>\n      <th>300</th>\n      <td>T20060001431</td>\n      <td>-3</td>\n      <td>NaN</td>\n      <td>UNKNOWN</td>\n      <td>NaN</td>\n      <td>NaN</td>\n      <td>NaN</td>\n      <td>NaN</td>\n      <td>NaN</td>\n      <td>NaN</td>\n      <td>...</td>\n      <td>NaN</td>\n      <td>NaN</td>\n      <td>NaN</td>\n      <td>NaN</td>\n      <td>NaN</td>\n      <td>NaN</td>\n      <td>NaN</td>\n      <td>NaN</td>\n      <td>NaN</td>\n      <td>NaN</td>\n    </tr>\n    <tr>\n      <th>...</th>\n      <td>...</td>\n      <td>...</td>\n      <td>...</td>\n      <td>...</td>\n      <td>...</td>\n      <td>...</td>\n      <td>...</td>\n      <td>...</td>\n      <td>...</td>\n      <td>...</td>\n      <td>...</td>\n      <td>...</td>\n      <td>...</td>\n      <td>...</td>\n      <td>...</td>\n      <td>...</td>\n      <td>...</td>\n      <td>...</td>\n      <td>...</td>\n      <td>...</td>\n      <td>...</td>\n    </tr>\n    <tr>\n      <th>186611</th>\n      <td>T20190006335</td>\n      <td>-1</td>\n      <td>NaN</td>\n      <td>UNKNOWN</td>\n      <td>NaN</td>\n      <td>NaN</td>\n      <td>NaN</td>\n      <td>NaN</td>\n      <td>NaN</td>\n      <td>NaN</td>\n      <td>...</td>\n      <td>NaN</td>\n      <td>NaN</td>\n      <td>NaN</td>\n      <td>NaN</td>\n      <td>NaN</td>\n      <td>NaN</td>\n      <td>NaN</td>\n      <td>NaN</td>\n      <td>NaN</td>\n      <td>NaN</td>\n    </tr>\n    <tr>\n      <th>188661</th>\n      <td>T20190010303</td>\n      <td>-1</td>\n      <td>NaN</td>\n      <td>UNKNOWN</td>\n      <td>NaN</td>\n      <td>NaN</td>\n      <td>NaN</td>\n      <td>NaN</td>\n      <td>NaN</td>\n      <td>NaN</td>\n      <td>...</td>\n      <td>NaN</td>\n      <td>NaN</td>\n      <td>NaN</td>\n      <td>NaN</td>\n      <td>NaN</td>\n      <td>NaN</td>\n      <td>NaN</td>\n      <td>NaN</td>\n      <td>NaN</td>\n      <td>NaN</td>\n    </tr>\n    <tr>\n      <th>188820</th>\n      <td>T20190010646</td>\n      <td>-1</td>\n      <td>NaN</td>\n      <td>UNKNOWN</td>\n      <td>NaN</td>\n      <td>NaN</td>\n      <td>NaN</td>\n      <td>NaN</td>\n      <td>NaN</td>\n      <td>NaN</td>\n      <td>...</td>\n      <td>NaN</td>\n      <td>NaN</td>\n      <td>NaN</td>\n      <td>NaN</td>\n      <td>NaN</td>\n      <td>NaN</td>\n      <td>NaN</td>\n      <td>NaN</td>\n      <td>NaN</td>\n      <td>NaN</td>\n    </tr>\n    <tr>\n      <th>192045</th>\n      <td>T20190016778</td>\n      <td>-1</td>\n      <td>NaN</td>\n      <td>UNKNOWN</td>\n      <td>NaN</td>\n      <td>NaN</td>\n      <td>NaN</td>\n      <td>NaN</td>\n      <td>NaN</td>\n      <td>NaN</td>\n      <td>...</td>\n      <td>NaN</td>\n      <td>NaN</td>\n      <td>NaN</td>\n      <td>NaN</td>\n      <td>NaN</td>\n      <td>NaN</td>\n      <td>NaN</td>\n      <td>NaN</td>\n      <td>NaN</td>\n      <td>NaN</td>\n    </tr>\n    <tr>\n      <th>195921</th>\n      <td>T20190023830</td>\n      <td>-1</td>\n      <td>NaN</td>\n      <td>UNKNOWN</td>\n      <td>NaN</td>\n      <td>NaN</td>\n      <td>NaN</td>\n      <td>NaN</td>\n      <td>NaN</td>\n      <td>NaN</td>\n      <td>...</td>\n      <td>NaN</td>\n      <td>NaN</td>\n      <td>NaN</td>\n      <td>NaN</td>\n      <td>NaN</td>\n      <td>NaN</td>\n      <td>NaN</td>\n      <td>NaN</td>\n      <td>NaN</td>\n      <td>NaN</td>\n    </tr>\n  </tbody>\n</table>\n<p>838 rows × 22 columns</p>\n</div>"
     },
     "execution_count": 69,
     "metadata": {},
     "output_type": "execute_result"
    }
   ],
   "source": [
    "miss = acc_loc_enriched[acc_loc_enriched[\"ROAD_NAME\"]== \"UNKNOWN\"].copy()\n",
    "miss"
   ],
   "metadata": {
    "collapsed": false,
    "ExecuteTime": {
     "end_time": "2025-08-10T10:08:21.273152300Z",
     "start_time": "2025-08-10T10:08:21.240816300Z"
    }
   },
   "id": "f779220fb2999c9a"
  }
 ],
 "metadata": {
  "kernelspec": {
   "display_name": "Python 3",
   "language": "python",
   "name": "python3"
  },
  "language_info": {
   "codemirror_mode": {
    "name": "ipython",
    "version": 2
   },
   "file_extension": ".py",
   "mimetype": "text/x-python",
   "name": "python",
   "nbconvert_exporter": "python",
   "pygments_lexer": "ipython2",
   "version": "2.7.6"
  }
 },
 "nbformat": 4,
 "nbformat_minor": 5
}
