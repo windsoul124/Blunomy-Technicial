{
 "cells": [
  {
   "cell_type": "markdown",
   "source": [
    "# Model Development\n",
    "In this notebook, I will join the ACCIDENT, ATMOSPHERIC_COND after imputed, LIGHT_CONDITION after imputed, Person after aggregated,  ROAD_SURFACE_COND after imputed, SPEED_ZONE after imputed as the training data.\n",
    "Implementing XGBoost model for its gradient boosting, handles imbalance and non-linearity well, and SHAP values to check the feature contribution, revealing global impacts."
   ],
   "metadata": {
    "collapsed": false
   },
   "id": "caea7c3c6d90e005"
  },
  {
   "cell_type": "markdown",
   "source": [
    "### Data Preparation\n",
    "Merge the related files and formalize the format for the training"
   ],
   "metadata": {
    "collapsed": false
   },
   "id": "3e490bebbfb1b782"
  },
  {
   "cell_type": "code",
   "execution_count": 1,
   "outputs": [],
   "source": [
    "import numpy as np\n",
    "import pandas as pd\n",
    "import shap\n",
    "import matplotlib.pyplot as plt\n",
    "import xgboost as xgb\n",
    "from sklearn.model_selection import train_test_split\n",
    "from sklearn.compose import ColumnTransformer\n",
    "from sklearn.preprocessing import OneHotEncoder\n",
    "from sklearn.metrics import balanced_accuracy_score, f1_score, classification_report, confusion_matrix\n",
    "from sklearn.preprocessing import LabelEncoder\n",
    "import warnings\n",
    "\n",
    "# Suppress all UserWarnings\n",
    "warnings.filterwarnings(\"ignore\", category=UserWarning)\n",
    "# Load the all the dataset from Dataset folder\n",
    "def load_dataset(file_name):\n",
    "    return pd.read_csv(f'Clean-data/{file_name}', low_memory=False)\n",
    "\n",
    "file_list = [\n",
    "    'ACCIDENT.csv',\n",
    "    'ATMOSPHERIC_COND_IMPUTED.csv',\n",
    "    'LIGHT_CONDITION_IMPUTED.csv',\n",
    "    'PERSON_agg_by_ACCIDENT.csv',\n",
    "    'ROAD_SURFACE_COND_IMPUTED.csv',\n",
    "    'SPEED_ZONE_IMPUTED.csv',\n",
    "]\n",
    "# Load all datasets into a dictionary\n",
    "datasets = {file_name.split('.')[0]: load_dataset(file_name) for file_name in file_list}\n",
    "# Save the datasets to a dictionary for further processing\n",
    "datasets = {\n",
    "    'ACCIDENT': load_dataset('ACCIDENT.csv'),\n",
    "    'ATMOSPHERIC_COND_IMPUTED': load_dataset('ATMOSPHERIC_COND_IMPUTED.csv'),\n",
    "    'LIGHT_CONDITION_IMPUTED': load_dataset('LIGHT_CONDITION_IMPUTED.csv'),\n",
    "    'PERSON_agg_by_ACCIDENT': load_dataset('PERSON_agg_by_ACCIDENT.csv'),\n",
    "    'ROAD_SURFACE_COND_IMPUTED': load_dataset('ROAD_SURFACE_COND_IMPUTED.csv'),\n",
    "    'SPEED_ZONE_IMPUTED': load_dataset('SPEED_ZONE_IMPUTED.csv'),\n",
    "}"
   ],
   "metadata": {
    "collapsed": false,
    "ExecuteTime": {
     "end_time": "2025-08-12T07:23:03.453422600Z",
     "start_time": "2025-08-12T07:23:00.173191Z"
    }
   },
   "id": "initial_id"
  },
  {
   "cell_type": "code",
   "execution_count": 4,
   "outputs": [
    {
     "name": "stdout",
     "output_type": "stream",
     "text": [
      "ACCIDENT: (203708, 28), Missing values: 11740\n",
      "ATMOSPHERIC_COND_IMPUTED: (203708, 3), Missing values: 0\n",
      "LIGHT_CONDITION_IMPUTED: (203708, 3), Missing values: 0\n",
      "PERSON_agg_by_ACCIDENT: (203708, 2), Missing values: 4533\n",
      "ROAD_SURFACE_COND_IMPUTED: (203708, 3), Missing values: 0\n",
      "SPEED_ZONE_IMPUTED: (203708, 2), Missing values: 0\n"
     ]
    }
   ],
   "source": [
    "# Check all the datasets shape and missing values\n",
    "for name, df in datasets.items():\n",
    "    print(f\"{name}: {df.shape}, Missing values: {df.isnull().sum().sum()}\")"
   ],
   "metadata": {
    "collapsed": false,
    "ExecuteTime": {
     "end_time": "2025-08-12T07:01:47.698336300Z",
     "start_time": "2025-08-12T07:01:47.592047200Z"
    }
   },
   "id": "1f4a1f358f9c0121"
  },
  {
   "cell_type": "code",
   "execution_count": 5,
   "outputs": [
    {
     "data": {
      "text/plain": "    ACCIDENT_NO ACCIDENTDATE                    ACCIDENTTIME  ACCIDENT_TYPE  \\\n0  T20060000010   13/01/2006  12:42:00                                    1   \n1  T20060000018   13/01/2006  19:10:00                                    1   \n2  T20060000022   14/01/2006  12:10:00                                    7   \n3  T20060000023   14/01/2006  11:49:00                                    1   \n4  T20060000026   14/01/2006  10:45:00                                    1   \n\n               Accident Type Desc  DAY_OF_WEEK Day Week Description  DCA_CODE  \\\n0          Collision with vehicle            6               Friday       113   \n1          Collision with vehicle            6               Friday       113   \n2  Fall from or in moving vehicle            7             Saturday       190   \n3          Collision with vehicle            7             Saturday       130   \n4          Collision with vehicle            7             Saturday       121   \n\n                                  DCA Description DIRECTORY  ... NO_PERSONS  \\\n0  RIGHT NEAR (INTERSECTIONS ONLY)                      MEL  ...          6   \n1  RIGHT NEAR (INTERSECTIONS ONLY)                      MEL  ...          4   \n2        FELL IN/FROM VEHICLE                           MEL  ...          2   \n3  REAR END(VEHICLES IN SAME LANE)                      MEL  ...          2   \n4           RIGHT THROUGH                               MEL  ...          3   \n\n  NO_PERSONS_INJ_2 NO_PERSONS_INJ_3 NO_PERSONS_KILLED  NO_PERSONS_NOT_INJ  \\\n0                0                1                 0                   5   \n1                0                1                 0                   3   \n2                1                0                 0                   1   \n3                1                0                 0                   1   \n4                0                3                 0                   0   \n\n  POLICE_ATTEND  ROAD_GEOMETRY   Road Geometry Desc  SEVERITY  SPEED_ZONE  \n0             1              1   Cross intersection         3          60  \n1             1              2       T intersection         3          70  \n2             1              5  Not at intersection         2         100  \n3             1              2       T intersection         2          80  \n4             1              5  Not at intersection         3          50  \n\n[5 rows x 28 columns]",
      "text/html": "<div>\n<style scoped>\n    .dataframe tbody tr th:only-of-type {\n        vertical-align: middle;\n    }\n\n    .dataframe tbody tr th {\n        vertical-align: top;\n    }\n\n    .dataframe thead th {\n        text-align: right;\n    }\n</style>\n<table border=\"1\" class=\"dataframe\">\n  <thead>\n    <tr style=\"text-align: right;\">\n      <th></th>\n      <th>ACCIDENT_NO</th>\n      <th>ACCIDENTDATE</th>\n      <th>ACCIDENTTIME</th>\n      <th>ACCIDENT_TYPE</th>\n      <th>Accident Type Desc</th>\n      <th>DAY_OF_WEEK</th>\n      <th>Day Week Description</th>\n      <th>DCA_CODE</th>\n      <th>DCA Description</th>\n      <th>DIRECTORY</th>\n      <th>...</th>\n      <th>NO_PERSONS</th>\n      <th>NO_PERSONS_INJ_2</th>\n      <th>NO_PERSONS_INJ_3</th>\n      <th>NO_PERSONS_KILLED</th>\n      <th>NO_PERSONS_NOT_INJ</th>\n      <th>POLICE_ATTEND</th>\n      <th>ROAD_GEOMETRY</th>\n      <th>Road Geometry Desc</th>\n      <th>SEVERITY</th>\n      <th>SPEED_ZONE</th>\n    </tr>\n  </thead>\n  <tbody>\n    <tr>\n      <th>0</th>\n      <td>T20060000010</td>\n      <td>13/01/2006</td>\n      <td>12:42:00</td>\n      <td>1</td>\n      <td>Collision with vehicle</td>\n      <td>6</td>\n      <td>Friday</td>\n      <td>113</td>\n      <td>RIGHT NEAR (INTERSECTIONS ONLY)</td>\n      <td>MEL</td>\n      <td>...</td>\n      <td>6</td>\n      <td>0</td>\n      <td>1</td>\n      <td>0</td>\n      <td>5</td>\n      <td>1</td>\n      <td>1</td>\n      <td>Cross intersection</td>\n      <td>3</td>\n      <td>60</td>\n    </tr>\n    <tr>\n      <th>1</th>\n      <td>T20060000018</td>\n      <td>13/01/2006</td>\n      <td>19:10:00</td>\n      <td>1</td>\n      <td>Collision with vehicle</td>\n      <td>6</td>\n      <td>Friday</td>\n      <td>113</td>\n      <td>RIGHT NEAR (INTERSECTIONS ONLY)</td>\n      <td>MEL</td>\n      <td>...</td>\n      <td>4</td>\n      <td>0</td>\n      <td>1</td>\n      <td>0</td>\n      <td>3</td>\n      <td>1</td>\n      <td>2</td>\n      <td>T intersection</td>\n      <td>3</td>\n      <td>70</td>\n    </tr>\n    <tr>\n      <th>2</th>\n      <td>T20060000022</td>\n      <td>14/01/2006</td>\n      <td>12:10:00</td>\n      <td>7</td>\n      <td>Fall from or in moving vehicle</td>\n      <td>7</td>\n      <td>Saturday</td>\n      <td>190</td>\n      <td>FELL IN/FROM VEHICLE</td>\n      <td>MEL</td>\n      <td>...</td>\n      <td>2</td>\n      <td>1</td>\n      <td>0</td>\n      <td>0</td>\n      <td>1</td>\n      <td>1</td>\n      <td>5</td>\n      <td>Not at intersection</td>\n      <td>2</td>\n      <td>100</td>\n    </tr>\n    <tr>\n      <th>3</th>\n      <td>T20060000023</td>\n      <td>14/01/2006</td>\n      <td>11:49:00</td>\n      <td>1</td>\n      <td>Collision with vehicle</td>\n      <td>7</td>\n      <td>Saturday</td>\n      <td>130</td>\n      <td>REAR END(VEHICLES IN SAME LANE)</td>\n      <td>MEL</td>\n      <td>...</td>\n      <td>2</td>\n      <td>1</td>\n      <td>0</td>\n      <td>0</td>\n      <td>1</td>\n      <td>1</td>\n      <td>2</td>\n      <td>T intersection</td>\n      <td>2</td>\n      <td>80</td>\n    </tr>\n    <tr>\n      <th>4</th>\n      <td>T20060000026</td>\n      <td>14/01/2006</td>\n      <td>10:45:00</td>\n      <td>1</td>\n      <td>Collision with vehicle</td>\n      <td>7</td>\n      <td>Saturday</td>\n      <td>121</td>\n      <td>RIGHT THROUGH</td>\n      <td>MEL</td>\n      <td>...</td>\n      <td>3</td>\n      <td>0</td>\n      <td>3</td>\n      <td>0</td>\n      <td>0</td>\n      <td>1</td>\n      <td>5</td>\n      <td>Not at intersection</td>\n      <td>3</td>\n      <td>50</td>\n    </tr>\n  </tbody>\n</table>\n<p>5 rows × 28 columns</p>\n</div>"
     },
     "execution_count": 5,
     "metadata": {},
     "output_type": "execute_result"
    }
   ],
   "source": [
    "acc = datasets['ACCIDENT']\n",
    "acc.head()"
   ],
   "metadata": {
    "collapsed": false,
    "ExecuteTime": {
     "end_time": "2025-08-12T07:01:47.985472700Z",
     "start_time": "2025-08-12T07:01:47.958641300Z"
    }
   },
   "id": "63037dca45f3b6da"
  },
  {
   "cell_type": "code",
   "execution_count": 6,
   "outputs": [],
   "source": [
    "acc.drop(columns=['DIRECTORY', 'EDITION', 'PAGE', 'GRID_REFERENCE_X', 'GRID_REFERENCE_Y'], inplace=True)"
   ],
   "metadata": {
    "collapsed": false,
    "ExecuteTime": {
     "end_time": "2025-08-12T07:01:48.649290800Z",
     "start_time": "2025-08-12T07:01:48.620037500Z"
    }
   },
   "id": "530d9bfe1ae8a3d9"
  },
  {
   "cell_type": "code",
   "execution_count": 7,
   "outputs": [],
   "source": [
    "# Get the Hour and Month per accident, assign Fri-Mon as 'weekend'\n",
    "acc['ACCIDENT_TIME_HOUR'] = pd.to_datetime(acc['ACCIDENTTIME']).dt.hour\n",
    "acc['ACCIDENT_TIME_MONTH'] = pd.to_datetime(acc['ACCIDENTDATE']).dt.month\n",
    "acc['IS_WEEKEND'] = acc['DAY_OF_WEEK'].apply(lambda x: 1 if x in [6,7,0,1] else 0)"
   ],
   "metadata": {
    "collapsed": false,
    "ExecuteTime": {
     "end_time": "2025-08-12T07:01:49.454242500Z",
     "start_time": "2025-08-12T07:01:49.182788900Z"
    }
   },
   "id": "2b68363a70480b"
  },
  {
   "cell_type": "code",
   "execution_count": 8,
   "outputs": [
    {
     "data": {
      "text/plain": "    ACCIDENT_NO ACCIDENTDATE                    ACCIDENTTIME  ACCIDENT_TYPE  \\\n0  T20060000010   13/01/2006  12:42:00                                    1   \n1  T20060000018   13/01/2006  19:10:00                                    1   \n2  T20060000022   14/01/2006  12:10:00                                    7   \n3  T20060000023   14/01/2006  11:49:00                                    1   \n4  T20060000026   14/01/2006  10:45:00                                    1   \n\n               Accident Type Desc  DAY_OF_WEEK Day Week Description  DCA_CODE  \\\n0          Collision with vehicle            6               Friday       113   \n1          Collision with vehicle            6               Friday       113   \n2  Fall from or in moving vehicle            7             Saturday       190   \n3          Collision with vehicle            7             Saturday       130   \n4          Collision with vehicle            7             Saturday       121   \n\n                                  DCA Description  LIGHT_CONDITION  ...  \\\n0  RIGHT NEAR (INTERSECTIONS ONLY)                               1  ...   \n1  RIGHT NEAR (INTERSECTIONS ONLY)                               1  ...   \n2        FELL IN/FROM VEHICLE                                    1  ...   \n3  REAR END(VEHICLES IN SAME LANE)                               1  ...   \n4           RIGHT THROUGH                                        1  ...   \n\n  NO_PERSONS_KILLED  NO_PERSONS_NOT_INJ  POLICE_ATTEND  ROAD_GEOMETRY  \\\n0                 0                   5              1              1   \n1                 0                   3              1              2   \n2                 0                   1              1              5   \n3                 0                   1              1              2   \n4                 0                   0              1              5   \n\n    Road Geometry Desc  SEVERITY  SPEED_ZONE  ACCIDENT_TIME_HOUR  \\\n0   Cross intersection         3          60                  12   \n1       T intersection         3          70                  19   \n2  Not at intersection         2         100                  12   \n3       T intersection         2          80                  11   \n4  Not at intersection         3          50                  10   \n\n   ACCIDENT_TIME_MONTH  IS_WEEKEND  \n0                    1           1  \n1                    1           1  \n2                    1           1  \n3                    1           1  \n4                    1           1  \n\n[5 rows x 26 columns]",
      "text/html": "<div>\n<style scoped>\n    .dataframe tbody tr th:only-of-type {\n        vertical-align: middle;\n    }\n\n    .dataframe tbody tr th {\n        vertical-align: top;\n    }\n\n    .dataframe thead th {\n        text-align: right;\n    }\n</style>\n<table border=\"1\" class=\"dataframe\">\n  <thead>\n    <tr style=\"text-align: right;\">\n      <th></th>\n      <th>ACCIDENT_NO</th>\n      <th>ACCIDENTDATE</th>\n      <th>ACCIDENTTIME</th>\n      <th>ACCIDENT_TYPE</th>\n      <th>Accident Type Desc</th>\n      <th>DAY_OF_WEEK</th>\n      <th>Day Week Description</th>\n      <th>DCA_CODE</th>\n      <th>DCA Description</th>\n      <th>LIGHT_CONDITION</th>\n      <th>...</th>\n      <th>NO_PERSONS_KILLED</th>\n      <th>NO_PERSONS_NOT_INJ</th>\n      <th>POLICE_ATTEND</th>\n      <th>ROAD_GEOMETRY</th>\n      <th>Road Geometry Desc</th>\n      <th>SEVERITY</th>\n      <th>SPEED_ZONE</th>\n      <th>ACCIDENT_TIME_HOUR</th>\n      <th>ACCIDENT_TIME_MONTH</th>\n      <th>IS_WEEKEND</th>\n    </tr>\n  </thead>\n  <tbody>\n    <tr>\n      <th>0</th>\n      <td>T20060000010</td>\n      <td>13/01/2006</td>\n      <td>12:42:00</td>\n      <td>1</td>\n      <td>Collision with vehicle</td>\n      <td>6</td>\n      <td>Friday</td>\n      <td>113</td>\n      <td>RIGHT NEAR (INTERSECTIONS ONLY)</td>\n      <td>1</td>\n      <td>...</td>\n      <td>0</td>\n      <td>5</td>\n      <td>1</td>\n      <td>1</td>\n      <td>Cross intersection</td>\n      <td>3</td>\n      <td>60</td>\n      <td>12</td>\n      <td>1</td>\n      <td>1</td>\n    </tr>\n    <tr>\n      <th>1</th>\n      <td>T20060000018</td>\n      <td>13/01/2006</td>\n      <td>19:10:00</td>\n      <td>1</td>\n      <td>Collision with vehicle</td>\n      <td>6</td>\n      <td>Friday</td>\n      <td>113</td>\n      <td>RIGHT NEAR (INTERSECTIONS ONLY)</td>\n      <td>1</td>\n      <td>...</td>\n      <td>0</td>\n      <td>3</td>\n      <td>1</td>\n      <td>2</td>\n      <td>T intersection</td>\n      <td>3</td>\n      <td>70</td>\n      <td>19</td>\n      <td>1</td>\n      <td>1</td>\n    </tr>\n    <tr>\n      <th>2</th>\n      <td>T20060000022</td>\n      <td>14/01/2006</td>\n      <td>12:10:00</td>\n      <td>7</td>\n      <td>Fall from or in moving vehicle</td>\n      <td>7</td>\n      <td>Saturday</td>\n      <td>190</td>\n      <td>FELL IN/FROM VEHICLE</td>\n      <td>1</td>\n      <td>...</td>\n      <td>0</td>\n      <td>1</td>\n      <td>1</td>\n      <td>5</td>\n      <td>Not at intersection</td>\n      <td>2</td>\n      <td>100</td>\n      <td>12</td>\n      <td>1</td>\n      <td>1</td>\n    </tr>\n    <tr>\n      <th>3</th>\n      <td>T20060000023</td>\n      <td>14/01/2006</td>\n      <td>11:49:00</td>\n      <td>1</td>\n      <td>Collision with vehicle</td>\n      <td>7</td>\n      <td>Saturday</td>\n      <td>130</td>\n      <td>REAR END(VEHICLES IN SAME LANE)</td>\n      <td>1</td>\n      <td>...</td>\n      <td>0</td>\n      <td>1</td>\n      <td>1</td>\n      <td>2</td>\n      <td>T intersection</td>\n      <td>2</td>\n      <td>80</td>\n      <td>11</td>\n      <td>1</td>\n      <td>1</td>\n    </tr>\n    <tr>\n      <th>4</th>\n      <td>T20060000026</td>\n      <td>14/01/2006</td>\n      <td>10:45:00</td>\n      <td>1</td>\n      <td>Collision with vehicle</td>\n      <td>7</td>\n      <td>Saturday</td>\n      <td>121</td>\n      <td>RIGHT THROUGH</td>\n      <td>1</td>\n      <td>...</td>\n      <td>0</td>\n      <td>0</td>\n      <td>1</td>\n      <td>5</td>\n      <td>Not at intersection</td>\n      <td>3</td>\n      <td>50</td>\n      <td>10</td>\n      <td>1</td>\n      <td>1</td>\n    </tr>\n  </tbody>\n</table>\n<p>5 rows × 26 columns</p>\n</div>"
     },
     "execution_count": 8,
     "metadata": {},
     "output_type": "execute_result"
    }
   ],
   "source": [
    "acc.head()"
   ],
   "metadata": {
    "collapsed": false,
    "ExecuteTime": {
     "end_time": "2025-08-12T07:01:50.360722300Z",
     "start_time": "2025-08-12T07:01:50.334976400Z"
    }
   },
   "id": "8977de83cf17a73d"
  },
  {
   "cell_type": "code",
   "execution_count": 9,
   "outputs": [],
   "source": [
    "# merge all the file together\n",
    "def merge_datasets(datasets):\n",
    "    merged_df = datasets['ACCIDENT']\n",
    "    for name, df in datasets.items():\n",
    "        if name != 'ACCIDENT':\n",
    "            merged_df = merged_df.merge(df, on='ACCIDENT_NO', how='left')\n",
    "    return merged_df\n",
    "merged_df = merge_datasets(datasets)"
   ],
   "metadata": {
    "collapsed": false,
    "ExecuteTime": {
     "end_time": "2025-08-12T07:01:55.817460300Z",
     "start_time": "2025-08-12T07:01:55.257863200Z"
    }
   },
   "id": "6ff4bb52bf5c00a6"
  },
  {
   "cell_type": "code",
   "execution_count": 10,
   "outputs": [
    {
     "data": {
      "text/plain": "(203708, 34)"
     },
     "execution_count": 10,
     "metadata": {},
     "output_type": "execute_result"
    }
   ],
   "source": [
    "merged_df.shape"
   ],
   "metadata": {
    "collapsed": false,
    "ExecuteTime": {
     "end_time": "2025-08-12T07:01:58.136382400Z",
     "start_time": "2025-08-12T07:01:58.105867700Z"
    }
   },
   "id": "5f6143dbdd31dbd6"
  },
  {
   "cell_type": "code",
   "execution_count": 11,
   "outputs": [
    {
     "data": {
      "text/plain": "    ACCIDENT_NO ACCIDENTDATE                    ACCIDENTTIME  ACCIDENT_TYPE  \\\n0  T20060000010   13/01/2006  12:42:00                                    1   \n1  T20060000018   13/01/2006  19:10:00                                    1   \n2  T20060000022   14/01/2006  12:10:00                                    7   \n3  T20060000023   14/01/2006  11:49:00                                    1   \n4  T20060000026   14/01/2006  10:45:00                                    1   \n\n               Accident Type Desc  DAY_OF_WEEK Day Week Description  DCA_CODE  \\\n0          Collision with vehicle            6               Friday       113   \n1          Collision with vehicle            6               Friday       113   \n2  Fall from or in moving vehicle            7             Saturday       190   \n3          Collision with vehicle            7             Saturday       130   \n4          Collision with vehicle            7             Saturday       121   \n\n                                  DCA Description  LIGHT_CONDITION_x  ...  \\\n0  RIGHT NEAR (INTERSECTIONS ONLY)                                 1  ...   \n1  RIGHT NEAR (INTERSECTIONS ONLY)                                 1  ...   \n2        FELL IN/FROM VEHICLE                                      1  ...   \n3  REAR END(VEHICLES IN SAME LANE)                                 1  ...   \n4           RIGHT THROUGH                                          1  ...   \n\n  ACCIDENT_TIME_MONTH  IS_WEEKEND  ATMOSPH_COND  Atmosph Cond Desc  \\\n0                   1           1             1              Clear   \n1                   1           1             1              Clear   \n2                   1           1             1              Clear   \n3                   1           1             1              Clear   \n4                   1           1             1              Clear   \n\n   LIGHT_CONDITION_y  Light Condition Desc_y  OPERATOR_MEDIAN_AGE  \\\n0                  1                     Day                 62.0   \n1                  1                     Day                 25.0   \n2                  1                     Day                 45.0   \n3                  1                     Day                 42.5   \n4                  1                     Day                 67.5   \n\n   SURFACE_COND  Surface Cond Desc  SPEED_ZONE_y  \n0           1.0                Dry          60.0  \n1           1.0                Dry          70.0  \n2           1.0                Dry         100.0  \n3           1.0                Dry          80.0  \n4           1.0                Dry          50.0  \n\n[5 rows x 34 columns]",
      "text/html": "<div>\n<style scoped>\n    .dataframe tbody tr th:only-of-type {\n        vertical-align: middle;\n    }\n\n    .dataframe tbody tr th {\n        vertical-align: top;\n    }\n\n    .dataframe thead th {\n        text-align: right;\n    }\n</style>\n<table border=\"1\" class=\"dataframe\">\n  <thead>\n    <tr style=\"text-align: right;\">\n      <th></th>\n      <th>ACCIDENT_NO</th>\n      <th>ACCIDENTDATE</th>\n      <th>ACCIDENTTIME</th>\n      <th>ACCIDENT_TYPE</th>\n      <th>Accident Type Desc</th>\n      <th>DAY_OF_WEEK</th>\n      <th>Day Week Description</th>\n      <th>DCA_CODE</th>\n      <th>DCA Description</th>\n      <th>LIGHT_CONDITION_x</th>\n      <th>...</th>\n      <th>ACCIDENT_TIME_MONTH</th>\n      <th>IS_WEEKEND</th>\n      <th>ATMOSPH_COND</th>\n      <th>Atmosph Cond Desc</th>\n      <th>LIGHT_CONDITION_y</th>\n      <th>Light Condition Desc_y</th>\n      <th>OPERATOR_MEDIAN_AGE</th>\n      <th>SURFACE_COND</th>\n      <th>Surface Cond Desc</th>\n      <th>SPEED_ZONE_y</th>\n    </tr>\n  </thead>\n  <tbody>\n    <tr>\n      <th>0</th>\n      <td>T20060000010</td>\n      <td>13/01/2006</td>\n      <td>12:42:00</td>\n      <td>1</td>\n      <td>Collision with vehicle</td>\n      <td>6</td>\n      <td>Friday</td>\n      <td>113</td>\n      <td>RIGHT NEAR (INTERSECTIONS ONLY)</td>\n      <td>1</td>\n      <td>...</td>\n      <td>1</td>\n      <td>1</td>\n      <td>1</td>\n      <td>Clear</td>\n      <td>1</td>\n      <td>Day</td>\n      <td>62.0</td>\n      <td>1.0</td>\n      <td>Dry</td>\n      <td>60.0</td>\n    </tr>\n    <tr>\n      <th>1</th>\n      <td>T20060000018</td>\n      <td>13/01/2006</td>\n      <td>19:10:00</td>\n      <td>1</td>\n      <td>Collision with vehicle</td>\n      <td>6</td>\n      <td>Friday</td>\n      <td>113</td>\n      <td>RIGHT NEAR (INTERSECTIONS ONLY)</td>\n      <td>1</td>\n      <td>...</td>\n      <td>1</td>\n      <td>1</td>\n      <td>1</td>\n      <td>Clear</td>\n      <td>1</td>\n      <td>Day</td>\n      <td>25.0</td>\n      <td>1.0</td>\n      <td>Dry</td>\n      <td>70.0</td>\n    </tr>\n    <tr>\n      <th>2</th>\n      <td>T20060000022</td>\n      <td>14/01/2006</td>\n      <td>12:10:00</td>\n      <td>7</td>\n      <td>Fall from or in moving vehicle</td>\n      <td>7</td>\n      <td>Saturday</td>\n      <td>190</td>\n      <td>FELL IN/FROM VEHICLE</td>\n      <td>1</td>\n      <td>...</td>\n      <td>1</td>\n      <td>1</td>\n      <td>1</td>\n      <td>Clear</td>\n      <td>1</td>\n      <td>Day</td>\n      <td>45.0</td>\n      <td>1.0</td>\n      <td>Dry</td>\n      <td>100.0</td>\n    </tr>\n    <tr>\n      <th>3</th>\n      <td>T20060000023</td>\n      <td>14/01/2006</td>\n      <td>11:49:00</td>\n      <td>1</td>\n      <td>Collision with vehicle</td>\n      <td>7</td>\n      <td>Saturday</td>\n      <td>130</td>\n      <td>REAR END(VEHICLES IN SAME LANE)</td>\n      <td>1</td>\n      <td>...</td>\n      <td>1</td>\n      <td>1</td>\n      <td>1</td>\n      <td>Clear</td>\n      <td>1</td>\n      <td>Day</td>\n      <td>42.5</td>\n      <td>1.0</td>\n      <td>Dry</td>\n      <td>80.0</td>\n    </tr>\n    <tr>\n      <th>4</th>\n      <td>T20060000026</td>\n      <td>14/01/2006</td>\n      <td>10:45:00</td>\n      <td>1</td>\n      <td>Collision with vehicle</td>\n      <td>7</td>\n      <td>Saturday</td>\n      <td>121</td>\n      <td>RIGHT THROUGH</td>\n      <td>1</td>\n      <td>...</td>\n      <td>1</td>\n      <td>1</td>\n      <td>1</td>\n      <td>Clear</td>\n      <td>1</td>\n      <td>Day</td>\n      <td>67.5</td>\n      <td>1.0</td>\n      <td>Dry</td>\n      <td>50.0</td>\n    </tr>\n  </tbody>\n</table>\n<p>5 rows × 34 columns</p>\n</div>"
     },
     "execution_count": 11,
     "metadata": {},
     "output_type": "execute_result"
    }
   ],
   "source": [
    "merged_df.head()"
   ],
   "metadata": {
    "collapsed": false,
    "ExecuteTime": {
     "end_time": "2025-08-12T07:01:58.455332900Z",
     "start_time": "2025-08-12T07:01:58.424536200Z"
    }
   },
   "id": "cfa9c3d49fe07990"
  },
  {
   "cell_type": "code",
   "execution_count": 12,
   "outputs": [
    {
     "name": "stdout",
     "output_type": "stream",
     "text": [
      "Columns in the merged dataset:\n",
      "['ACCIDENT_NO', 'ACCIDENTDATE', 'ACCIDENTTIME', 'ACCIDENT_TYPE', 'Accident Type Desc', 'DAY_OF_WEEK', 'Day Week Description', 'DCA_CODE', 'DCA Description', 'LIGHT_CONDITION_x', 'Light Condition Desc_x', 'NODE_ID', 'NO_OF_VEHICLES', 'NO_PERSONS', 'NO_PERSONS_INJ_2', 'NO_PERSONS_INJ_3', 'NO_PERSONS_KILLED', 'NO_PERSONS_NOT_INJ', 'POLICE_ATTEND', 'ROAD_GEOMETRY', 'Road Geometry Desc', 'SEVERITY', 'SPEED_ZONE_x', 'ACCIDENT_TIME_HOUR', 'ACCIDENT_TIME_MONTH', 'IS_WEEKEND', 'ATMOSPH_COND', 'Atmosph Cond Desc', 'LIGHT_CONDITION_y', 'Light Condition Desc_y', 'OPERATOR_MEDIAN_AGE', 'SURFACE_COND', 'Surface Cond Desc', 'SPEED_ZONE_y']\n"
     ]
    }
   ],
   "source": [
    "# Check the columns in the merged dataset\n",
    "print(\"Columns in the merged dataset:\") \n",
    "print(merged_df.columns.tolist())"
   ],
   "metadata": {
    "collapsed": false,
    "ExecuteTime": {
     "end_time": "2025-08-12T07:02:00.379012Z",
     "start_time": "2025-08-12T07:02:00.375451900Z"
    }
   },
   "id": "21153da8fbee3b3f"
  },
  {
   "cell_type": "code",
   "execution_count": 13,
   "outputs": [],
   "source": [
    "# Drop the original columns that have been imputed\n",
    "merged_df.drop(['LIGHT_CONDITION_x', 'SPEED_ZONE_x', 'Light Condition Desc_x'], axis=1, inplace=True)"
   ],
   "metadata": {
    "collapsed": false,
    "ExecuteTime": {
     "end_time": "2025-08-12T07:02:34.277733200Z",
     "start_time": "2025-08-12T07:02:34.237711500Z"
    }
   },
   "id": "dcabc7fd80f73cf7"
  },
  {
   "cell_type": "code",
   "execution_count": 14,
   "outputs": [],
   "source": [
    "# rename columns for clarity\n",
    "merged_df.rename(columns={\n",
    "    'LIGHT_CONDITION_y': 'LIGHT_CONDITION',\n",
    "    'SPEED_ZONE_y': 'SPEED_ZONE',\n",
    "    'Light Condition Desc_y': 'Light Condition Desc',\n",
    "}, inplace=True)"
   ],
   "metadata": {
    "collapsed": false,
    "ExecuteTime": {
     "end_time": "2025-08-12T07:02:40.394819300Z",
     "start_time": "2025-08-12T07:02:40.381386600Z"
    }
   },
   "id": "919e298a8aa865c0"
  },
  {
   "cell_type": "code",
   "execution_count": 13,
   "outputs": [],
   "source": [
    "# Save the merged dataset to a CSV file\n",
    "merged_df.to_csv('Clean-data/merged_dataset.csv', index=False)"
   ],
   "metadata": {
    "collapsed": false,
    "ExecuteTime": {
     "end_time": "2025-08-12T02:47:11.564285400Z",
     "start_time": "2025-08-12T02:47:09.848751900Z"
    }
   },
   "id": "8ffcb61aba3057b0"
  },
  {
   "cell_type": "markdown",
   "source": [
    "### Model Training"
   ],
   "metadata": {
    "collapsed": false
   },
   "id": "ab3a89ad000a5e3f"
  },
  {
   "cell_type": "code",
   "execution_count": 2,
   "outputs": [
    {
     "name": "stdout",
     "output_type": "stream",
     "text": [
      "Label mapping: {np.int64(1): 0, np.int64(2): 1, np.int64(3): 2, np.int64(4): 3}\n",
      "Balanced accuracy: 0.2647\n",
      "F1 macro: 0.2407\n",
      "Confusion matrix:\n",
      " [[    1   190   561     0]\n",
      " [    0  1546 12196     0]\n",
      " [    0  1442 24805     0]\n",
      " [    0     0     1     0]]\n",
      "\n",
      "Classification report:\n",
      "               precision    recall  f1-score   support\n",
      "\n",
      "           0       1.00      0.00      0.00       752\n",
      "           1       0.49      0.11      0.18     13742\n",
      "           2       0.66      0.95      0.78     26247\n",
      "           3       0.00      0.00      0.00         1\n",
      "\n",
      "    accuracy                           0.65     40742\n",
      "   macro avg       0.54      0.26      0.24     40742\n",
      "weighted avg       0.61      0.65      0.56     40742\n"
     ]
    }
   ],
   "source": [
    "df = pd.read_csv(\"Clean-data/merged_dataset.csv\", low_memory=False)\n",
    "TARGET = \"SEVERITY\"\n",
    "feature_cols = [\n",
    "    'Day Week Description','LIGHT_CONDITION','SPEED_ZONE',\n",
    "    'ACCIDENT_TIME_HOUR','ACCIDENT_TIME_MONTH','IS_WEEKEND',\n",
    "    'ATMOSPH_COND','SURFACE_COND','OPERATOR_MEDIAN_AGE'\n",
    "]\n",
    "feature_cols = [c for c in feature_cols if c in df.columns]\n",
    "# Drop the target column\n",
    "df = df[df[TARGET].notna()].copy()\n",
    "# Encode target started with 0\n",
    "le = LabelEncoder()\n",
    "y_enc = le.fit_transform(df[TARGET])\n",
    "print(\"Label mapping:\", dict(zip(le.classes_, range(len(le.classes_)))))\n",
    "\n",
    "# Split the training and validation set 80/20\n",
    "X = df[feature_cols].copy()\n",
    "X_train, X_validate, y_train, y_validate = train_test_split(X, y_enc, test_size=0.2, random_state=42)\n",
    "# Preprocess (One-hot encoding for category columns, remain columns which non-category exactly they are )\n",
    "num_features = [c for c in feature_cols if pd.api.types.is_numeric_dtype(df[c])]\n",
    "cat_features = [c for c in feature_cols if c not in num_features]\n",
    "prep = ColumnTransformer(\n",
    "    transformers=[(\"cat\", OneHotEncoder(handle_unknown=\"ignore\", sparse_output=False), cat_features)],\n",
    "    remainder=\"passthrough\"\n",
    ")\n",
    "\n",
    "# Train with early stopping\n",
    "prep.fit(X_train)\n",
    "Xtr = prep.transform(X_train)\n",
    "Xva = prep.transform(X_validate)\n",
    "\n",
    "# Automatically handles missing values, since there are some missing in the avg_operator_age\n",
    "dtrain = xgb.DMatrix(Xtr, label=y_train)\n",
    "dvalid = xgb.DMatrix(Xva, label=y_validate)\n",
    "params = {\n",
    "    \"objective\": \"multi:softprob\",\n",
    "    \"num_class\": len(le.classes_),\n",
    "    \"eval_metric\": \"mlogloss\",\n",
    "    \"eta\": 0.05,\n",
    "    \"max_depth\": 6,\n",
    "    \"min_child_weight\": 2,\n",
    "    \"subsample\": 0.9,\n",
    "    \"colsample_bytree\": 0.8,\n",
    "    \"lambda\": 1.0,\n",
    "    \"tree_method\": \"hist\",\n",
    "    'device': 'gpu',\n",
    "    \"seed\": 42,\n",
    "}\n",
    "\n",
    "booster = xgb.train(\n",
    "    params, dtrain,\n",
    "    num_boost_round=2000,\n",
    "    evals=[(dtrain,\"train\"), (dvalid,\"valid\")],\n",
    "    early_stopping_rounds=50,\n",
    "    verbose_eval=False\n",
    ")\n",
    "\n",
    "# Evaluate\n",
    "y_prediction = np.argmax(booster.predict(dvalid, iteration_range=(0, booster.best_iteration+1)), axis=1)\n",
    "\n",
    "print(\"Balanced accuracy:\", round(balanced_accuracy_score(y_validate, y_prediction), 4))\n",
    "print(\"F1 macro:\", round(f1_score(y_validate, y_prediction, average='macro'), 4))\n",
    "print(\"Confusion matrix:\\n\", confusion_matrix(y_validate, y_prediction))\n",
    "print(\"\\nClassification report:\\n\", classification_report(y_validate, y_prediction))\n"
   ],
   "metadata": {
    "collapsed": false,
    "ExecuteTime": {
     "end_time": "2025-08-12T07:23:17.455645500Z",
     "start_time": "2025-08-12T07:23:11.633014100Z"
    }
   },
   "id": "f7273734de3eef42"
  },
  {
   "cell_type": "markdown",
   "source": [
    "### Evaluate the feature importance"
   ],
   "metadata": {
    "collapsed": false
   },
   "id": "829cabecb65e4b40"
  },
  {
   "cell_type": "code",
   "execution_count": 3,
   "outputs": [
    {
     "name": "stdout",
     "output_type": "stream",
     "text": [
      "                           feature  importance\n",
      "0                       SPEED_ZONE    7.085172\n",
      "1                  LIGHT_CONDITION    5.133157\n",
      "2               ACCIDENT_TIME_HOUR    2.575880\n",
      "3      Day Week Description_Sunday    2.464640\n",
      "4                       IS_WEEKEND    2.405156\n",
      "5              OPERATOR_MEDIAN_AGE    2.268200\n",
      "6    Day Week Description_Saturday    2.100490\n",
      "7      Day Week Description_Monday    2.002478\n",
      "8      Day Week Description_Friday    1.893016\n",
      "9                     SURFACE_COND    1.566349\n",
      "10             ACCIDENT_TIME_MONTH    1.459789\n",
      "11                    ATMOSPH_COND    1.440022\n",
      "12  Day Week Description_Wednesday    1.359465\n",
      "13    Day Week Description_Tuesday    1.356271\n",
      "14   Day Week Description_Thursday    1.351852\n"
     ]
    },
    {
     "data": {
      "text/plain": "<Axes: xlabel='feature'>"
     },
     "execution_count": 3,
     "metadata": {},
     "output_type": "execute_result"
    },
    {
     "data": {
      "text/plain": "<Figure size 1000x400 with 1 Axes>",
      "image/png": "[encoded data removed]"
     },
     "metadata": {},
     "output_type": "display_data"
    }
   ],
   "source": [
    "# Get final feature names from the fitted ColumnTransformer\n",
    "cat_names = prep.named_transformers_[\"cat\"].get_feature_names_out(cat_features) if cat_features else np.array([])\n",
    "feature_names = np.array(list(cat_names) + num_features)\n",
    "# Get importance from booster\n",
    "raw_importance = booster.get_score(importance_type=\"gain\")  \n",
    "# Map to real feature names\n",
    "pairs = []\n",
    "for k, v in raw_importance.items():\n",
    "    idx = int(k[1:])  # drop the 'f'\n",
    "    pairs.append((feature_names[idx], v))\n",
    "\n",
    "feat_importance = (\n",
    "    pd.DataFrame(pairs, columns=[\"feature\", \"importance\"])\n",
    "    .sort_values(\"importance\", ascending=False)\n",
    "    .reset_index(drop=True)\n",
    ")\n",
    "# Print Top 20\n",
    "print(feat_importance.head(20))\n",
    "# Plot Top 20\n",
    "feat_importance.head(20).plot.bar(x=\"feature\", y=\"importance\", figsize=(10, 4), legend=False, rot=60)"
   ],
   "metadata": {
    "collapsed": false,
    "ExecuteTime": {
     "end_time": "2025-08-12T07:23:21.259060100Z",
     "start_time": "2025-08-12T07:23:21.015830300Z"
    }
   },
   "id": "a4c32024e97ca878"
  },
  {
   "cell_type": "code",
   "execution_count": 4,
   "outputs": [
    {
     "name": "stdout",
     "output_type": "stream",
     "text": [
      "\n",
      "=== cat__Day Week Description_Friday — Top 8 values by mean|SHAP| ===\n",
      " value  mean_abs_shap  count\n",
      "   1.0       0.027861   6575\n",
      "   0.0       0.006429  34167\n",
      "\n",
      "=== cat__Day Week Description_Monday — Top 8 values by mean|SHAP| ===\n",
      " value  mean_abs_shap  count\n",
      "   1.0       0.024001   5446\n",
      "   0.0       0.004585  35296\n",
      "\n",
      "=== cat__Day Week Description_Saturday — Top 8 values by mean|SHAP| ===\n",
      " value  mean_abs_shap  count\n",
      "   1.0       0.033354   5750\n",
      "   0.0       0.006085  34992\n",
      "\n",
      "=== cat__Day Week Description_Sunday — Top 8 values by mean|SHAP| ===\n",
      " value  mean_abs_shap  count\n",
      "   1.0       0.038326   5024\n",
      "   0.0       0.005657  35718\n",
      "\n",
      "=== cat__Day Week Description_Thursday — Top 8 values by mean|SHAP| ===\n",
      " value  mean_abs_shap  count\n",
      "   1.0       0.008923   6118\n",
      "   0.0       0.001555  34624\n",
      "\n",
      "=== cat__Day Week Description_Tuesday — Top 8 values by mean|SHAP| ===\n",
      " value  mean_abs_shap  count\n",
      "   1.0       0.010152   5830\n",
      "   0.0       0.001503  34912\n",
      "\n",
      "=== cat__Day Week Description_Wednesday — Top 8 values by mean|SHAP| ===\n",
      " value  mean_abs_shap  count\n",
      "   1.0       0.044194   5999\n",
      "   0.0       0.007711  34743\n",
      "\n",
      "=== remainder__LIGHT_CONDITION — Top 8 values by mean|SHAP| ===\n",
      " value  mean_abs_shap  count\n",
      "   6.0       0.231805    669\n",
      "   5.0       0.179639   2324\n",
      "   4.0       0.175570     97\n",
      "   3.0       0.076340   6631\n",
      "   2.0       0.064979   3288\n",
      "   1.0       0.037311  27733\n",
      "\n",
      "=== remainder__SPEED_ZONE — Top 8 values by mean|SHAP| ===\n",
      " value  mean_abs_shap  count\n",
      " 100.0       0.333442   6310\n",
      " 777.0       0.315786     41\n",
      "  40.0       0.311717   1771\n",
      " 110.0       0.278508    460\n",
      "  90.0       0.278354    201\n",
      " 888.0       0.277483    189\n",
      "  30.0       0.272905     52\n",
      "  50.0       0.207138   7500\n",
      "\n",
      "=== remainder__ACCIDENT_TIME_HOUR — Top 8 values by mean|SHAP| ===\n",
      " value  mean_abs_shap  count\n",
      "  23.0       0.316466    765\n",
      "   2.0       0.240470    419\n",
      "   3.0       0.239441    388\n",
      "   4.0       0.230103    357\n",
      "   5.0       0.221670    544\n",
      "   1.0       0.205912    515\n",
      "   0.0       0.175043    640\n",
      "   6.0       0.126140   1154\n",
      "\n",
      "=== remainder__ACCIDENT_TIME_MONTH — Top 8 values by mean|SHAP| ===\n",
      " value  mean_abs_shap  count\n",
      "   4.0       0.038640   3437\n",
      "   8.0       0.030234   3219\n",
      "  12.0       0.029120   3314\n",
      "   7.0       0.026099   3343\n",
      "   3.0       0.024588   3823\n",
      "  11.0       0.023765   3316\n",
      "   6.0       0.022735   3287\n",
      "   1.0       0.022141   3334\n",
      "\n",
      "=== remainder__IS_WEEKEND — Top 8 values by mean|SHAP| ===\n",
      " value  mean_abs_shap  count\n",
      "   1.0       0.017054  17217\n",
      "   0.0       0.015638  23525\n",
      "\n",
      "=== remainder__ATMOSPH_COND — Top 8 values by mean|SHAP| ===\n",
      " value  mean_abs_shap  count\n",
      "  10.0       0.081287     71\n",
      "   7.0       0.073906     72\n",
      "   6.0       0.055459     92\n",
      "   5.0       0.034720     50\n",
      "   4.0       0.031471    279\n",
      "   2.0       0.029658   4381\n",
      "   3.0       0.028703      8\n",
      "   1.0       0.003570  35789\n",
      "\n",
      "=== remainder__SURFACE_COND — Top 8 values by mean|SHAP| ===\n",
      " value  mean_abs_shap  count\n",
      "   4.0       0.224243     18\n",
      "   3.0       0.176273     83\n",
      "  10.0       0.165883     13\n",
      "   5.0       0.153803     58\n",
      "   2.0       0.045311   6510\n",
      "   1.0       0.009130  34060\n",
      "\n",
      "=== remainder__OPERATOR_MEDIAN_AGE — Top 8 values by mean|SHAP| ===\n",
      " value  mean_abs_shap  count\n",
      "  94.0       0.746835      1\n",
      "  93.0       0.732152      5\n",
      "   7.5       0.694281      1\n",
      "   5.0       0.640316      1\n",
      "   9.0       0.635346      2\n",
      "  12.0       0.629507     11\n",
      "  95.0       0.624873      3\n",
      "  96.0       0.621662      1\n"
     ]
    }
   ],
   "source": [
    "# SHAP\n",
    "# Get the features names\n",
    "feature_names = np.array(prep.get_feature_names_out())\n",
    "# Compute SHAP values\n",
    "explainer = shap.TreeExplainer(booster)\n",
    "sv = explainer.shap_values(Xva)  # may be list or ndarray with shape (N,F,K) or (N,K,F) or (N,F)\n",
    "\n",
    "# Normalize SHAP shape to (N, F, K)\n",
    "def to_nfk(sv):\n",
    "    if isinstance(sv, list):\n",
    "        arr = np.stack(sv, axis=0)  # (K, N, F)\n",
    "        return np.transpose(arr, (1, 2, 0))  # (N, F, K)\n",
    "    sv = np.asarray(sv)\n",
    "    if sv.ndim == 3:\n",
    "        N, A, B = sv.shape\n",
    "        if A == Xva.shape[1]:  # (N, F, K)\n",
    "            return sv\n",
    "        elif B == Xva.shape[1]:  # (N, K, F) -> (N, F, K)\n",
    "            return np.transpose(sv, (0, 2, 1))\n",
    "    elif sv.ndim == 2:  # binary classification\n",
    "        return sv[:, :, None]\n",
    "    raise RuntimeError(f\"Unexpected SHAP shape: {sv.shape}\")\n",
    "\n",
    "sv_nfk = to_nfk(sv)  # (N, F, K)\n",
    "\n",
    "# importance value function\n",
    "def per_value_overall_importance(Xmat, sv_nfk, col_idx, feature_name):\n",
    "    per_sample_mean_abs = np.abs(sv_nfk[:, col_idx, :]).mean(axis=1)  # (N,)\n",
    "    vals = Xmat[:, col_idx]\n",
    "    df = (pd.DataFrame({\"value\": vals, \"abs_shap\": per_sample_mean_abs})\n",
    "          .groupby(\"value\", dropna=False)\n",
    "          .agg(mean_abs_shap=(\"abs_shap\", \"mean\"),\n",
    "               count=(\"abs_shap\", \"size\"))\n",
    "          .sort_values(\"mean_abs_shap\", ascending=False)\n",
    "          .reset_index())\n",
    "    return df\n",
    "\n",
    "# Loop through features and print top values\n",
    "TOP_N = 8\n",
    "for i, fname in enumerate(feature_names):\n",
    "    df_imp = per_value_overall_importance(Xva, sv_nfk, i, fname)\n",
    "    print(f\"\\n=== {fname} — Top {TOP_N} values by mean|SHAP| ===\")\n",
    "    print(df_imp.head(TOP_N).to_string(index=False))\n"
   ],
   "metadata": {
    "collapsed": false,
    "ExecuteTime": {
     "end_time": "2025-08-12T07:24:35.562488700Z",
     "start_time": "2025-08-12T07:24:34.250102700Z"
    }
   },
   "id": "532ab18796426ee3"
  }
 ],
 "metadata": {
  "kernelspec": {
   "display_name": "Python 3",
   "language": "python",
   "name": "python3"
  },
  "language_info": {
   "codemirror_mode": {
    "name": "ipython",
    "version": 2
   },
   "file_extension": ".py",
   "mimetype": "text/x-python",
   "name": "python",
   "nbconvert_exporter": "python",
   "pygments_lexer": "ipython2",
   "version": "2.7.6"
  }
 },
 "nbformat": 4,
 "nbformat_minor": 5
}
